{
 "cells": [
  {
   "cell_type": "code",
   "execution_count": 43,
   "metadata": {
    "executionInfo": {
     "elapsed": 586,
     "status": "ok",
     "timestamp": 1748206972022,
     "user": {
      "displayName": "Haya Osama",
      "userId": "01148458632490027462"
     },
     "user_tz": -180
    },
    "id": "J-tooIZmUfY8"
   },
   "outputs": [],
   "source": [
    "import pandas as pd\n",
    "import numpy as np\n",
    "from sklearn.model_selection import train_test_split\n",
    "from sklearn.preprocessing import StandardScaler\n",
    "from sklearn.linear_model import LinearRegression, Ridge, Lasso\n",
    "from sklearn.metrics import mean_squared_error, r2_score\n",
    "from sklearn.model_selection import GridSearchCV\n",
    "from sklearn.neighbors import KNeighborsRegressor\n",
    "from sklearn.svm import SVR"
   ]
  },
  {
   "cell_type": "code",
   "execution_count": 41,
   "metadata": {
    "colab": {
     "base_uri": "https://localhost:8080/",
     "height": 447
    },
    "executionInfo": {
     "elapsed": 88,
     "status": "ok",
     "timestamp": 1748206688921,
     "user": {
      "displayName": "Haya Osama",
      "userId": "01148458632490027462"
     },
     "user_tz": -180
    },
    "id": "_9ygvC7CzXv3",
    "outputId": "a24900e8-2a46-4341-f215-2182b63d977e"
   },
   "outputs": [
    {
     "data": {
      "application/vnd.google.colaboratory.intrinsic+json": {
       "type": "dataframe",
       "variable_name": "df"
      },
      "text/html": [
       "\n",
       "  <div id=\"df-8bcc5cf9-1f54-4eee-8339-31da83238655\" class=\"colab-df-container\">\n",
       "    <div>\n",
       "<style scoped>\n",
       "    .dataframe tbody tr th:only-of-type {\n",
       "        vertical-align: middle;\n",
       "    }\n",
       "\n",
       "    .dataframe tbody tr th {\n",
       "        vertical-align: top;\n",
       "    }\n",
       "\n",
       "    .dataframe thead th {\n",
       "        text-align: right;\n",
       "    }\n",
       "</style>\n",
       "<table border=\"1\" class=\"dataframe\">\n",
       "  <thead>\n",
       "    <tr style=\"text-align: right;\">\n",
       "      <th></th>\n",
       "      <th>Gender</th>\n",
       "      <th>Age</th>\n",
       "      <th>Sleep Duration</th>\n",
       "      <th>Quality of Sleep</th>\n",
       "      <th>Physical Activity Level</th>\n",
       "      <th>Stress Level</th>\n",
       "      <th>BMI Category</th>\n",
       "      <th>Blood Pressure</th>\n",
       "      <th>Heart Rate</th>\n",
       "      <th>Daily Steps</th>\n",
       "      <th>...</th>\n",
       "      <th>Occupation_Manual Labor</th>\n",
       "      <th>Occupation_Nurse</th>\n",
       "      <th>Occupation_Office Worker</th>\n",
       "      <th>Occupation_Retired</th>\n",
       "      <th>Occupation_Sales Representative</th>\n",
       "      <th>Occupation_Salesperson</th>\n",
       "      <th>Occupation_Scientist</th>\n",
       "      <th>Occupation_Software Engineer</th>\n",
       "      <th>Occupation_Student</th>\n",
       "      <th>Occupation_Teacher</th>\n",
       "    </tr>\n",
       "  </thead>\n",
       "  <tbody>\n",
       "    <tr>\n",
       "      <th>0</th>\n",
       "      <td>1</td>\n",
       "      <td>28</td>\n",
       "      <td>6.348132</td>\n",
       "      <td>6.084072</td>\n",
       "      <td>60</td>\n",
       "      <td>7.881894</td>\n",
       "      <td>1</td>\n",
       "      <td>1.531428</td>\n",
       "      <td>75.378045</td>\n",
       "      <td>10000</td>\n",
       "      <td>...</td>\n",
       "      <td>0.0</td>\n",
       "      <td>0.0</td>\n",
       "      <td>0.0</td>\n",
       "      <td>0.0</td>\n",
       "      <td>0.0</td>\n",
       "      <td>0.0</td>\n",
       "      <td>0.0</td>\n",
       "      <td>0.0</td>\n",
       "      <td>0.0</td>\n",
       "      <td>0.0</td>\n",
       "    </tr>\n",
       "    <tr>\n",
       "      <th>1</th>\n",
       "      <td>1</td>\n",
       "      <td>28</td>\n",
       "      <td>5.772965</td>\n",
       "      <td>3.923722</td>\n",
       "      <td>30</td>\n",
       "      <td>7.866849</td>\n",
       "      <td>3</td>\n",
       "      <td>1.546163</td>\n",
       "      <td>84.411611</td>\n",
       "      <td>3000</td>\n",
       "      <td>...</td>\n",
       "      <td>0.0</td>\n",
       "      <td>0.0</td>\n",
       "      <td>0.0</td>\n",
       "      <td>0.0</td>\n",
       "      <td>1.0</td>\n",
       "      <td>0.0</td>\n",
       "      <td>0.0</td>\n",
       "      <td>0.0</td>\n",
       "      <td>0.0</td>\n",
       "      <td>0.0</td>\n",
       "    </tr>\n",
       "    <tr>\n",
       "      <th>2</th>\n",
       "      <td>1</td>\n",
       "      <td>28</td>\n",
       "      <td>5.711084</td>\n",
       "      <td>4.041756</td>\n",
       "      <td>30</td>\n",
       "      <td>8.279572</td>\n",
       "      <td>3</td>\n",
       "      <td>1.573713</td>\n",
       "      <td>83.604631</td>\n",
       "      <td>3000</td>\n",
       "      <td>...</td>\n",
       "      <td>0.0</td>\n",
       "      <td>0.0</td>\n",
       "      <td>0.0</td>\n",
       "      <td>0.0</td>\n",
       "      <td>0.0</td>\n",
       "      <td>0.0</td>\n",
       "      <td>0.0</td>\n",
       "      <td>1.0</td>\n",
       "      <td>0.0</td>\n",
       "      <td>0.0</td>\n",
       "    </tr>\n",
       "    <tr>\n",
       "      <th>3</th>\n",
       "      <td>1</td>\n",
       "      <td>29</td>\n",
       "      <td>6.269416</td>\n",
       "      <td>5.972477</td>\n",
       "      <td>30</td>\n",
       "      <td>7.786505</td>\n",
       "      <td>1</td>\n",
       "      <td>1.497059</td>\n",
       "      <td>71.373379</td>\n",
       "      <td>8000</td>\n",
       "      <td>...</td>\n",
       "      <td>0.0</td>\n",
       "      <td>0.0</td>\n",
       "      <td>0.0</td>\n",
       "      <td>0.0</td>\n",
       "      <td>0.0</td>\n",
       "      <td>0.0</td>\n",
       "      <td>0.0</td>\n",
       "      <td>0.0</td>\n",
       "      <td>0.0</td>\n",
       "      <td>0.0</td>\n",
       "    </tr>\n",
       "    <tr>\n",
       "      <th>4</th>\n",
       "      <td>1</td>\n",
       "      <td>29</td>\n",
       "      <td>5.813854</td>\n",
       "      <td>5.817291</td>\n",
       "      <td>30</td>\n",
       "      <td>8.025592</td>\n",
       "      <td>1</td>\n",
       "      <td>1.481571</td>\n",
       "      <td>70.518894</td>\n",
       "      <td>8000</td>\n",
       "      <td>...</td>\n",
       "      <td>0.0</td>\n",
       "      <td>0.0</td>\n",
       "      <td>0.0</td>\n",
       "      <td>0.0</td>\n",
       "      <td>0.0</td>\n",
       "      <td>0.0</td>\n",
       "      <td>0.0</td>\n",
       "      <td>0.0</td>\n",
       "      <td>0.0</td>\n",
       "      <td>0.0</td>\n",
       "    </tr>\n",
       "    <tr>\n",
       "      <th>5</th>\n",
       "      <td>1</td>\n",
       "      <td>31</td>\n",
       "      <td>6.166167</td>\n",
       "      <td>5.870846</td>\n",
       "      <td>30</td>\n",
       "      <td>8.531159</td>\n",
       "      <td>1</td>\n",
       "      <td>1.557960</td>\n",
       "      <td>69.996575</td>\n",
       "      <td>5000</td>\n",
       "      <td>...</td>\n",
       "      <td>0.0</td>\n",
       "      <td>0.0</td>\n",
       "      <td>0.0</td>\n",
       "      <td>0.0</td>\n",
       "      <td>0.0</td>\n",
       "      <td>0.0</td>\n",
       "      <td>0.0</td>\n",
       "      <td>0.0</td>\n",
       "      <td>0.0</td>\n",
       "      <td>0.0</td>\n",
       "    </tr>\n",
       "    <tr>\n",
       "      <th>6</th>\n",
       "      <td>1</td>\n",
       "      <td>32</td>\n",
       "      <td>5.884381</td>\n",
       "      <td>6.019745</td>\n",
       "      <td>30</td>\n",
       "      <td>7.927514</td>\n",
       "      <td>1</td>\n",
       "      <td>1.565209</td>\n",
       "      <td>71.252034</td>\n",
       "      <td>5000</td>\n",
       "      <td>...</td>\n",
       "      <td>0.0</td>\n",
       "      <td>0.0</td>\n",
       "      <td>0.0</td>\n",
       "      <td>0.0</td>\n",
       "      <td>0.0</td>\n",
       "      <td>0.0</td>\n",
       "      <td>0.0</td>\n",
       "      <td>0.0</td>\n",
       "      <td>0.0</td>\n",
       "      <td>0.0</td>\n",
       "    </tr>\n",
       "    <tr>\n",
       "      <th>7</th>\n",
       "      <td>1</td>\n",
       "      <td>32</td>\n",
       "      <td>6.187736</td>\n",
       "      <td>6.088069</td>\n",
       "      <td>30</td>\n",
       "      <td>8.271301</td>\n",
       "      <td>1</td>\n",
       "      <td>1.561275</td>\n",
       "      <td>72.228265</td>\n",
       "      <td>5000</td>\n",
       "      <td>...</td>\n",
       "      <td>0.0</td>\n",
       "      <td>0.0</td>\n",
       "      <td>0.0</td>\n",
       "      <td>0.0</td>\n",
       "      <td>0.0</td>\n",
       "      <td>0.0</td>\n",
       "      <td>0.0</td>\n",
       "      <td>0.0</td>\n",
       "      <td>0.0</td>\n",
       "      <td>0.0</td>\n",
       "    </tr>\n",
       "    <tr>\n",
       "      <th>8</th>\n",
       "      <td>1</td>\n",
       "      <td>33</td>\n",
       "      <td>5.583343</td>\n",
       "      <td>6.086464</td>\n",
       "      <td>30</td>\n",
       "      <td>8.011148</td>\n",
       "      <td>1</td>\n",
       "      <td>1.572911</td>\n",
       "      <td>72.261450</td>\n",
       "      <td>5000</td>\n",
       "      <td>...</td>\n",
       "      <td>0.0</td>\n",
       "      <td>0.0</td>\n",
       "      <td>0.0</td>\n",
       "      <td>0.0</td>\n",
       "      <td>0.0</td>\n",
       "      <td>0.0</td>\n",
       "      <td>0.0</td>\n",
       "      <td>0.0</td>\n",
       "      <td>0.0</td>\n",
       "      <td>0.0</td>\n",
       "    </tr>\n",
       "    <tr>\n",
       "      <th>9</th>\n",
       "      <td>1</td>\n",
       "      <td>33</td>\n",
       "      <td>6.120366</td>\n",
       "      <td>6.227861</td>\n",
       "      <td>30</td>\n",
       "      <td>8.103405</td>\n",
       "      <td>1</td>\n",
       "      <td>1.581052</td>\n",
       "      <td>71.824016</td>\n",
       "      <td>5000</td>\n",
       "      <td>...</td>\n",
       "      <td>0.0</td>\n",
       "      <td>0.0</td>\n",
       "      <td>0.0</td>\n",
       "      <td>0.0</td>\n",
       "      <td>0.0</td>\n",
       "      <td>0.0</td>\n",
       "      <td>0.0</td>\n",
       "      <td>0.0</td>\n",
       "      <td>0.0</td>\n",
       "      <td>0.0</td>\n",
       "    </tr>\n",
       "  </tbody>\n",
       "</table>\n",
       "<p>10 rows × 25 columns</p>\n",
       "</div>\n",
       "    <div class=\"colab-df-buttons\">\n",
       "\n",
       "  <div class=\"colab-df-container\">\n",
       "    <button class=\"colab-df-convert\" onclick=\"convertToInteractive('df-8bcc5cf9-1f54-4eee-8339-31da83238655')\"\n",
       "            title=\"Convert this dataframe to an interactive table.\"\n",
       "            style=\"display:none;\">\n",
       "\n",
       "  <svg xmlns=\"http://www.w3.org/2000/svg\" height=\"24px\" viewBox=\"0 -960 960 960\">\n",
       "    <path d=\"M120-120v-720h720v720H120Zm60-500h600v-160H180v160Zm220 220h160v-160H400v160Zm0 220h160v-160H400v160ZM180-400h160v-160H180v160Zm440 0h160v-160H620v160ZM180-180h160v-160H180v160Zm440 0h160v-160H620v160Z\"/>\n",
       "  </svg>\n",
       "    </button>\n",
       "\n",
       "  <style>\n",
       "    .colab-df-container {\n",
       "      display:flex;\n",
       "      gap: 12px;\n",
       "    }\n",
       "\n",
       "    .colab-df-convert {\n",
       "      background-color: #E8F0FE;\n",
       "      border: none;\n",
       "      border-radius: 50%;\n",
       "      cursor: pointer;\n",
       "      display: none;\n",
       "      fill: #1967D2;\n",
       "      height: 32px;\n",
       "      padding: 0 0 0 0;\n",
       "      width: 32px;\n",
       "    }\n",
       "\n",
       "    .colab-df-convert:hover {\n",
       "      background-color: #E2EBFA;\n",
       "      box-shadow: 0px 1px 2px rgba(60, 64, 67, 0.3), 0px 1px 3px 1px rgba(60, 64, 67, 0.15);\n",
       "      fill: #174EA6;\n",
       "    }\n",
       "\n",
       "    .colab-df-buttons div {\n",
       "      margin-bottom: 4px;\n",
       "    }\n",
       "\n",
       "    [theme=dark] .colab-df-convert {\n",
       "      background-color: #3B4455;\n",
       "      fill: #D2E3FC;\n",
       "    }\n",
       "\n",
       "    [theme=dark] .colab-df-convert:hover {\n",
       "      background-color: #434B5C;\n",
       "      box-shadow: 0px 1px 3px 1px rgba(0, 0, 0, 0.15);\n",
       "      filter: drop-shadow(0px 1px 2px rgba(0, 0, 0, 0.3));\n",
       "      fill: #FFFFFF;\n",
       "    }\n",
       "  </style>\n",
       "\n",
       "    <script>\n",
       "      const buttonEl =\n",
       "        document.querySelector('#df-8bcc5cf9-1f54-4eee-8339-31da83238655 button.colab-df-convert');\n",
       "      buttonEl.style.display =\n",
       "        google.colab.kernel.accessAllowed ? 'block' : 'none';\n",
       "\n",
       "      async function convertToInteractive(key) {\n",
       "        const element = document.querySelector('#df-8bcc5cf9-1f54-4eee-8339-31da83238655');\n",
       "        const dataTable =\n",
       "          await google.colab.kernel.invokeFunction('convertToInteractive',\n",
       "                                                    [key], {});\n",
       "        if (!dataTable) return;\n",
       "\n",
       "        const docLinkHtml = 'Like what you see? Visit the ' +\n",
       "          '<a target=\"_blank\" href=https://colab.research.google.com/notebooks/data_table.ipynb>data table notebook</a>'\n",
       "          + ' to learn more about interactive tables.';\n",
       "        element.innerHTML = '';\n",
       "        dataTable['output_type'] = 'display_data';\n",
       "        await google.colab.output.renderOutput(dataTable, element);\n",
       "        const docLink = document.createElement('div');\n",
       "        docLink.innerHTML = docLinkHtml;\n",
       "        element.appendChild(docLink);\n",
       "      }\n",
       "    </script>\n",
       "  </div>\n",
       "\n",
       "\n",
       "    <div id=\"df-cab8b503-17aa-4e12-b65d-3d38805df680\">\n",
       "      <button class=\"colab-df-quickchart\" onclick=\"quickchart('df-cab8b503-17aa-4e12-b65d-3d38805df680')\"\n",
       "                title=\"Suggest charts\"\n",
       "                style=\"display:none;\">\n",
       "\n",
       "<svg xmlns=\"http://www.w3.org/2000/svg\" height=\"24px\"viewBox=\"0 0 24 24\"\n",
       "     width=\"24px\">\n",
       "    <g>\n",
       "        <path d=\"M19 3H5c-1.1 0-2 .9-2 2v14c0 1.1.9 2 2 2h14c1.1 0 2-.9 2-2V5c0-1.1-.9-2-2-2zM9 17H7v-7h2v7zm4 0h-2V7h2v10zm4 0h-2v-4h2v4z\"/>\n",
       "    </g>\n",
       "</svg>\n",
       "      </button>\n",
       "\n",
       "<style>\n",
       "  .colab-df-quickchart {\n",
       "      --bg-color: #E8F0FE;\n",
       "      --fill-color: #1967D2;\n",
       "      --hover-bg-color: #E2EBFA;\n",
       "      --hover-fill-color: #174EA6;\n",
       "      --disabled-fill-color: #AAA;\n",
       "      --disabled-bg-color: #DDD;\n",
       "  }\n",
       "\n",
       "  [theme=dark] .colab-df-quickchart {\n",
       "      --bg-color: #3B4455;\n",
       "      --fill-color: #D2E3FC;\n",
       "      --hover-bg-color: #434B5C;\n",
       "      --hover-fill-color: #FFFFFF;\n",
       "      --disabled-bg-color: #3B4455;\n",
       "      --disabled-fill-color: #666;\n",
       "  }\n",
       "\n",
       "  .colab-df-quickchart {\n",
       "    background-color: var(--bg-color);\n",
       "    border: none;\n",
       "    border-radius: 50%;\n",
       "    cursor: pointer;\n",
       "    display: none;\n",
       "    fill: var(--fill-color);\n",
       "    height: 32px;\n",
       "    padding: 0;\n",
       "    width: 32px;\n",
       "  }\n",
       "\n",
       "  .colab-df-quickchart:hover {\n",
       "    background-color: var(--hover-bg-color);\n",
       "    box-shadow: 0 1px 2px rgba(60, 64, 67, 0.3), 0 1px 3px 1px rgba(60, 64, 67, 0.15);\n",
       "    fill: var(--button-hover-fill-color);\n",
       "  }\n",
       "\n",
       "  .colab-df-quickchart-complete:disabled,\n",
       "  .colab-df-quickchart-complete:disabled:hover {\n",
       "    background-color: var(--disabled-bg-color);\n",
       "    fill: var(--disabled-fill-color);\n",
       "    box-shadow: none;\n",
       "  }\n",
       "\n",
       "  .colab-df-spinner {\n",
       "    border: 2px solid var(--fill-color);\n",
       "    border-color: transparent;\n",
       "    border-bottom-color: var(--fill-color);\n",
       "    animation:\n",
       "      spin 1s steps(1) infinite;\n",
       "  }\n",
       "\n",
       "  @keyframes spin {\n",
       "    0% {\n",
       "      border-color: transparent;\n",
       "      border-bottom-color: var(--fill-color);\n",
       "      border-left-color: var(--fill-color);\n",
       "    }\n",
       "    20% {\n",
       "      border-color: transparent;\n",
       "      border-left-color: var(--fill-color);\n",
       "      border-top-color: var(--fill-color);\n",
       "    }\n",
       "    30% {\n",
       "      border-color: transparent;\n",
       "      border-left-color: var(--fill-color);\n",
       "      border-top-color: var(--fill-color);\n",
       "      border-right-color: var(--fill-color);\n",
       "    }\n",
       "    40% {\n",
       "      border-color: transparent;\n",
       "      border-right-color: var(--fill-color);\n",
       "      border-top-color: var(--fill-color);\n",
       "    }\n",
       "    60% {\n",
       "      border-color: transparent;\n",
       "      border-right-color: var(--fill-color);\n",
       "    }\n",
       "    80% {\n",
       "      border-color: transparent;\n",
       "      border-right-color: var(--fill-color);\n",
       "      border-bottom-color: var(--fill-color);\n",
       "    }\n",
       "    90% {\n",
       "      border-color: transparent;\n",
       "      border-bottom-color: var(--fill-color);\n",
       "    }\n",
       "  }\n",
       "</style>\n",
       "\n",
       "      <script>\n",
       "        async function quickchart(key) {\n",
       "          const quickchartButtonEl =\n",
       "            document.querySelector('#' + key + ' button');\n",
       "          quickchartButtonEl.disabled = true;  // To prevent multiple clicks.\n",
       "          quickchartButtonEl.classList.add('colab-df-spinner');\n",
       "          try {\n",
       "            const charts = await google.colab.kernel.invokeFunction(\n",
       "                'suggestCharts', [key], {});\n",
       "          } catch (error) {\n",
       "            console.error('Error during call to suggestCharts:', error);\n",
       "          }\n",
       "          quickchartButtonEl.classList.remove('colab-df-spinner');\n",
       "          quickchartButtonEl.classList.add('colab-df-quickchart-complete');\n",
       "        }\n",
       "        (() => {\n",
       "          let quickchartButtonEl =\n",
       "            document.querySelector('#df-cab8b503-17aa-4e12-b65d-3d38805df680 button');\n",
       "          quickchartButtonEl.style.display =\n",
       "            google.colab.kernel.accessAllowed ? 'block' : 'none';\n",
       "        })();\n",
       "      </script>\n",
       "    </div>\n",
       "\n",
       "    </div>\n",
       "  </div>\n"
      ],
      "text/plain": [
       "   Gender  Age  Sleep Duration  Quality of Sleep  Physical Activity Level  \\\n",
       "0       1   28        6.348132          6.084072                       60   \n",
       "1       1   28        5.772965          3.923722                       30   \n",
       "2       1   28        5.711084          4.041756                       30   \n",
       "3       1   29        6.269416          5.972477                       30   \n",
       "4       1   29        5.813854          5.817291                       30   \n",
       "5       1   31        6.166167          5.870846                       30   \n",
       "6       1   32        5.884381          6.019745                       30   \n",
       "7       1   32        6.187736          6.088069                       30   \n",
       "8       1   33        5.583343          6.086464                       30   \n",
       "9       1   33        6.120366          6.227861                       30   \n",
       "\n",
       "   Stress Level  BMI Category  Blood Pressure  Heart Rate  Daily Steps  ...  \\\n",
       "0      7.881894             1        1.531428   75.378045        10000  ...   \n",
       "1      7.866849             3        1.546163   84.411611         3000  ...   \n",
       "2      8.279572             3        1.573713   83.604631         3000  ...   \n",
       "3      7.786505             1        1.497059   71.373379         8000  ...   \n",
       "4      8.025592             1        1.481571   70.518894         8000  ...   \n",
       "5      8.531159             1        1.557960   69.996575         5000  ...   \n",
       "6      7.927514             1        1.565209   71.252034         5000  ...   \n",
       "7      8.271301             1        1.561275   72.228265         5000  ...   \n",
       "8      8.011148             1        1.572911   72.261450         5000  ...   \n",
       "9      8.103405             1        1.581052   71.824016         5000  ...   \n",
       "\n",
       "   Occupation_Manual Labor  Occupation_Nurse  Occupation_Office Worker  \\\n",
       "0                      0.0               0.0                       0.0   \n",
       "1                      0.0               0.0                       0.0   \n",
       "2                      0.0               0.0                       0.0   \n",
       "3                      0.0               0.0                       0.0   \n",
       "4                      0.0               0.0                       0.0   \n",
       "5                      0.0               0.0                       0.0   \n",
       "6                      0.0               0.0                       0.0   \n",
       "7                      0.0               0.0                       0.0   \n",
       "8                      0.0               0.0                       0.0   \n",
       "9                      0.0               0.0                       0.0   \n",
       "\n",
       "   Occupation_Retired  Occupation_Sales Representative  \\\n",
       "0                 0.0                              0.0   \n",
       "1                 0.0                              1.0   \n",
       "2                 0.0                              0.0   \n",
       "3                 0.0                              0.0   \n",
       "4                 0.0                              0.0   \n",
       "5                 0.0                              0.0   \n",
       "6                 0.0                              0.0   \n",
       "7                 0.0                              0.0   \n",
       "8                 0.0                              0.0   \n",
       "9                 0.0                              0.0   \n",
       "\n",
       "   Occupation_Salesperson  Occupation_Scientist  Occupation_Software Engineer  \\\n",
       "0                     0.0                   0.0                           0.0   \n",
       "1                     0.0                   0.0                           0.0   \n",
       "2                     0.0                   0.0                           1.0   \n",
       "3                     0.0                   0.0                           0.0   \n",
       "4                     0.0                   0.0                           0.0   \n",
       "5                     0.0                   0.0                           0.0   \n",
       "6                     0.0                   0.0                           0.0   \n",
       "7                     0.0                   0.0                           0.0   \n",
       "8                     0.0                   0.0                           0.0   \n",
       "9                     0.0                   0.0                           0.0   \n",
       "\n",
       "   Occupation_Student  Occupation_Teacher  \n",
       "0                 0.0                 0.0  \n",
       "1                 0.0                 0.0  \n",
       "2                 0.0                 0.0  \n",
       "3                 0.0                 0.0  \n",
       "4                 0.0                 0.0  \n",
       "5                 0.0                 0.0  \n",
       "6                 0.0                 0.0  \n",
       "7                 0.0                 0.0  \n",
       "8                 0.0                 0.0  \n",
       "9                 0.0                 0.0  \n",
       "\n",
       "[10 rows x 25 columns]"
      ]
     },
     "execution_count": 41,
     "metadata": {},
     "output_type": "execute_result"
    }
   ],
   "source": [
    "df = pd.read_csv(\"sleepdata.csv\")\n",
    "df.head(10)"
   ]
  },
  {
   "cell_type": "markdown",
   "metadata": {
    "id": "cJNijkmbzyjC"
   },
   "source": [
    "**Spliting into features (x) & Target (y)**   "
   ]
  },
  {
   "cell_type": "code",
   "execution_count": 3,
   "metadata": {
    "executionInfo": {
     "elapsed": 9,
     "status": "ok",
     "timestamp": 1748199696672,
     "user": {
      "displayName": "Haya Osama",
      "userId": "01148458632490027462"
     },
     "user_tz": -180
    },
    "id": "s3BpRLAGzjhs"
   },
   "outputs": [],
   "source": [
    "X = df.drop(columns=[\"Quality of Sleep\"])\n",
    "y = df[\"Quality of Sleep\"]\n"
   ]
  },
  {
   "cell_type": "markdown",
   "metadata": {
    "id": "xCkRMfnP0Wz4"
   },
   "source": [
    "**Splitting into training and testing**"
   ]
  },
  {
   "cell_type": "code",
   "execution_count": 6,
   "metadata": {
    "executionInfo": {
     "elapsed": 10,
     "status": "ok",
     "timestamp": 1748200473021,
     "user": {
      "displayName": "Haya Osama",
      "userId": "01148458632490027462"
     },
     "user_tz": -180
    },
    "id": "yMozxrBW0Okl"
   },
   "outputs": [],
   "source": [
    "X_train, X_test, y_train, y_test = train_test_split( X, y, test_size=0.2, random_state=42)"
   ]
  },
  {
   "cell_type": "markdown",
   "metadata": {
    "id": "3hc3Uip_0tOK"
   },
   "source": [
    "**Standardization of Features**"
   ]
  },
  {
   "cell_type": "code",
   "execution_count": 7,
   "metadata": {
    "executionInfo": {
     "elapsed": 14,
     "status": "ok",
     "timestamp": 1748200475070,
     "user": {
      "displayName": "Haya Osama",
      "userId": "01148458632490027462"
     },
     "user_tz": -180
    },
    "id": "aOtKAdx709kq"
   },
   "outputs": [],
   "source": [
    "scaler = StandardScaler()\n",
    "X_train_scaled = scaler.fit_transform(X_train)\n",
    "X_test_scaled = scaler.transform(X_test)"
   ]
  },
  {
   "cell_type": "markdown",
   "metadata": {
    "id": "HQXSuQ_dBuHq"
   },
   "source": [
    "**Linear Regression Model**"
   ]
  },
  {
   "cell_type": "code",
   "execution_count": 9,
   "metadata": {
    "colab": {
     "base_uri": "https://localhost:8080/"
    },
    "executionInfo": {
     "elapsed": 12,
     "status": "ok",
     "timestamp": 1748203276707,
     "user": {
      "displayName": "Haya Osama",
      "userId": "01148458632490027462"
     },
     "user_tz": -180
    },
    "id": "cGB--zsg3utH",
    "outputId": "1aedb87a-6512-4ccd-8dcb-1a237b195ccc"
   },
   "outputs": [
    {
     "name": "stdout",
     "output_type": "stream",
     "text": [
      "Mean Squared Error (MSE): 1.5398\n",
      "R² Score: 0.0551\n"
     ]
    }
   ],
   "source": [
    "#Training the Model\n",
    "model = LinearRegression()\n",
    "model.fit(X_train_scaled, y_train)\n",
    "\n",
    "# Prediction and Evaluation\n",
    "y_pred = model.predict(X_test_scaled)\n",
    "mse = mean_squared_error(y_test, y_pred)\n",
    "r2 = r2_score(y_test, y_pred)\n",
    "\n",
    "print(f\"Mean Squared Error (MSE): {mse:.4f}\")\n",
    "print(f\"R² Score: {r2:.4f}\")"
   ]
  },
  {
   "cell_type": "markdown",
   "metadata": {
    "id": "TlJovMdgCXSD"
   },
   "source": [
    "**Ridge Regression**"
   ]
  },
  {
   "cell_type": "code",
   "execution_count": 11,
   "metadata": {
    "colab": {
     "base_uri": "https://localhost:8080/"
    },
    "executionInfo": {
     "elapsed": 14,
     "status": "ok",
     "timestamp": 1748203658703,
     "user": {
      "displayName": "Haya Osama",
      "userId": "01148458632490027462"
     },
     "user_tz": -180
    },
    "id": "pfZ-Dl-sDNOv",
    "outputId": "8a06660c-fd88-4b99-d1a3-5b17889607db"
   },
   "outputs": [
    {
     "name": "stdout",
     "output_type": "stream",
     "text": [
      "Ridge MSE: 1.5398\n",
      "Ridge R²: 0.0552\n"
     ]
    }
   ],
   "source": [
    "\n",
    "# Training Ridge Regression\n",
    "ridge = Ridge(alpha=1.0)\n",
    "ridge.fit(X_train_scaled, y_train)\n",
    "\n",
    "#Prediction and Evaluation\n",
    "ridge_pred = ridge.predict(X_test_scaled)\n",
    "\n",
    "ridge_mse = mean_squared_error(y_test, ridge_pred)\n",
    "ridge_r2 = r2_score(y_test, ridge_pred)\n",
    "\n",
    "print(f\"Ridge MSE: {ridge_mse:.4f}\")\n",
    "print(f\"Ridge R²: {ridge_r2:.4f}\")\n"
   ]
  },
  {
   "cell_type": "code",
   "execution_count": 12,
   "metadata": {
    "colab": {
     "base_uri": "https://localhost:8080/"
    },
    "executionInfo": {
     "elapsed": 13,
     "status": "ok",
     "timestamp": 1748203711367,
     "user": {
      "displayName": "Haya Osama",
      "userId": "01148458632490027462"
     },
     "user_tz": -180
    },
    "id": "2j5GaE38D1D5",
    "outputId": "b649a611-2209-4f7c-9b26-c3b15bc48a69"
   },
   "outputs": [
    {
     "name": "stdout",
     "output_type": "stream",
     "text": [
      "Ridge MSE: 1.5397\n",
      "Ridge R²: 0.0552\n"
     ]
    }
   ],
   "source": [
    "# Training Ridge Regression\n",
    "ridge = Ridge(alpha=2.5)\n",
    "ridge.fit(X_train_scaled, y_train)\n",
    "\n",
    "#Prediction and Evaluation\n",
    "ridge_pred = ridge.predict(X_test_scaled)\n",
    "\n",
    "ridge_mse = mean_squared_error(y_test, ridge_pred)\n",
    "ridge_r2 = r2_score(y_test, ridge_pred)\n",
    "\n",
    "print(f\"Ridge MSE: {ridge_mse:.4f}\")\n",
    "print(f\"Ridge R²: {ridge_r2:.4f}\")"
   ]
  },
  {
   "cell_type": "code",
   "execution_count": 14,
   "metadata": {
    "colab": {
     "base_uri": "https://localhost:8080/"
    },
    "executionInfo": {
     "elapsed": 16,
     "status": "ok",
     "timestamp": 1748203809251,
     "user": {
      "displayName": "Haya Osama",
      "userId": "01148458632490027462"
     },
     "user_tz": -180
    },
    "id": "Fk59zIKjEK1y",
    "outputId": "11d1bcf5-4dad-4bf1-a53c-34adf4191445"
   },
   "outputs": [
    {
     "name": "stdout",
     "output_type": "stream",
     "text": [
      "Ridge MSE: 1.5398\n",
      "Ridge R²: 0.0552\n"
     ]
    }
   ],
   "source": [
    "# Training Ridge Regression\n",
    "ridge = Ridge(alpha=0.1)\n",
    "ridge.fit(X_train_scaled, y_train)\n",
    "\n",
    "#Prediction and Evaluation\n",
    "ridge_pred = ridge.predict(X_test_scaled)\n",
    "\n",
    "ridge_mse = mean_squared_error(y_test, ridge_pred)\n",
    "ridge_r2 = r2_score(y_test, ridge_pred)\n",
    "\n",
    "print(f\"Ridge MSE: {ridge_mse:.4f}\")\n",
    "print(f\"Ridge R²: {ridge_r2:.4f}\")"
   ]
  },
  {
   "cell_type": "code",
   "execution_count": 33,
   "metadata": {
    "colab": {
     "base_uri": "https://localhost:8080/"
    },
    "executionInfo": {
     "elapsed": 8,
     "status": "ok",
     "timestamp": 1748205695576,
     "user": {
      "displayName": "Haya Osama",
      "userId": "01148458632490027462"
     },
     "user_tz": -180
    },
    "id": "LxRbLe5bE6FZ",
    "outputId": "d4d674f2-7acc-432e-babc-02f122f55679"
   },
   "outputs": [
    {
     "name": "stdout",
     "output_type": "stream",
     "text": [
      "Ridge MSE: 1.5398\n",
      "Ridge R²: 0.0551\n"
     ]
    }
   ],
   "source": [
    "ridge = Ridge(alpha=0.0009)\n",
    "ridge.fit(X_train_scaled, y_train)\n",
    "\n",
    "#Prediction and Evaluation\n",
    "ridge_pred = ridge.predict(X_test_scaled)\n",
    "\n",
    "ridge_mse = mean_squared_error(y_test, ridge_pred)\n",
    "ridge_r2 = r2_score(y_test, ridge_pred)\n",
    "\n",
    "print(f\"Ridge MSE: {ridge_mse:.4f}\")\n",
    "print(f\"Ridge R²: {ridge_r2:.4f}\")"
   ]
  },
  {
   "cell_type": "code",
   "execution_count": 26,
   "metadata": {
    "colab": {
     "base_uri": "https://localhost:8080/"
    },
    "executionInfo": {
     "elapsed": 61,
     "status": "ok",
     "timestamp": 1748204191636,
     "user": {
      "displayName": "Haya Osama",
      "userId": "01148458632490027462"
     },
     "user_tz": -180
    },
    "id": "BDIk3NR6Fman",
    "outputId": "9ad42f48-98d5-4c83-ad07-e89737bcdab6"
   },
   "outputs": [
    {
     "name": "stdout",
     "output_type": "stream",
     "text": [
      "Ridge MSE: 1.6105\n",
      "Ridge R²: 0.0117\n"
     ]
    }
   ],
   "source": [
    "ridge = Ridge(alpha=20000)\n",
    "ridge.fit(X_train_scaled, y_train)\n",
    "\n",
    "#Prediction and Evaluation\n",
    "ridge_pred = ridge.predict(X_test_scaled)\n",
    "\n",
    "ridge_mse = mean_squared_error(y_test, ridge_pred)\n",
    "ridge_r2 = r2_score(y_test, ridge_pred)\n",
    "\n",
    "print(f\"Ridge MSE: {ridge_mse:.4f}\")\n",
    "print(f\"Ridge R²: {ridge_r2:.4f}\")"
   ]
  },
  {
   "cell_type": "markdown",
   "metadata": {
    "id": "7a5bq2msEWzV"
   },
   "source": [
    "**Lasso Regression**"
   ]
  },
  {
   "cell_type": "code",
   "execution_count": 73,
   "metadata": {
    "colab": {
     "base_uri": "https://localhost:8080/"
    },
    "executionInfo": {
     "elapsed": 20,
     "status": "ok",
     "timestamp": 1748211996726,
     "user": {
      "displayName": "Haya Osama",
      "userId": "01148458632490027462"
     },
     "user_tz": -180
    },
    "id": "v5TSNYS0Ece2",
    "outputId": "8faa2b0a-cf2a-4e29-f30a-a85c4812e41f"
   },
   "outputs": [
    {
     "name": "stdout",
     "output_type": "stream",
     "text": [
      "Lasso MSE: 1.5388\n",
      "Lasso R²: 0.0557\n"
     ]
    }
   ],
   "source": [
    "#Training Lasso Rgression\n",
    "lasso = Lasso(alpha=0.01)\n",
    "lasso.fit(X_train_scaled, y_train)\n",
    "\n",
    "#Prediction and Evaluation\n",
    "lasso_pred = lasso.predict(X_test_scaled)\n",
    "\n",
    "lasso_mse1st = mean_squared_error(y_test, lasso_pred)\n",
    "lasso_r21st = r2_score(y_test, lasso_pred)\n",
    "\n",
    "print(f\"Lasso MSE: {lasso_mse1st:.4f}\")\n",
    "print(f\"Lasso R²: {lasso_r21st:.4f}\")"
   ]
  },
  {
   "cell_type": "code",
   "execution_count": 18,
   "metadata": {
    "colab": {
     "base_uri": "https://localhost:8080/"
    },
    "executionInfo": {
     "elapsed": 6,
     "status": "ok",
     "timestamp": 1748204057435,
     "user": {
      "displayName": "Haya Osama",
      "userId": "01148458632490027462"
     },
     "user_tz": -180
    },
    "id": "AzYUacqxFDEH",
    "outputId": "06240bbf-6be8-4fb8-8eef-5a0f4b998159"
   },
   "outputs": [
    {
     "name": "stdout",
     "output_type": "stream",
     "text": [
      "Lasso MSE: 1.6317\n",
      "Lasso R²: -0.0013\n"
     ]
    }
   ],
   "source": [
    "#Training Lasso Rgression\n",
    "lasso = Lasso(alpha=0.6)\n",
    "lasso.fit(X_train_scaled, y_train)\n",
    "\n",
    "#Prediction and Evaluation\n",
    "lasso_pred = lasso.predict(X_test_scaled)\n",
    "\n",
    "lasso_mse = mean_squared_error(y_test, lasso_pred)\n",
    "lasso_r2 = r2_score(y_test, lasso_pred)\n",
    "\n",
    "print(f\"Lasso MSE: {lasso_mse:.4f}\")\n",
    "print(f\"Lasso R²: {lasso_r2:.4f}\")"
   ]
  },
  {
   "cell_type": "code",
   "execution_count": 23,
   "metadata": {
    "colab": {
     "base_uri": "https://localhost:8080/"
    },
    "executionInfo": {
     "elapsed": 5,
     "status": "ok",
     "timestamp": 1748204122977,
     "user": {
      "displayName": "Haya Osama",
      "userId": "01148458632490027462"
     },
     "user_tz": -180
    },
    "id": "C9cuAL8GFLYU",
    "outputId": "43a4e1f4-f561-4dad-8d2d-1235ec580575"
   },
   "outputs": [
    {
     "name": "stdout",
     "output_type": "stream",
     "text": [
      "Lasso MSE: 1.6317\n",
      "Lasso R²: -0.0013\n"
     ]
    }
   ],
   "source": [
    "#Training Lasso Rgression\n",
    "lasso = Lasso(alpha=7.8)\n",
    "lasso.fit(X_train_scaled, y_train)\n",
    "\n",
    "#Prediction and Evaluation\n",
    "lasso_pred = lasso.predict(X_test_scaled)\n",
    "\n",
    "lasso_mse = mean_squared_error(y_test, lasso_pred)\n",
    "lasso_r2 = r2_score(y_test, lasso_pred)\n",
    "\n",
    "print(f\"Lasso MSE: {lasso_mse:.4f}\")\n",
    "print(f\"Lasso R²: {lasso_r2:.4f}\")"
   ]
  },
  {
   "cell_type": "markdown",
   "metadata": {
    "id": "_WfzRT7_F4Es"
   },
   "source": [
    "**GridSearch CV**"
   ]
  },
  {
   "cell_type": "code",
   "execution_count": 27,
   "metadata": {
    "executionInfo": {
     "elapsed": 6,
     "status": "ok",
     "timestamp": 1748205072596,
     "user": {
      "displayName": "Haya Osama",
      "userId": "01148458632490027462"
     },
     "user_tz": -180
    },
    "id": "pPcCXkjfF2_K"
   },
   "outputs": [],
   "source": [
    "paramater_grid = {'alpha': [0.001, 0.01, 0.1, 1, 10, 100]}"
   ]
  },
  {
   "cell_type": "markdown",
   "metadata": {
    "id": "daI22SjxGb1A"
   },
   "source": [
    "**GridSearch CV for Ridge**"
   ]
  },
  {
   "cell_type": "code",
   "execution_count": 34,
   "metadata": {
    "colab": {
     "base_uri": "https://localhost:8080/"
    },
    "executionInfo": {
     "elapsed": 515,
     "status": "ok",
     "timestamp": 1748205834517,
     "user": {
      "displayName": "Haya Osama",
      "userId": "01148458632490027462"
     },
     "user_tz": -180
    },
    "id": "up-pDhJIGlG5",
    "outputId": "32ea967b-8536-45f5-bbd1-8807436a7278"
   },
   "outputs": [
    {
     "name": "stdout",
     "output_type": "stream",
     "text": [
      "Best Ridge alpha: 100\n",
      "Ridge MSE:1.5388\n",
      "Ridge R²:0.0558\n"
     ]
    }
   ],
   "source": [
    "#Train using GridSearch\n",
    "ridge_grid = GridSearchCV(Ridge(), paramater_grid, scoring='neg_mean_squared_error', cv=5)\n",
    "ridge_grid.fit(X_train_scaled, y_train)\n",
    "\n",
    "#Predict&Evaluate\n",
    "best_ridge = ridge_grid.best_estimator_\n",
    "ridge_pred = best_ridge.predict(X_test_scaled)\n",
    "\n",
    "# Evaluate\n",
    "print(\"Best Ridge alpha:\", ridge_grid.best_params_['alpha'])\n",
    "print(f\"Ridge MSE:{ mean_squared_error(y_test, ridge_pred):.4f}\")\n",
    "print(f\"Ridge R²:{r2_score(y_test, ridge_pred):.4f}\")"
   ]
  },
  {
   "cell_type": "markdown",
   "metadata": {
    "id": "Tn6S66ppG4Gq"
   },
   "source": [
    "**GridSearch CV for Lasso**"
   ]
  },
  {
   "cell_type": "code",
   "execution_count": 35,
   "metadata": {
    "colab": {
     "base_uri": "https://localhost:8080/"
    },
    "executionInfo": {
     "elapsed": 136,
     "status": "ok",
     "timestamp": 1748205838946,
     "user": {
      "displayName": "Haya Osama",
      "userId": "01148458632490027462"
     },
     "user_tz": -180
    },
    "id": "lgi_eBbcIxYX",
    "outputId": "9d13a2b1-eeed-439d-b73a-81fa6cb43d16"
   },
   "outputs": [
    {
     "name": "stdout",
     "output_type": "stream",
     "text": [
      "Best Lasso alpha: 0.01\n",
      "Lasso MSE: 1.5388145599571799\n",
      "Lasso R²: 0.05573664186099536\n"
     ]
    }
   ],
   "source": [
    "#Train use GridSearch\n",
    "lasso_grid = GridSearchCV(Lasso(), paramater_grid, scoring='neg_mean_squared_error', cv=5)\n",
    "lasso_grid.fit(X_train_scaled, y_train)\n",
    "\n",
    "#Predict&Evaluate\n",
    "best_lasso = lasso_grid.best_estimator_\n",
    "lasso_pred = best_lasso.predict(X_test_scaled)\n",
    "\n",
    "# Evaluate\n",
    "print(\"Best Lasso alpha:\", lasso_grid.best_params_['alpha'])\n",
    "print(\"Lasso MSE:\", mean_squared_error(y_test, lasso_pred))\n",
    "print(\"Lasso R²:\", r2_score(y_test, lasso_pred))"
   ]
  },
  {
   "cell_type": "code",
   "execution_count": 36,
   "metadata": {
    "colab": {
     "base_uri": "https://localhost:8080/"
    },
    "executionInfo": {
     "elapsed": 47,
     "status": "ok",
     "timestamp": 1748206249976,
     "user": {
      "displayName": "Haya Osama",
      "userId": "01148458632490027462"
     },
     "user_tz": -180
    },
    "id": "uIqbQOYCNkay",
    "outputId": "f649e614-7ff2-4998-9b49-ad0d3f3683f9"
   },
   "outputs": [
    {
     "name": "stdout",
     "output_type": "stream",
     "text": [
      "[ 0.04074579 -0.04251897  0.29395128 -0.         -0.02100997  0.01480807\n",
      " -0.0245452  -0.01342701 -0.08469512  0.05480603  0.0430395   0.08349866\n",
      "  0.01001067  0.00737255 -0.06358048  0.05979784 -0.03327858 -0.04932287\n",
      "  0.          0.01106707 -0.00695299  0.00979599 -0.          0.03009428]\n"
     ]
    }
   ],
   "source": [
    "print(best_lasso.coef_)"
   ]
  },
  {
   "cell_type": "markdown",
   "metadata": {
    "id": "g5vrYdM2N4ud"
   },
   "source": []
  },
  {
   "cell_type": "code",
   "execution_count": 37,
   "metadata": {
    "colab": {
     "base_uri": "https://localhost:8080/"
    },
    "executionInfo": {
     "elapsed": 45,
     "status": "ok",
     "timestamp": 1748206288659,
     "user": {
      "displayName": "Haya Osama",
      "userId": "01148458632490027462"
     },
     "user_tz": -180
    },
    "id": "fpHnlbrvNopn",
    "outputId": "a1b848d8-567d-49b0-a0d5-f72cff736818"
   },
   "outputs": [
    {
     "name": "stdout",
     "output_type": "stream",
     "text": [
      "Gender: 0.0407\n",
      "Age: -0.0425\n",
      "Sleep Duration: 0.2940\n",
      "Physical Activity Level: -0.0000\n",
      "Stress Level: -0.0210\n",
      "BMI Category: 0.0148\n",
      "Blood Pressure: -0.0245\n",
      "Heart Rate: -0.0134\n",
      "Daily Steps: -0.0847\n",
      "Occupation_Accountant: 0.0548\n",
      "Occupation_Doctor: 0.0430\n",
      "Occupation_Engineer: 0.0835\n",
      "Occupation_Lawyer: 0.0100\n",
      "Occupation_Manager: 0.0074\n",
      "Occupation_Manual Labor: -0.0636\n",
      "Occupation_Nurse: 0.0598\n",
      "Occupation_Office Worker: -0.0333\n",
      "Occupation_Retired: -0.0493\n",
      "Occupation_Sales Representative: 0.0000\n",
      "Occupation_Salesperson: 0.0111\n",
      "Occupation_Scientist: -0.0070\n",
      "Occupation_Software Engineer: 0.0098\n",
      "Occupation_Student: -0.0000\n",
      "Occupation_Teacher: 0.0301\n"
     ]
    }
   ],
   "source": [
    "#bshoof eh el coefficients el mtb2eya b3d lasso regularization 3shan howa by3mel feature selection brdo\n",
    "for name, coef in zip(X.columns, best_lasso.coef_):\n",
    "    print(f\"{name}: {coef:.4f}\")\n"
   ]
  },
  {
   "cell_type": "code",
   "execution_count": 40,
   "metadata": {
    "colab": {
     "base_uri": "https://localhost:8080/"
    },
    "executionInfo": {
     "elapsed": 14,
     "status": "ok",
     "timestamp": 1748206597549,
     "user": {
      "displayName": "Haya Osama",
      "userId": "01148458632490027462"
     },
     "user_tz": -180
    },
    "id": "lhxJwUnjOuqY",
    "outputId": "0eec06ee-e348-45cc-b256-f3412703467e"
   },
   "outputs": [
    {
     "name": "stdout",
     "output_type": "stream",
     "text": [
      "  Features Kept: 21\n"
     ]
    }
   ],
   "source": [
    "print(\"  Features Kept:\", np.sum(best_lasso.coef_ != 0))"
   ]
  },
  {
   "cell_type": "markdown",
   "metadata": {
    "id": "Z6npml7FPXLK"
   },
   "source": [
    "**KNN Model**"
   ]
  },
  {
   "cell_type": "code",
   "execution_count": 44,
   "metadata": {
    "colab": {
     "base_uri": "https://localhost:8080/"
    },
    "executionInfo": {
     "elapsed": 12,
     "status": "ok",
     "timestamp": 1748206976589,
     "user": {
      "displayName": "Haya Osama",
      "userId": "01148458632490027462"
     },
     "user_tz": -180
    },
    "id": "c2jtB_7WPV1a",
    "outputId": "a57aa48d-f5c0-455c-a4b4-c0d9db65edd1"
   },
   "outputs": [
    {
     "name": "stdout",
     "output_type": "stream",
     "text": [
      "KNN Regression:\n",
      "  R² Score: 0.0049\n",
      "  MSE     : 1.6217\n"
     ]
    }
   ],
   "source": [
    "# train the KNN model\n",
    "knn_model = KNeighborsRegressor(n_neighbors=5)\n",
    "knn_model.fit(X_train_scaled, y_train)\n",
    "\n",
    "#Predict & Evaluate\n",
    "knn_pred = knn_model.predict(X_test_scaled)\n",
    "\n",
    "knn_mse = mean_squared_error(y_test, knn_pred)\n",
    "knn_r2 = r2_score(y_test, knn_pred)\n",
    "\n",
    "print(\"KNN Regression:\")\n",
    "print(\"  R² Score:\", round(knn_r2, 4))\n",
    "print(\"  MSE     :\", round(knn_mse, 4))\n"
   ]
  },
  {
   "cell_type": "code",
   "execution_count": 51,
   "metadata": {
    "colab": {
     "base_uri": "https://localhost:8080/"
    },
    "executionInfo": {
     "elapsed": 6,
     "status": "ok",
     "timestamp": 1748207665478,
     "user": {
      "displayName": "Haya Osama",
      "userId": "01148458632490027462"
     },
     "user_tz": -180
    },
    "id": "9uk5BbdKS5o2",
    "outputId": "b97357ca-e79b-4b9e-f8ec-2291e37ddb32"
   },
   "outputs": [
    {
     "name": "stdout",
     "output_type": "stream",
     "text": [
      "KNN Regression:\n",
      "  R² Score: 0.0691\n",
      "  MSE     : 1.5171\n"
     ]
    }
   ],
   "source": [
    "# train the KNN model\n",
    "knn_model = KNeighborsRegressor(n_neighbors=15)\n",
    "knn_model.fit(X_train_scaled, y_train)\n",
    "\n",
    "#Predict & Evaluate\n",
    "knn_pred = knn_model.predict(X_test_scaled)\n",
    "\n",
    "knn_mse = mean_squared_error(y_test, knn_pred)\n",
    "knn_r2 = r2_score(y_test, knn_pred)\n",
    "\n",
    "print(\"KNN Regression:\")\n",
    "print(\"  R² Score:\", round(knn_r2, 4))\n",
    "print(\"  MSE     :\", round(knn_mse, 4))"
   ]
  },
  {
   "cell_type": "code",
   "execution_count": 47,
   "metadata": {
    "colab": {
     "base_uri": "https://localhost:8080/"
    },
    "executionInfo": {
     "elapsed": 24,
     "status": "ok",
     "timestamp": 1748207024163,
     "user": {
      "displayName": "Haya Osama",
      "userId": "01148458632490027462"
     },
     "user_tz": -180
    },
    "id": "uHsNkETAQbYN",
    "outputId": "30071ace-21da-424a-e89e-ee3b87510726"
   },
   "outputs": [
    {
     "name": "stdout",
     "output_type": "stream",
     "text": [
      "KNN Regression:\n",
      "  R² Score: 0.0636\n",
      "  MSE     : 1.526\n"
     ]
    }
   ],
   "source": [
    "# train the KNN model\n",
    "knn_model = KNeighborsRegressor(n_neighbors=50)\n",
    "knn_model.fit(X_train_scaled, y_train)\n",
    "\n",
    "#Predict & Evaluate\n",
    "knn_pred = knn_model.predict(X_test_scaled)\n",
    "\n",
    "knn_mse = mean_squared_error(y_test, knn_pred)\n",
    "knn_r2 = r2_score(y_test, knn_pred)\n",
    "\n",
    "print(\"KNN Regression:\")\n",
    "print(\"  R² Score:\", round(knn_r2, 4))\n",
    "print(\"  MSE     :\", round(knn_mse, 4))"
   ]
  },
  {
   "cell_type": "code",
   "execution_count": 48,
   "metadata": {
    "colab": {
     "base_uri": "https://localhost:8080/"
    },
    "executionInfo": {
     "elapsed": 113,
     "status": "ok",
     "timestamp": 1748207042274,
     "user": {
      "displayName": "Haya Osama",
      "userId": "01148458632490027462"
     },
     "user_tz": -180
    },
    "id": "421dhG7zQk_L",
    "outputId": "de2876fe-4662-4fab-b403-11fb393b370b"
   },
   "outputs": [
    {
     "name": "stdout",
     "output_type": "stream",
     "text": [
      "KNN Regression:\n",
      "  R² Score: 0.0171\n",
      "  MSE     : 1.6017\n"
     ]
    }
   ],
   "source": [
    "# train the KNN model\n",
    "knn_model = KNeighborsRegressor(n_neighbors=500)\n",
    "knn_model.fit(X_train_scaled, y_train)\n",
    "\n",
    "#Predict & Evaluate\n",
    "knn_pred = knn_model.predict(X_test_scaled)\n",
    "\n",
    "knn_mse = mean_squared_error(y_test, knn_pred)\n",
    "knn_r2 = r2_score(y_test, knn_pred)\n",
    "\n",
    "print(\"KNN Regression:\")\n",
    "print(\"  R² Score:\", round(knn_r2, 4))\n",
    "print(\"  MSE     :\", round(knn_mse, 4))"
   ]
  },
  {
   "cell_type": "markdown",
   "metadata": {
    "id": "YK1J7cOBSOXi"
   },
   "source": [
    "**GridSearch to get the best K**"
   ]
  },
  {
   "cell_type": "code",
   "execution_count": 53,
   "metadata": {
    "colab": {
     "base_uri": "https://localhost:8080/"
    },
    "executionInfo": {
     "elapsed": 4157,
     "status": "ok",
     "timestamp": 1748207755889,
     "user": {
      "displayName": "Haya Osama",
      "userId": "01148458632490027462"
     },
     "user_tz": -180
    },
    "id": "UjvWe9z_R_Ou",
    "outputId": "3a66483a-d969-48f9-ed7c-5943e8250083"
   },
   "outputs": [
    {
     "name": "stdout",
     "output_type": "stream",
     "text": [
      "Best k: 10\n",
      "KNN R² Score: 0.0864\n",
      "KNN MSE     : 1.4888\n"
     ]
    }
   ],
   "source": [
    "# values of K from 1-50\n",
    "param_grid = {'n_neighbors': list(range(1, 51))}\n",
    "\n",
    "# GridSearchCV\n",
    "knn_grid = GridSearchCV(KNeighborsRegressor(),param_grid,scoring='neg_mean_squared_error', cv=5)\n",
    "\n",
    "#training data\n",
    "knn_grid.fit(X_train_scaled, y_train)\n",
    "\n",
    "#Predict and Evaluate\n",
    "best_knn = knn_grid.best_estimator_\n",
    "knn_pred = best_knn.predict(X_test_scaled)\n",
    "\n",
    "print(\"Best k:\", knn_grid.best_params_['n_neighbors'])\n",
    "print(\"KNN R² Score:\", round(r2_score(y_test, knn_pred), 4))\n",
    "print(\"KNN MSE     :\", round(mean_squared_error(y_test, knn_pred), 4))\n"
   ]
  },
  {
   "cell_type": "markdown",
   "metadata": {
    "id": "GyN2niAfUqjV"
   },
   "source": [
    "**SVR**  "
   ]
  },
  {
   "cell_type": "code",
   "execution_count": 55,
   "metadata": {
    "colab": {
     "base_uri": "https://localhost:8080/"
    },
    "executionInfo": {
     "elapsed": 1223,
     "status": "ok",
     "timestamp": 1748208541715,
     "user": {
      "displayName": "Haya Osama",
      "userId": "01148458632490027462"
     },
     "user_tz": -180
    },
    "id": "xOfTZbzRUOCf",
    "outputId": "bf7b42d3-93a2-41b1-b4d6-0887f9a150e7"
   },
   "outputs": [
    {
     "name": "stdout",
     "output_type": "stream",
     "text": [
      "SVR Results:\n",
      "  R² Score: 0.1926\n",
      "  MSE     : 1.3158\n"
     ]
    }
   ],
   "source": [
    "#Train the SVR model\n",
    "svr_model = SVR(kernel='rbf', C=1.0, epsilon=0.1)\n",
    "svr_model.fit(X_train_scaled, y_train)\n",
    "\n",
    "#Predict & Evaluate\n",
    "svr_pred = svr_model.predict(X_test_scaled)\n",
    "\n",
    "svr_mse = mean_squared_error(y_test, svr_pred)\n",
    "svr_r2 = r2_score(y_test, svr_pred)\n",
    "\n",
    "print(\"SVR Results:\")\n",
    "print(\"  R² Score:\", round(svr_r2, 4))\n",
    "print(\"  MSE     :\", round(svr_mse, 4))\n"
   ]
  },
  {
   "cell_type": "code",
   "execution_count": 56,
   "metadata": {
    "colab": {
     "base_uri": "https://localhost:8080/"
    },
    "executionInfo": {
     "elapsed": 8691,
     "status": "ok",
     "timestamp": 1748208727911,
     "user": {
      "displayName": "Haya Osama",
      "userId": "01148458632490027462"
     },
     "user_tz": -180
    },
    "id": "k1SMjRh1WXgk",
    "outputId": "f14c51e0-f40c-434b-ad8f-c5a14a42de49"
   },
   "outputs": [
    {
     "name": "stdout",
     "output_type": "stream",
     "text": [
      "SVR Results:\n",
      "  R² Score: 0.1839\n",
      "  MSE     : 1.33\n"
     ]
    }
   ],
   "source": [
    "#Train the SVR model\n",
    "svr_model = SVR(kernel='rbf', C=50.0, epsilon=0.1)\n",
    "svr_model.fit(X_train_scaled, y_train)\n",
    "\n",
    "#Predict & Evaluate\n",
    "svr_pred = svr_model.predict(X_test_scaled)\n",
    "\n",
    "svr_mse = mean_squared_error(y_test, svr_pred)\n",
    "svr_r2 = r2_score(y_test, svr_pred)\n",
    "\n",
    "print(\"SVR Results:\")\n",
    "print(\"  R² Score:\", round(svr_r2, 4))\n",
    "print(\"  MSE     :\", round(svr_mse, 4))"
   ]
  },
  {
   "cell_type": "code",
   "execution_count": 57,
   "metadata": {
    "colab": {
     "base_uri": "https://localhost:8080/"
    },
    "executionInfo": {
     "elapsed": 20,
     "status": "ok",
     "timestamp": 1748208804816,
     "user": {
      "displayName": "Haya Osama",
      "userId": "01148458632490027462"
     },
     "user_tz": -180
    },
    "id": "YLXFfLmOXFkM",
    "outputId": "f0ecbd92-1503-4fb4-fcd5-6d4d7bf12623"
   },
   "outputs": [
    {
     "name": "stdout",
     "output_type": "stream",
     "text": [
      "SVR Results:\n",
      "  R² Score: -0.3005\n",
      "  MSE     : 2.1194\n"
     ]
    }
   ],
   "source": [
    "#Train the SVR model\n",
    "svr_model = SVR(kernel='linear', C=0.5, epsilon=5.0)\n",
    "svr_model.fit(X_train_scaled, y_train)\n",
    "\n",
    "#Predict & Evaluate\n",
    "svr_pred = svr_model.predict(X_test_scaled)\n",
    "\n",
    "svr_mse = mean_squared_error(y_test, svr_pred)\n",
    "svr_r2 = r2_score(y_test, svr_pred)\n",
    "\n",
    "print(\"SVR Results:\")\n",
    "print(\"  R² Score:\", round(svr_r2, 4))\n",
    "print(\"  MSE     :\", round(svr_mse, 4))"
   ]
  },
  {
   "cell_type": "code",
   "execution_count": 63,
   "metadata": {
    "colab": {
     "base_uri": "https://localhost:8080/"
    },
    "executionInfo": {
     "elapsed": 740,
     "status": "ok",
     "timestamp": 1748208982653,
     "user": {
      "displayName": "Haya Osama",
      "userId": "01148458632490027462"
     },
     "user_tz": -180
    },
    "id": "8q1qeRsBXwBU",
    "outputId": "a3f4d8de-027d-48d5-ff09-1e57b8c1baa7"
   },
   "outputs": [
    {
     "name": "stdout",
     "output_type": "stream",
     "text": [
      "SVR Results:\n",
      "  R² Score: -0.0159\n",
      "  MSE     : 1.6556\n"
     ]
    }
   ],
   "source": [
    "#Train the SVR model\n",
    "svr_model = SVR(kernel='linear', C=0.5, epsilon=0.1)\n",
    "svr_model.fit(X_train_scaled, y_train)\n",
    "\n",
    "#Predict & Evaluate\n",
    "svr_pred = svr_model.predict(X_test_scaled)\n",
    "\n",
    "svr_mse = mean_squared_error(y_test, svr_pred)\n",
    "svr_r2 = r2_score(y_test, svr_pred)\n",
    "\n",
    "print(\"SVR Results:\")\n",
    "print(\"  R² Score:\", round(svr_r2, 4))\n",
    "print(\"  MSE     :\", round(svr_mse, 4))"
   ]
  },
  {
   "cell_type": "code",
   "execution_count": 60,
   "metadata": {
    "colab": {
     "base_uri": "https://localhost:8080/"
    },
    "executionInfo": {
     "elapsed": 3263,
     "status": "ok",
     "timestamp": 1748208901867,
     "user": {
      "displayName": "Haya Osama",
      "userId": "01148458632490027462"
     },
     "user_tz": -180
    },
    "id": "oRFxhsZUXZVY",
    "outputId": "8d5197bb-6189-41f6-ec24-23f387d524de"
   },
   "outputs": [
    {
     "name": "stdout",
     "output_type": "stream",
     "text": [
      "SVR Results:\n",
      "  R² Score: -0.0382\n",
      "  MSE     : 1.692\n"
     ]
    }
   ],
   "source": [
    "#Train the SVR model\n",
    "svr_model = SVR(kernel='poly', C=5.0, epsilon=0.1)\n",
    "svr_model.fit(X_train_scaled, y_train)\n",
    "\n",
    "#Predict & Evaluate\n",
    "svr_pred = svr_model.predict(X_test_scaled)\n",
    "\n",
    "svr_mse = mean_squared_error(y_test, svr_pred)\n",
    "svr_r2 = r2_score(y_test, svr_pred)\n",
    "\n",
    "print(\"SVR Results:\")\n",
    "print(\"  R² Score:\", round(svr_r2, 4))\n",
    "print(\"  MSE     :\", round(svr_mse, 4))"
   ]
  },
  {
   "cell_type": "code",
   "execution_count": 65,
   "metadata": {
    "colab": {
     "base_uri": "https://localhost:8080/"
    },
    "executionInfo": {
     "elapsed": 39,
     "status": "ok",
     "timestamp": 1748209040802,
     "user": {
      "displayName": "Haya Osama",
      "userId": "01148458632490027462"
     },
     "user_tz": -180
    },
    "id": "KDftNXQEYGmu",
    "outputId": "933c7ab1-e350-4ecd-af8e-ea4b30866ead"
   },
   "outputs": [
    {
     "name": "stdout",
     "output_type": "stream",
     "text": [
      "SVR Results:\n",
      "  R² Score: -0.3005\n",
      "  MSE     : 2.1194\n"
     ]
    }
   ],
   "source": [
    "#Train the SVR model\n",
    "svr_model = SVR(kernel='rbf', C=500.0, epsilon=16.0)\n",
    "svr_model.fit(X_train_scaled, y_train)\n",
    "\n",
    "#Predict & Evaluate\n",
    "svr_pred = svr_model.predict(X_test_scaled)\n",
    "\n",
    "svr_mse = mean_squared_error(y_test, svr_pred)\n",
    "svr_r2 = r2_score(y_test, svr_pred)\n",
    "\n",
    "print(\"SVR Results:\")\n",
    "print(\"  R² Score:\", round(svr_r2, 4))\n",
    "print(\"  MSE     :\", round(svr_mse, 4))"
   ]
  },
  {
   "cell_type": "markdown",
   "metadata": {
    "id": "NlN1t3xmYU6i"
   },
   "source": [
    "**GridSearch for SVR**"
   ]
  },
  {
   "cell_type": "code",
   "execution_count": 66,
   "metadata": {
    "colab": {
     "base_uri": "https://localhost:8080/"
    },
    "executionInfo": {
     "elapsed": 103745,
     "status": "ok",
     "timestamp": 1748209448558,
     "user": {
      "displayName": "Haya Osama",
      "userId": "01148458632490027462"
     },
     "user_tz": -180
    },
    "id": "cZOm4kO9YTtZ",
    "outputId": "af921396-2d18-48c7-d5e2-e68c93583da9"
   },
   "outputs": [
    {
     "name": "stdout",
     "output_type": "stream",
     "text": [
      "Best SVR Parameters: {'C': 1, 'epsilon': 0.1, 'kernel': 'rbf'}\n",
      "SVR R² Score: 0.1926\n",
      "SVR MSE     : 1.3158\n"
     ]
    }
   ],
   "source": [
    "#the paramaters to choose from\n",
    "param_grid = {'C': [0.1, 1, 10],'epsilon': [0.01, 0.1, 0.5],'kernel': ['linear', 'rbf']}\n",
    "\n",
    "# SVR model and GridSearchCV and fit to training\n",
    "svr = SVR()\n",
    "grid = GridSearchCV(svr, param_grid, scoring='neg_mean_squared_error', cv=5)\n",
    "grid.fit(X_train_scaled, y_train)\n",
    "\n",
    "#Predict Evaluate the best model\n",
    "best_svr = grid.best_estimator_\n",
    "svr_pred = best_svr.predict(X_test_scaled)\n",
    "svr_mse = mean_squared_error(y_test, svr_pred)\n",
    "svr_r2 = r2_score(y_test, svr_pred)\n",
    "\n",
    "print(\"Best SVR Parameters:\", grid.best_params_)\n",
    "print(\"SVR R² Score:\", round(svr_r2, 4))\n",
    "print(\"SVR MSE     :\", round(svr_mse, 4))\n"
   ]
  },
  {
   "cell_type": "code",
   "execution_count": 70,
   "metadata": {
    "colab": {
     "base_uri": "https://localhost:8080/",
     "height": 407
    },
    "executionInfo": {
     "elapsed": 345,
     "status": "ok",
     "timestamp": 1748210953670,
     "user": {
      "displayName": "Haya Osama",
      "userId": "01148458632490027462"
     },
     "user_tz": -180
    },
    "id": "aYCUTblJaVFA",
    "outputId": "75c09117-35af-44d3-d0af-44f8f1efa00e"
   },
   "outputs": [
    {
     "data": {
      "image/png": "[encoded data removed]",
      "text/plain": [
       "<Figure size 1000x400 with 2 Axes>"
      ]
     },
     "metadata": {},
     "output_type": "display_data"
    }
   ],
   "source": [
    "import matplotlib.pyplot as plt\n",
    "\n",
    "# Collect all model names and scores\n",
    "model_names = ['Linear', 'Ridge','Lasso','KNN','SVR']\n",
    "r2_scores = [\n",
    "    r2_score(y_test, y_pred),\n",
    "    r2_score(y_test, ridge_pred),\n",
    "    r2_score(y_test, lasso_pred),\n",
    "    r2_score(y_test, knn_pred),\n",
    "    r2_score(y_test, svr_pred)\n",
    "]\n",
    "mse_scores = [\n",
    "    mean_squared_error(y_test, y_pred),\n",
    "    mean_squared_error(y_test, ridge_pred),\n",
    "    mean_squared_error(y_test, lasso_pred),\n",
    "    mean_squared_error(y_test, knn_pred),\n",
    "    mean_squared_error(y_test, svr_pred)\n",
    "]\n",
    "\n",
    "\n",
    "# Plot R² Scores\n",
    "plt.figure(figsize=(10, 4))\n",
    "\n",
    "plt.subplot(1, 2, 1)\n",
    "plt.bar(model_names, r2_scores, color='skyblue')\n",
    "plt.title('R² Score Comparison')\n",
    "plt.ylabel('R² Score')\n",
    "plt.ylim(0, max(r2_scores) + 0.05)\n",
    "\n",
    "# Plot MSE Scores\n",
    "plt.subplot(1, 2, 2)\n",
    "plt.bar(model_names, mse_scores, color='salmon')\n",
    "plt.title('MSE Comparison')\n",
    "plt.ylabel('Mean Squared Error')\n",
    "plt.ylim(0, max(mse_scores) + 0.2)\n",
    "\n",
    "plt.tight_layout()\n",
    "plt.show()\n"
   ]
  },
  {
   "cell_type": "code",
   "execution_count": 72,
   "metadata": {
    "colab": {
     "base_uri": "https://localhost:8080/",
     "height": 507
    },
    "executionInfo": {
     "elapsed": 218,
     "status": "ok",
     "timestamp": 1748211267696,
     "user": {
      "displayName": "Haya Osama",
      "userId": "01148458632490027462"
     },
     "user_tz": -180
    },
    "id": "9ZWmEhKhf26r",
    "outputId": "f2d1f251-2193-4a83-e341-3810c47dd3d9"
   },
   "outputs": [
    {
     "data": {
      "image/png": "[encoded data removed]",
      "text/plain": [
       "<Figure size 800x500 with 1 Axes>"
      ]
     },
     "metadata": {},
     "output_type": "display_data"
    }
   ],
   "source": [
    "# Define model names and their evaluation metrics\n",
    "models = ['Linear', 'Ridge', 'Lasso', 'KNN', 'SVR']\n",
    "\n",
    "r2_scores = [\n",
    "    r2_score(y_test, y_pred),\n",
    "    r2_score(y_test, ridge_pred),\n",
    "    r2_score(y_test, lasso_pred),\n",
    "    r2_score(y_test, knn_pred),\n",
    "    r2_score(y_test, svr_pred)\n",
    "]\n",
    "\n",
    "mse_scores = [\n",
    "    mean_squared_error(y_test, y_pred),\n",
    "    mean_squared_error(y_test, ridge_pred),\n",
    "    mean_squared_error(y_test, lasso_pred),\n",
    "    mean_squared_error(y_test, knn_pred),\n",
    "    mean_squared_error(y_test, svr_pred)\n",
    "]\n",
    "\n",
    "plt.figure(figsize=(8, 5))\n",
    "plt.barh(models, r2_scores, color='mediumseagreen')\n",
    "plt.title(\"R² Score by Model\")\n",
    "plt.xlabel(\"R² Score\")\n",
    "plt.grid(True)\n",
    "plt.tight_layout()\n",
    "plt.show()\n"
   ]
  },
  {
   "cell_type": "code",
   "execution_count": null,
   "metadata": {
    "id": "cIVpebx6huUn"
   },
   "outputs": [],
   "source": [
    "# haseeb dy keda w hrg3 a3del 3leha 3shan 3ayza a visualize el alphas l lasso w ridge el fo2 la2eny ana fo2 b visualize b el best alpha f msh tale3 far2 3la graph\n",
    "models = ['Linear', 'Ridge', 'Lasso', 'KNN', 'SVR']\n",
    "r2_scores = [\n",
    "    r2_score(y_test, y_pred),\n",
    "    r2_score(y_test, ridge_pred),\n",
    "    r2_score(y_test, lasso_pred),\n",
    "    r2_score(y_test, knn_pred),\n",
    "    r2_score(y_test, svr_pred)\n",
    "]\n",
    "\n",
    "mse_scores = [\n",
    "    mean_squared_error(y_test, y_pred),\n",
    "    mean_squared_error(y_test, ridge_pred),\n",
    "    mean_squared_error(y_test, lasso_pred),\n",
    "    mean_squared_error(y_test, knn_pred),\n",
    "    mean_squared_error(y_test, svr_pred)\n",
    "]\n",
    "\n",
    "plt.figure(figsize=(8, 5))\n",
    "plt.barh(models, r2_scores, color='mediumseagreen')\n",
    "plt.title(\"R² Score by Model\")\n",
    "plt.xlabel(\"R² Score\")\n",
    "plt.grid(True)\n",
    "plt.tight_layout()\n",
    "plt.show()"
   ]
  }
 ],
 "metadata": {
  "colab": {
   "authorship_tag": "ABX9TyOZDQ+lxnc3/QLRUZ6RHSuo",
   "mount_file_id": "1KgMGhPqDoitVYiZ6Gr1-RobZAcFRIYYd",
   "provenance": []
  },
  "kernelspec": {
   "display_name": "Python 3",
   "name": "python3"
  },
  "language_info": {
   "name": "python"
  }
 },
 "nbformat": 4,
 "nbformat_minor": 0
}
