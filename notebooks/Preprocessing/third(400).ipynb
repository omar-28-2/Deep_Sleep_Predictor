{
 "cells": [
  {
   "cell_type": "code",
   "execution_count": 1,
   "metadata": {},
   "outputs": [],
   "source": [
    "import pandas as pd\n",
    "from sklearn.preprocessing import LabelEncoder, OneHotEncoder"
   ]
  },
  {
   "cell_type": "code",
   "execution_count": 2,
   "metadata": {},
   "outputs": [],
   "source": [
    "df = pd.read_csv(\"third(400).csv\")"
   ]
  },
  {
   "cell_type": "code",
   "execution_count": 3,
   "metadata": {},
   "outputs": [
    {
     "data": {
      "text/html": [
       "<div>\n",
       "<style scoped>\n",
       "    .dataframe tbody tr th:only-of-type {\n",
       "        vertical-align: middle;\n",
       "    }\n",
       "\n",
       "    .dataframe tbody tr th {\n",
       "        vertical-align: top;\n",
       "    }\n",
       "\n",
       "    .dataframe thead th {\n",
       "        text-align: right;\n",
       "    }\n",
       "</style>\n",
       "<table border=\"1\" class=\"dataframe\">\n",
       "  <thead>\n",
       "    <tr style=\"text-align: right;\">\n",
       "      <th></th>\n",
       "      <th>Person ID</th>\n",
       "      <th>Gender</th>\n",
       "      <th>Age</th>\n",
       "      <th>Occupation</th>\n",
       "      <th>Sleep Duration (hours)</th>\n",
       "      <th>Quality of Sleep (scale: 1-10)</th>\n",
       "      <th>Physical Activity Level (minutes/day)</th>\n",
       "      <th>Stress Level (scale: 1-10)</th>\n",
       "      <th>BMI Category</th>\n",
       "      <th>Blood Pressure (systolic/diastolic)</th>\n",
       "      <th>Heart Rate (bpm)</th>\n",
       "      <th>Daily Steps</th>\n",
       "      <th>Sleep Disorder</th>\n",
       "    </tr>\n",
       "  </thead>\n",
       "  <tbody>\n",
       "    <tr>\n",
       "      <th>0</th>\n",
       "      <td>1</td>\n",
       "      <td>Male</td>\n",
       "      <td>29</td>\n",
       "      <td>Manual Labor</td>\n",
       "      <td>7.4</td>\n",
       "      <td>7.0</td>\n",
       "      <td>41</td>\n",
       "      <td>7</td>\n",
       "      <td>Obese</td>\n",
       "      <td>124/70</td>\n",
       "      <td>91</td>\n",
       "      <td>8539</td>\n",
       "      <td>NaN</td>\n",
       "    </tr>\n",
       "    <tr>\n",
       "      <th>1</th>\n",
       "      <td>2</td>\n",
       "      <td>Female</td>\n",
       "      <td>43</td>\n",
       "      <td>Retired</td>\n",
       "      <td>4.2</td>\n",
       "      <td>4.9</td>\n",
       "      <td>41</td>\n",
       "      <td>5</td>\n",
       "      <td>Obese</td>\n",
       "      <td>131/86</td>\n",
       "      <td>81</td>\n",
       "      <td>18754</td>\n",
       "      <td>NaN</td>\n",
       "    </tr>\n",
       "    <tr>\n",
       "      <th>2</th>\n",
       "      <td>3</td>\n",
       "      <td>Male</td>\n",
       "      <td>44</td>\n",
       "      <td>Retired</td>\n",
       "      <td>6.1</td>\n",
       "      <td>6.0</td>\n",
       "      <td>107</td>\n",
       "      <td>4</td>\n",
       "      <td>Underweight</td>\n",
       "      <td>122/70</td>\n",
       "      <td>81</td>\n",
       "      <td>2857</td>\n",
       "      <td>NaN</td>\n",
       "    </tr>\n",
       "    <tr>\n",
       "      <th>3</th>\n",
       "      <td>4</td>\n",
       "      <td>Male</td>\n",
       "      <td>29</td>\n",
       "      <td>Office Worker</td>\n",
       "      <td>8.3</td>\n",
       "      <td>10.0</td>\n",
       "      <td>20</td>\n",
       "      <td>10</td>\n",
       "      <td>Obese</td>\n",
       "      <td>124/72</td>\n",
       "      <td>55</td>\n",
       "      <td>6886</td>\n",
       "      <td>NaN</td>\n",
       "    </tr>\n",
       "    <tr>\n",
       "      <th>4</th>\n",
       "      <td>5</td>\n",
       "      <td>Male</td>\n",
       "      <td>67</td>\n",
       "      <td>Retired</td>\n",
       "      <td>9.1</td>\n",
       "      <td>9.5</td>\n",
       "      <td>19</td>\n",
       "      <td>4</td>\n",
       "      <td>Overweight</td>\n",
       "      <td>133/78</td>\n",
       "      <td>97</td>\n",
       "      <td>14945</td>\n",
       "      <td>Insomnia</td>\n",
       "    </tr>\n",
       "  </tbody>\n",
       "</table>\n",
       "</div>"
      ],
      "text/plain": [
       "   Person ID  Gender  Age     Occupation  Sleep Duration (hours)  \\\n",
       "0          1    Male   29   Manual Labor                     7.4   \n",
       "1          2  Female   43        Retired                     4.2   \n",
       "2          3    Male   44        Retired                     6.1   \n",
       "3          4    Male   29  Office Worker                     8.3   \n",
       "4          5    Male   67        Retired                     9.1   \n",
       "\n",
       "   Quality of Sleep (scale: 1-10)  Physical Activity Level (minutes/day)  \\\n",
       "0                             7.0                                     41   \n",
       "1                             4.9                                     41   \n",
       "2                             6.0                                    107   \n",
       "3                            10.0                                     20   \n",
       "4                             9.5                                     19   \n",
       "\n",
       "   Stress Level (scale: 1-10) BMI Category  \\\n",
       "0                           7        Obese   \n",
       "1                           5        Obese   \n",
       "2                           4  Underweight   \n",
       "3                          10        Obese   \n",
       "4                           4   Overweight   \n",
       "\n",
       "  Blood Pressure (systolic/diastolic)  Heart Rate (bpm)  Daily Steps  \\\n",
       "0                              124/70                91         8539   \n",
       "1                              131/86                81        18754   \n",
       "2                              122/70                81         2857   \n",
       "3                              124/72                55         6886   \n",
       "4                              133/78                97        14945   \n",
       "\n",
       "  Sleep Disorder  \n",
       "0            NaN  \n",
       "1            NaN  \n",
       "2            NaN  \n",
       "3            NaN  \n",
       "4       Insomnia  "
      ]
     },
     "execution_count": 3,
     "metadata": {},
     "output_type": "execute_result"
    }
   ],
   "source": [
    "df.head()"
   ]
  },
  {
   "cell_type": "code",
   "execution_count": 4,
   "metadata": {},
   "outputs": [
    {
     "name": "stdout",
     "output_type": "stream",
     "text": [
      "<class 'pandas.core.frame.DataFrame'>\n",
      "RangeIndex: 400 entries, 0 to 399\n",
      "Data columns (total 13 columns):\n",
      " #   Column                                 Non-Null Count  Dtype  \n",
      "---  ------                                 --------------  -----  \n",
      " 0   Person ID                              400 non-null    int64  \n",
      " 1   Gender                                 400 non-null    object \n",
      " 2   Age                                    400 non-null    int64  \n",
      " 3   Occupation                             400 non-null    object \n",
      " 4   Sleep Duration (hours)                 400 non-null    float64\n",
      " 5   Quality of Sleep (scale: 1-10)         400 non-null    float64\n",
      " 6   Physical Activity Level (minutes/day)  400 non-null    int64  \n",
      " 7   Stress Level (scale: 1-10)             400 non-null    int64  \n",
      " 8   BMI Category                           400 non-null    object \n",
      " 9   Blood Pressure (systolic/diastolic)    400 non-null    object \n",
      " 10  Heart Rate (bpm)                       400 non-null    int64  \n",
      " 11  Daily Steps                            400 non-null    int64  \n",
      " 12  Sleep Disorder                         110 non-null    object \n",
      "dtypes: float64(2), int64(6), object(5)\n",
      "memory usage: 40.8+ KB\n"
     ]
    }
   ],
   "source": [
    "df.info()"
   ]
  },
  {
   "cell_type": "code",
   "execution_count": 5,
   "metadata": {},
   "outputs": [
    {
     "data": {
      "text/plain": [
       "Person ID                                  0\n",
       "Gender                                     0\n",
       "Age                                        0\n",
       "Occupation                                 0\n",
       "Sleep Duration (hours)                     0\n",
       "Quality of Sleep (scale: 1-10)             0\n",
       "Physical Activity Level (minutes/day)      0\n",
       "Stress Level (scale: 1-10)                 0\n",
       "BMI Category                               0\n",
       "Blood Pressure (systolic/diastolic)        0\n",
       "Heart Rate (bpm)                           0\n",
       "Daily Steps                                0\n",
       "Sleep Disorder                           290\n",
       "dtype: int64"
      ]
     },
     "execution_count": 5,
     "metadata": {},
     "output_type": "execute_result"
    }
   ],
   "source": [
    "df.isnull().sum()"
   ]
  },
  {
   "cell_type": "code",
   "execution_count": 6,
   "metadata": {},
   "outputs": [
    {
     "data": {
      "text/plain": [
       "np.int64(0)"
      ]
     },
     "execution_count": 6,
     "metadata": {},
     "output_type": "execute_result"
    }
   ],
   "source": [
    "df.duplicated().sum()"
   ]
  },
  {
   "cell_type": "code",
   "execution_count": 7,
   "metadata": {},
   "outputs": [],
   "source": [
    "df.rename(columns={\n",
    "    'Sleep Duration (hours)': 'Sleep Duration',\n",
    "    'Quality of Sleep (scale: 1-10)': 'Quality of Sleep',\n",
    "    'Physical Activity Level (minutes/day)': 'Physical Activity Level',\n",
    "    'Stress Level (scale: 1-10)': 'Stress Level',\n",
    "    'Blood Pressure (systolic/diastolic)': 'Blood Pressure',\n",
    "    'Heart Rate (bpm)': 'Heart Rate',\n",
    "}, inplace=True)\n"
   ]
  },
  {
   "cell_type": "code",
   "execution_count": 8,
   "metadata": {},
   "outputs": [],
   "source": [
    "# Person ID -> irrelevant column\n",
    "# Sleep Disorder -> alot of missing data\n",
    "\n",
    "df.drop(columns=[\"Person ID\", \"Sleep Disorder\"], inplace=True)"
   ]
  },
  {
   "cell_type": "code",
   "execution_count": 9,
   "metadata": {},
   "outputs": [],
   "source": [
    "label_encoder = LabelEncoder()\n",
    "df[\"Gender\"] = label_encoder.fit_transform(df[\"Gender\"])"
   ]
  },
  {
   "cell_type": "code",
   "execution_count": 10,
   "metadata": {},
   "outputs": [],
   "source": [
    "# i will apply it in the merge with all the files\n",
    "\n",
    "# encoder = OneHotEncoder(sparse_output=False)\n",
    "# occupation_encoded = encoder.fit_transform(df[[\"Occupation\"]])\n",
    "# occupation_df = pd.DataFrame(occupation_encoded, columns=encoder.get_feature_names_out([\"Occupation\"]))\n",
    "\n",
    "# df.drop(columns=[\"Occupation\"], inplace=True)\n",
    "# df = pd.concat([df.reset_index(drop=True), occupation_df], axis=1)"
   ]
  },
  {
   "cell_type": "code",
   "execution_count": 11,
   "metadata": {},
   "outputs": [
    {
     "data": {
      "text/plain": [
       "BMI Category\n",
       "Overweight     109\n",
       "Underweight    102\n",
       "Obese           98\n",
       "Normal          91\n",
       "Name: count, dtype: int64"
      ]
     },
     "execution_count": 11,
     "metadata": {},
     "output_type": "execute_result"
    }
   ],
   "source": [
    "df[\"BMI Category\"].value_counts()"
   ]
  },
  {
   "cell_type": "code",
   "execution_count": 12,
   "metadata": {},
   "outputs": [],
   "source": [
    "bmi_mapping = {\n",
    "    \"Underweight\": 0,\n",
    "    \"Normal\": 1,\n",
    "    \"Overweight\": 2,\n",
    "    \"Obese\": 3\n",
    "}\n",
    "\n",
    "df[\"BMI Category\"] = df[\"BMI Category\"].map(bmi_mapping)"
   ]
  },
  {
   "cell_type": "code",
   "execution_count": 13,
   "metadata": {},
   "outputs": [],
   "source": [
    "# Convert \"Blood Pressure Ratio\" from string (\"126/82\") to numeric (1.51)\n",
    "\n",
    "df['Blood Pressure'] = df['Blood Pressure'].apply(lambda df: eval(df) if isinstance(df, str) else df)"
   ]
  },
  {
   "cell_type": "code",
   "execution_count": 14,
   "metadata": {},
   "outputs": [
    {
     "data": {
      "text/html": [
       "<div>\n",
       "<style scoped>\n",
       "    .dataframe tbody tr th:only-of-type {\n",
       "        vertical-align: middle;\n",
       "    }\n",
       "\n",
       "    .dataframe tbody tr th {\n",
       "        vertical-align: top;\n",
       "    }\n",
       "\n",
       "    .dataframe thead th {\n",
       "        text-align: right;\n",
       "    }\n",
       "</style>\n",
       "<table border=\"1\" class=\"dataframe\">\n",
       "  <thead>\n",
       "    <tr style=\"text-align: right;\">\n",
       "      <th></th>\n",
       "      <th>Gender</th>\n",
       "      <th>Age</th>\n",
       "      <th>Occupation</th>\n",
       "      <th>Sleep Duration</th>\n",
       "      <th>Quality of Sleep</th>\n",
       "      <th>Physical Activity Level</th>\n",
       "      <th>Stress Level</th>\n",
       "      <th>BMI Category</th>\n",
       "      <th>Blood Pressure</th>\n",
       "      <th>Heart Rate</th>\n",
       "      <th>Daily Steps</th>\n",
       "    </tr>\n",
       "  </thead>\n",
       "  <tbody>\n",
       "    <tr>\n",
       "      <th>0</th>\n",
       "      <td>1</td>\n",
       "      <td>29</td>\n",
       "      <td>Manual Labor</td>\n",
       "      <td>7.4</td>\n",
       "      <td>7.0</td>\n",
       "      <td>41</td>\n",
       "      <td>7</td>\n",
       "      <td>3</td>\n",
       "      <td>1.771429</td>\n",
       "      <td>91</td>\n",
       "      <td>8539</td>\n",
       "    </tr>\n",
       "    <tr>\n",
       "      <th>1</th>\n",
       "      <td>0</td>\n",
       "      <td>43</td>\n",
       "      <td>Retired</td>\n",
       "      <td>4.2</td>\n",
       "      <td>4.9</td>\n",
       "      <td>41</td>\n",
       "      <td>5</td>\n",
       "      <td>3</td>\n",
       "      <td>1.523256</td>\n",
       "      <td>81</td>\n",
       "      <td>18754</td>\n",
       "    </tr>\n",
       "    <tr>\n",
       "      <th>2</th>\n",
       "      <td>1</td>\n",
       "      <td>44</td>\n",
       "      <td>Retired</td>\n",
       "      <td>6.1</td>\n",
       "      <td>6.0</td>\n",
       "      <td>107</td>\n",
       "      <td>4</td>\n",
       "      <td>0</td>\n",
       "      <td>1.742857</td>\n",
       "      <td>81</td>\n",
       "      <td>2857</td>\n",
       "    </tr>\n",
       "    <tr>\n",
       "      <th>3</th>\n",
       "      <td>1</td>\n",
       "      <td>29</td>\n",
       "      <td>Office Worker</td>\n",
       "      <td>8.3</td>\n",
       "      <td>10.0</td>\n",
       "      <td>20</td>\n",
       "      <td>10</td>\n",
       "      <td>3</td>\n",
       "      <td>1.722222</td>\n",
       "      <td>55</td>\n",
       "      <td>6886</td>\n",
       "    </tr>\n",
       "    <tr>\n",
       "      <th>4</th>\n",
       "      <td>1</td>\n",
       "      <td>67</td>\n",
       "      <td>Retired</td>\n",
       "      <td>9.1</td>\n",
       "      <td>9.5</td>\n",
       "      <td>19</td>\n",
       "      <td>4</td>\n",
       "      <td>2</td>\n",
       "      <td>1.705128</td>\n",
       "      <td>97</td>\n",
       "      <td>14945</td>\n",
       "    </tr>\n",
       "  </tbody>\n",
       "</table>\n",
       "</div>"
      ],
      "text/plain": [
       "   Gender  Age     Occupation  Sleep Duration  Quality of Sleep  \\\n",
       "0       1   29   Manual Labor             7.4               7.0   \n",
       "1       0   43        Retired             4.2               4.9   \n",
       "2       1   44        Retired             6.1               6.0   \n",
       "3       1   29  Office Worker             8.3              10.0   \n",
       "4       1   67        Retired             9.1               9.5   \n",
       "\n",
       "   Physical Activity Level  Stress Level  BMI Category  Blood Pressure  \\\n",
       "0                       41             7             3        1.771429   \n",
       "1                       41             5             3        1.523256   \n",
       "2                      107             4             0        1.742857   \n",
       "3                       20            10             3        1.722222   \n",
       "4                       19             4             2        1.705128   \n",
       "\n",
       "   Heart Rate  Daily Steps  \n",
       "0          91         8539  \n",
       "1          81        18754  \n",
       "2          81         2857  \n",
       "3          55         6886  \n",
       "4          97        14945  "
      ]
     },
     "execution_count": 14,
     "metadata": {},
     "output_type": "execute_result"
    }
   ],
   "source": [
    "df.head()"
   ]
  },
  {
   "cell_type": "code",
   "execution_count": 15,
   "metadata": {},
   "outputs": [
    {
     "data": {
      "text/plain": [
       "array([[<Axes: title={'center': 'Gender'}>,\n",
       "        <Axes: title={'center': 'Age'}>,\n",
       "        <Axes: title={'center': 'Sleep Duration'}>],\n",
       "       [<Axes: title={'center': 'Quality of Sleep'}>,\n",
       "        <Axes: title={'center': 'Physical Activity Level'}>,\n",
       "        <Axes: title={'center': 'Stress Level'}>],\n",
       "       [<Axes: title={'center': 'BMI Category'}>,\n",
       "        <Axes: title={'center': 'Blood Pressure'}>,\n",
       "        <Axes: title={'center': 'Heart Rate'}>],\n",
       "       [<Axes: title={'center': 'Daily Steps'}>, <Axes: >, <Axes: >]],\n",
       "      dtype=object)"
      ]
     },
     "execution_count": 15,
     "metadata": {},
     "output_type": "execute_result"
    },
    {
     "data": {
      "image/png": "[encoded data removed]",
      "text/plain": [
       "<Figure size 1000x800 with 12 Axes>"
      ]
     },
     "metadata": {},
     "output_type": "display_data"
    }
   ],
   "source": [
    "df.hist(figsize=(10, 8))"
   ]
  },
  {
   "cell_type": "code",
   "execution_count": 16,
   "metadata": {},
   "outputs": [
    {
     "name": "stdout",
     "output_type": "stream",
     "text": [
      "\n",
      "Outlier Analysis for: Gender\n",
      "Q1: 0.0, Q3: 1.0, IQR: 1.0\n",
      "Lower Bound: -1.5, Upper Bound: 2.5\n",
      "Number of Outliers: 0\n",
      "Outliers: []\n",
      "\n",
      "\n",
      "Outlier Analysis for: Age\n",
      "Q1: 29.0, Q3: 49.0, IQR: 20.0\n",
      "Lower Bound: -1.0, Upper Bound: 79.0\n",
      "Number of Outliers: 3\n",
      "Outliers: [80 90 86]\n",
      "\n",
      "\n",
      "Outlier Analysis for: Sleep Duration\n",
      "Q1: 5.9, Q3: 10.125, IQR: 4.225\n",
      "Lower Bound: -0.4374999999999991, Upper Bound: 16.4625\n",
      "Number of Outliers: 0\n",
      "Outliers: []\n",
      "\n",
      "\n",
      "Outlier Analysis for: Quality of Sleep\n",
      "Q1: 4.7, Q3: 7.425000000000001, IQR: 2.7250000000000005\n",
      "Lower Bound: 0.6124999999999998, Upper Bound: 11.512500000000001\n",
      "Number of Outliers: 0\n",
      "Outliers: []\n",
      "\n",
      "\n",
      "Outlier Analysis for: Physical Activity Level\n",
      "Q1: 35.0, Q3: 94.0, IQR: 59.0\n",
      "Lower Bound: -53.5, Upper Bound: 182.5\n",
      "Number of Outliers: 0\n",
      "Outliers: []\n",
      "\n",
      "\n",
      "Outlier Analysis for: Stress Level\n",
      "Q1: 3.0, Q3: 8.0, IQR: 5.0\n",
      "Lower Bound: -4.5, Upper Bound: 15.5\n",
      "Number of Outliers: 0\n",
      "Outliers: []\n",
      "\n",
      "\n",
      "Outlier Analysis for: BMI Category\n",
      "Q1: 0.0, Q3: 2.0, IQR: 2.0\n",
      "Lower Bound: -3.0, Upper Bound: 5.0\n",
      "Number of Outliers: 0\n",
      "Outliers: []\n",
      "\n",
      "\n",
      "Outlier Analysis for: Blood Pressure\n",
      "Q1: 1.5993506493506495, Q3: 1.7871336313959265, IQR: 0.187782982045277\n",
      "Lower Bound: 1.317676176282734, Upper Bound: 2.068808104463842\n",
      "Number of Outliers: 1\n",
      "Outliers: [2.08333333]\n",
      "\n",
      "\n",
      "Outlier Analysis for: Heart Rate\n",
      "Q1: 63.0, Q3: 90.0, IQR: 27.0\n",
      "Lower Bound: 22.5, Upper Bound: 130.5\n",
      "Number of Outliers: 0\n",
      "Outliers: []\n",
      "\n",
      "\n",
      "Outlier Analysis for: Daily Steps\n",
      "Q1: 6165.25, Q3: 15878.0, IQR: 9712.75\n",
      "Lower Bound: -8403.875, Upper Bound: 30447.125\n",
      "Number of Outliers: 0\n",
      "Outliers: []\n",
      "\n"
     ]
    }
   ],
   "source": [
    "# we do not have outliers\n",
    "# =======================\n",
    "\n",
    "numerical_columns = df.select_dtypes(include=['number']).columns\n",
    "\n",
    "# Function to detect outliers using IQR\n",
    "def detect_outliers_iqr(df, columns):\n",
    "    outlier_info = {}\n",
    "\n",
    "    for col in columns:\n",
    "        Q1 = df[col].quantile(0.25)\n",
    "        Q3 = df[col].quantile(0.75)\n",
    "        IQR = Q3 - Q1\n",
    "        lower_bound = Q1 - 1.5 * IQR\n",
    "        upper_bound = Q3 + 1.5 * IQR\n",
    "\n",
    "        # Count number of outliers\n",
    "        outliers = df[(df[col] < lower_bound) | (df[col] > upper_bound)][col]\n",
    "\n",
    "        outlier_info[col] = {\n",
    "            \"Q1\": Q1, \"Q3\": Q3, \"IQR\": IQR,\n",
    "            \"Lower Bound\": lower_bound, \"Upper Bound\": upper_bound,\n",
    "            \"Num Outliers\": len(outliers),\n",
    "            \"Outliers\": outliers.values  # Show outlier values\n",
    "        }\n",
    "\n",
    "    return outlier_info\n",
    "\n",
    "# Detect outliers in all numerical columns\n",
    "outliers = detect_outliers_iqr(df, numerical_columns)\n",
    "\n",
    "for col, info in outliers.items():\n",
    "    print(f\"\\nOutlier Analysis for: {col}\")\n",
    "    print(f\"Q1: {info['Q1']}, Q3: {info['Q3']}, IQR: {info['IQR']}\")\n",
    "    print(f\"Lower Bound: {info['Lower Bound']}, Upper Bound: {info['Upper Bound']}\")\n",
    "    print(f\"Number of Outliers: {info['Num Outliers']}\")\n",
    "    print(f\"Outliers: {info['Outliers']}\\n\")"
   ]
  },
  {
   "cell_type": "code",
   "execution_count": 17,
   "metadata": {},
   "outputs": [],
   "source": [
    "df.to_csv('third_clean.csv', index=False)"
   ]
  }
 ],
 "metadata": {
  "kernelspec": {
   "display_name": "Python 3",
   "language": "python",
   "name": "python3"
  },
  "language_info": {
   "codemirror_mode": {
    "name": "ipython",
    "version": 3
   },
   "file_extension": ".py",
   "mimetype": "text/x-python",
   "name": "python",
   "nbconvert_exporter": "python",
   "pygments_lexer": "ipython3",
   "version": "3.12.4"
  }
 },
 "nbformat": 4,
 "nbformat_minor": 2
}
