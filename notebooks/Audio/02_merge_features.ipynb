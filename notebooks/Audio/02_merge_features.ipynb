{
 "cells": [
  {
   "cell_type": "code",
   "execution_count": null,
   "metadata": {},
   "outputs": [],
   "source": [
    "# Merge Sleep Data with Audio Features\n",
    "\n",
    "#This notebook merges the sleep data with audio features to create a combined dataset for analysis."
   ]
  },
  {
   "cell_type": "code",
   "execution_count": 1,
   "metadata": {},
   "outputs": [],
   "source": [
    "import pandas as pd\n",
    "from pathlib import Path\n",
    "\n",
    "# Set up paths\n",
    "project_root = Path().resolve().parents[0]\n",
    "processed_dir = project_root / \"data\" / \"processed\"\n",
    "final_data_dir = processed_dir / \"final_data\""
   ]
  },
  {
   "cell_type": "code",
   "execution_count": 5,
   "metadata": {},
   "outputs": [
    {
     "name": "stdout",
     "output_type": "stream",
     "text": [
      "Expected path for sleepdata.csv: C:\\Users\\ASUS\\Desktop\\Sleep Predictor\\Deep_Sleep_Predictor\\notebooks\\data\\processed\\final_data\\sleepdata.csv\n",
      "Does sleepdata.csv exist at this path? False\n",
      "\n",
      "Expected path for audio_features.csv: C:\\Users\\ASUS\\Desktop\\Sleep Predictor\\Deep_Sleep_Predictor\\notebooks\\data\\processed\\audio_features.csv\n",
      "Does audio_features.csv exist at this path? False\n",
      "\n",
      "Current working directory of the notebook kernel: c:\\Users\\ASUS\\Desktop\\Sleep Predictor\\Deep_Sleep_Predictor\\notebooks\\Audio\n"
     ]
    }
   ],
   "source": [
    "import os\n",
    "from pathlib import Path\n",
    "\n",
    "# Assuming the notebook is in the 'notebooks' directory\n",
    "project_root = Path().resolve().parents[0]\n",
    "processed_dir = project_root / \"data\" / \"processed\"\n",
    "final_data_dir = processed_dir / \"final_data\"\n",
    "\n",
    "sleep_data_path = final_data_dir / \"sleepdata.csv\"\n",
    "audio_features_path = processed_dir / \"audio_features.csv\"\n",
    "\n",
    "print(f\"Expected path for sleepdata.csv: {sleep_data_path}\")\n",
    "print(f\"Does sleepdata.csv exist at this path? {sleep_data_path.exists()}\")\n",
    "\n",
    "print(f\"\\nExpected path for audio_features.csv: {audio_features_path}\")\n",
    "print(f\"Does audio_features.csv exist at this path? {audio_features_path.exists()}\")\n",
    "\n",
    "print(f\"\\nCurrent working directory of the notebook kernel: {os.getcwd()}\")"
   ]
  },
  {
   "cell_type": "code",
   "execution_count": 11,
   "metadata": {},
   "outputs": [
    {
     "name": "stdout",
     "output_type": "stream",
     "text": [
      "Attempt 1: Project root assuming notebook opened from 'notebooks': C:\\Users\\ASUS\\Desktop\\Sleep Predictor\\Deep_Sleep_Predictor\\notebooks\n",
      "Attempt 2: Project root assuming notebook opened from project root: C:\\Users\\ASUS\\Desktop\\Sleep Predictor\\Deep_Sleep_Predictor\\notebooks\\Audio\n",
      "\n",
      "Current working directory of the notebook kernel: c:\\Users\\ASUS\\Desktop\\Sleep Predictor\\Deep_Sleep_Predictor\\notebooks\\Audio\n",
      "\n",
      "Constructed absolute path for sleepdata.csv: C:\\Users\\ASUS\\Desktop\\Sleep Predictor\\Deep_Sleep_Predictor\\notebooks\\Audio\\data\\processed\\final_data\\sleepdata.csv\n",
      "Does sleepdata.csv exist at this absolute path? False\n",
      "\n",
      "Constructed absolute path for audio_features.csv: C:\\Users\\ASUS\\Desktop\\Sleep Predictor\\Deep_Sleep_Predictor\\notebooks\\Audio\\data\\processed\\audio_features.csv\n",
      "Does audio_features.csv exist at this absolute path? False\n"
     ]
    }
   ],
   "source": [
    "import os\n",
    "from pathlib import Path\n",
    "\n",
    "# Assuming the notebook is in the 'notebooks' directory relative to project root\n",
    "# Let's try to calculate the project root based on the notebook's likely location\n",
    "# We need to adjust this based on where you actually opened the notebook from.\n",
    "# If you opened it from the project root, project_root should just be Path().resolve()\n",
    "# If you opened it from 'notebooks', then parents[0] works.\n",
    "# If you opened it from 'notebooks/Audio', then parents[1] works.\n",
    "# Let's assume you opened it from 'notebooks' for now, as that's where the merge notebook is.\n",
    "\n",
    "# If you opened the notebook while inside the 'notebooks' directory:\n",
    "notebook_dir = Path().resolve()\n",
    "project_root_attempt_1 = notebook_dir.parent\n",
    "\n",
    "# If you opened the notebook while in the project root:\n",
    "project_root_attempt_2 = Path().resolve()\n",
    "\n",
    "\n",
    "print(f\"Attempt 1: Project root assuming notebook opened from 'notebooks': {project_root_attempt_1}\")\n",
    "print(f\"Attempt 2: Project root assuming notebook opened from project root: {project_root_attempt_2}\")\n",
    "print(f\"\\nCurrent working directory of the notebook kernel: {os.getcwd()}\")\n",
    "\n",
    "\n",
    "# Let's use attempt_2 for path construction, as that matches your terminal CWD\n",
    "project_root = project_root_attempt_2\n",
    "\n",
    "processed_dir = project_root / \"data\" / \"processed\"\n",
    "final_data_dir = processed_dir / \"final_data\"\n",
    "\n",
    "sleep_data_path = final_data_dir / \"sleepdata.csv\"\n",
    "audio_features_path = processed_dir / \"audio_features.csv\"\n",
    "\n",
    "print(f\"\\nConstructed absolute path for sleepdata.csv: {sleep_data_path}\")\n",
    "print(f\"Does sleepdata.csv exist at this absolute path? {sleep_data_path.exists()}\")\n",
    "\n",
    "print(f\"\\nConstructed absolute path for audio_features.csv: {audio_features_path}\")\n",
    "print(f\"Does audio_features.csv exist at this absolute path? {audio_features_path.exists()}\")\n"
   ]
  },
  {
   "cell_type": "code",
   "execution_count": 9,
   "metadata": {},
   "outputs": [
    {
     "ename": "NameError",
     "evalue": "name 'audio_features' is not defined",
     "output_type": "error",
     "traceback": [
      "\u001b[1;31m---------------------------------------------------------------------------\u001b[0m",
      "\u001b[1;31mNameError\u001b[0m                                 Traceback (most recent call last)",
      "Cell \u001b[1;32mIn[9], line 2\u001b[0m\n\u001b[0;32m      1\u001b[0m \u001b[38;5;66;03m# Extract file number from audio file names (e.g., \"0_123.wav\" -> 123)\u001b[39;00m\n\u001b[1;32m----> 2\u001b[0m audio_features[\u001b[38;5;124m'\u001b[39m\u001b[38;5;124mfile_number\u001b[39m\u001b[38;5;124m'\u001b[39m] \u001b[38;5;241m=\u001b[39m \u001b[43maudio_features\u001b[49m[\u001b[38;5;124m'\u001b[39m\u001b[38;5;124mfile\u001b[39m\u001b[38;5;124m'\u001b[39m]\u001b[38;5;241m.\u001b[39mstr\u001b[38;5;241m.\u001b[39msplit(\u001b[38;5;124m'\u001b[39m\u001b[38;5;124m_\u001b[39m\u001b[38;5;124m'\u001b[39m)\u001b[38;5;241m.\u001b[39mstr[\u001b[38;5;241m1\u001b[39m]\u001b[38;5;241m.\u001b[39mstr\u001b[38;5;241m.\u001b[39msplit(\u001b[38;5;124m'\u001b[39m\u001b[38;5;124m.\u001b[39m\u001b[38;5;124m'\u001b[39m)\u001b[38;5;241m.\u001b[39mstr[\u001b[38;5;241m0\u001b[39m]\u001b[38;5;241m.\u001b[39mastype(\u001b[38;5;28mint\u001b[39m)\n\u001b[0;32m      4\u001b[0m \u001b[38;5;66;03m# Merge: assumes sleepdata.csv's index matches the file_number\u001b[39;00m\n\u001b[0;32m      5\u001b[0m merged_data \u001b[38;5;241m=\u001b[39m pd\u001b[38;5;241m.\u001b[39mmerge(\n\u001b[0;32m      6\u001b[0m     sleep_data,\n\u001b[0;32m      7\u001b[0m     audio_features[[\u001b[38;5;124m'\u001b[39m\u001b[38;5;124mfile_number\u001b[39m\u001b[38;5;124m'\u001b[39m, \u001b[38;5;124m'\u001b[39m\u001b[38;5;124mrms_mean\u001b[39m\u001b[38;5;124m'\u001b[39m, \u001b[38;5;124m'\u001b[39m\u001b[38;5;124mrms_std\u001b[39m\u001b[38;5;124m'\u001b[39m]],\n\u001b[1;32m   (...)\u001b[0m\n\u001b[0;32m     10\u001b[0m     how\u001b[38;5;241m=\u001b[39m\u001b[38;5;124m'\u001b[39m\u001b[38;5;124mleft\u001b[39m\u001b[38;5;124m'\u001b[39m\n\u001b[0;32m     11\u001b[0m )\n",
      "\u001b[1;31mNameError\u001b[0m: name 'audio_features' is not defined"
     ]
    }
   ],
   "source": [
    "# Extract file number from audio file names (e.g., \"0_123.wav\" -> 123)\n",
    "audio_features['file_number'] = audio_features['file'].str.split('_').str[1].str.split('.').str[0].astype(int)\n",
    "\n",
    "# Merge: assumes sleepdata.csv's index matches the file_number\n",
    "merged_data = pd.merge(\n",
    "    sleep_data,\n",
    "    audio_features[['file_number', 'rms_mean', 'rms_std']],\n",
    "    left_index=True,\n",
    "    right_on='file_number',\n",
    "    how='left'\n",
    ")\n",
    "\n",
    "print(\"Merged data shape:\", merged_data.shape)\n",
    "print(\"Number of rows with missing audio features:\", merged_data['rms_mean'].isna().sum())"
   ]
  },
  {
   "cell_type": "code",
   "execution_count": 12,
   "metadata": {},
   "outputs": [
    {
     "name": "stdout",
     "output_type": "stream",
     "text": [
      "Project Root: C:\\Users\\ASUS\\Desktop\\Sleep Predictor\\Deep_Sleep_Predictor\n",
      "Processed Data Directory: C:\\Users\\ASUS\\Desktop\\Sleep Predictor\\Deep_Sleep_Predictor\\data\\processed\n",
      "Final Data Directory: C:\\Users\\ASUS\\Desktop\\Sleep Predictor\\Deep_Sleep_Predictor\\data\\processed\\final_data\n"
     ]
    }
   ],
   "source": [
    "import pandas as pd\n",
    "from pathlib import Path\n",
    "import os\n",
    "\n",
    "# Set up paths\n",
    "# Assuming the notebook is in the 'notebooks/Audio' directory,\n",
    "# the project root is two levels up.\n",
    "project_root = Path().resolve().parents[1]\n",
    "\n",
    "processed_dir = project_root / \"data\" / \"processed\"\n",
    "final_data_dir = processed_dir / \"final_data\"\n",
    "\n",
    "print(f\"Project Root: {project_root}\")\n",
    "print(f\"Processed Data Directory: {processed_dir}\")\n",
    "print(f\"Final Data Directory: {final_data_dir}\")\n",
    "\n",
    "# Add project root to sys.path if needed for imports like audio_utils\n",
    "# import sys\n",
    "# if str(project_root) not in sys.path:\n",
    "#     sys.path.insert(0, str(project_root))"
   ]
  },
  {
   "cell_type": "code",
   "execution_count": 13,
   "metadata": {},
   "outputs": [
    {
     "name": "stdout",
     "output_type": "stream",
     "text": [
      "Attempting to load sleepdata.csv from: C:\\Users\\ASUS\\Desktop\\Sleep Predictor\\Deep_Sleep_Predictor\\data\\processed\\final_data\\sleepdata.csv\n",
      "Does sleepdata.csv exist? True\n",
      "Attempting to load audio_features.csv from: C:\\Users\\ASUS\\Desktop\\Sleep Predictor\\Deep_Sleep_Predictor\\data\\processed\\audio_features.csv\n",
      "Does audio_features.csv exist? True\n",
      "\n",
      "Sleep data shape: (2981, 25)\n",
      "\n",
      "Audio features shape: (1000, 4)\n"
     ]
    }
   ],
   "source": [
    "# Load the datasets\n",
    "# Use the correctly constructed absolute paths\n",
    "sleep_data_path = final_data_dir / \"sleepdata.csv\"\n",
    "audio_features_path = processed_dir / \"audio_features.csv\"\n",
    "\n",
    "print(f\"Attempting to load sleepdata.csv from: {sleep_data_path}\")\n",
    "print(f\"Does sleepdata.csv exist? {sleep_data_path.exists()}\")\n",
    "print(f\"Attempting to load audio_features.csv from: {audio_features_path}\")\n",
    "print(f\"Does audio_features.csv exist? {audio_features_path.exists()}\")\n",
    "\n",
    "sleep_data = pd.read_csv(sleep_data_path) # removed index_col=False, typically not needed unless you have a reason\n",
    "audio_features = pd.read_csv(audio_features_path)\n",
    "\n",
    "print(\"\\nSleep data shape:\", sleep_data.shape)\n",
    "# print(\"\\nSleep data columns:\") # Keep this commented unless needed for troubleshooting output size\n",
    "# print(sleep_data.columns.tolist())\n",
    "print(\"\\nAudio features shape:\", audio_features.shape)\n",
    "# print(\"\\nAudio features columns:\") # Keep this commented unless needed for troubleshooting output size\n",
    "# print(audio_features.columns.tolist())\n"
   ]
  },
  {
   "cell_type": "code",
   "execution_count": 14,
   "metadata": {},
   "outputs": [
    {
     "name": "stdout",
     "output_type": "stream",
     "text": [
      "Merged data shape: (3481, 28)\n",
      "Number of rows with missing audio features: 2481\n"
     ]
    }
   ],
   "source": [
    "# Create a mapping from audio file names to indices in sleep_data\n",
    "# We'll use the file number as an index\n",
    "# Ensure audio_features and sleep_data are defined before this cell\n",
    "if 'audio_features' in locals() and 'sleep_data' in locals():\n",
    "    audio_features['file_number'] = audio_features['file'].str.split('_').str[1].str.split('.').str[0].astype(int)\n",
    "\n",
    "    # Merge the datasets\n",
    "    # Using left_index=True assumes the index of sleep_data corresponds\n",
    "    # to the file_number from audio_features. Double-check this assumption.\n",
    "    # If the sleep_data has a column with the file number, use that instead of left_index.\n",
    "    # Example: merged_data = pd.merge(sleep_data, audio_features[['file_number', 'rms_mean', 'rms_std']], left_on='your_file_number_column', right_on='file_number', how='left')\n",
    "\n",
    "    merged_data = pd.merge(\n",
    "        sleep_data,\n",
    "        audio_features[['file_number', 'rms_mean', 'rms_std']],\n",
    "        left_index=True,\n",
    "        right_on='file_number',\n",
    "        how='left'\n",
    "    )\n",
    "\n",
    "    print(\"Merged data shape:\", merged_data.shape)\n",
    "    print(\"Number of rows with missing audio features:\", merged_data['rms_mean'].isna().sum())\n",
    "else:\n",
    "    print(\"Error: DataFrames 'audio_features' or 'sleep_data' not loaded. Please check previous cells.\")\n"
   ]
  },
  {
   "cell_type": "code",
   "execution_count": 15,
   "metadata": {},
   "outputs": [
    {
     "name": "stdout",
     "output_type": "stream",
     "text": [
      "Saved merged dataset to C:\\Users\\ASUS\\Desktop\\Sleep Predictor\\Deep_Sleep_Predictor\\data\\processed\\merged_sleep_audio.csv\n"
     ]
    }
   ],
   "source": [
    "# Save the merged dataset\n",
    "# Ensure merged_data is defined before this cell\n",
    "if 'merged_data' in locals():\n",
    "    output_path = processed_dir / \"merged_sleep_audio.csv\"\n",
    "    merged_data.to_csv(output_path, index=False)\n",
    "    print(f\"Saved merged dataset to {output_path}\")\n",
    "else:\n",
    "     print(\"Error: Merged DataFrame not created. Please check previous cells.\")\n"
   ]
  }
 ],
 "metadata": {
  "kernelspec": {
   "display_name": "Python 3",
   "language": "python",
   "name": "python3"
  },
  "language_info": {
   "codemirror_mode": {
    "name": "ipython",
    "version": 3
   },
   "file_extension": ".py",
   "mimetype": "text/x-python",
   "name": "python",
   "nbconvert_exporter": "python",
   "pygments_lexer": "ipython3",
   "version": "3.13.0"
  }
 },
 "nbformat": 4,
 "nbformat_minor": 2
}
