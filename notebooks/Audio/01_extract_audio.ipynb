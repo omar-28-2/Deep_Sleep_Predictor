{
 "cells": [
  {
   "cell_type": "code",
   "execution_count": 1,
   "metadata": {},
   "outputs": [
    {
     "name": "stdout",
     "output_type": "stream",
     "text": [
      "Collecting librosaNote: you may need to restart the kernel to use updated packages.\n",
      "\n",
      "  Downloading librosa-0.11.0-py3-none-any.whl.metadata (8.7 kB)\n",
      "Collecting soundfile\n",
      "  Downloading soundfile-0.13.1-py2.py3-none-win_amd64.whl.metadata (16 kB)\n",
      "Requirement already satisfied: numpy in c:\\users\\asus\\appdata\\local\\programs\\python\\python313\\lib\\site-packages (2.2.1)\n",
      "Requirement already satisfied: pandas in c:\\users\\asus\\appdata\\local\\programs\\python\\python313\\lib\\site-packages (2.2.3)\n",
      "Collecting audioread>=2.1.9 (from librosa)\n",
      "  Downloading audioread-3.0.1-py3-none-any.whl.metadata (8.4 kB)\n",
      "Collecting numba>=0.51.0 (from librosa)\n",
      "  Downloading numba-0.61.2-cp313-cp313-win_amd64.whl.metadata (2.8 kB)\n",
      "Requirement already satisfied: scipy>=1.6.0 in c:\\users\\asus\\appdata\\local\\programs\\python\\python313\\lib\\site-packages (from librosa) (1.14.1)\n",
      "Requirement already satisfied: scikit-learn>=1.1.0 in c:\\users\\asus\\appdata\\local\\programs\\python\\python313\\lib\\site-packages (from librosa) (1.6.0)\n",
      "Requirement already satisfied: joblib>=1.0 in c:\\users\\asus\\appdata\\local\\programs\\python\\python313\\lib\\site-packages (from librosa) (1.4.2)\n",
      "Requirement already satisfied: decorator>=4.3.0 in c:\\users\\asus\\appdata\\roaming\\python\\python313\\site-packages (from librosa) (5.1.1)\n",
      "Collecting pooch>=1.1 (from librosa)\n",
      "  Downloading pooch-1.8.2-py3-none-any.whl.metadata (10 kB)\n",
      "Collecting soxr>=0.3.2 (from librosa)\n",
      "  Downloading soxr-0.5.0.post1-cp312-abi3-win_amd64.whl.metadata (5.6 kB)\n",
      "Requirement already satisfied: typing_extensions>=4.1.1 in c:\\users\\asus\\appdata\\local\\programs\\python\\python313\\lib\\site-packages (from librosa) (4.12.2)\n",
      "Requirement already satisfied: lazy_loader>=0.1 in c:\\users\\asus\\appdata\\local\\programs\\python\\python313\\lib\\site-packages (from librosa) (0.4)\n",
      "Collecting msgpack>=1.0 (from librosa)\n",
      "  Downloading msgpack-1.1.0-cp313-cp313-win_amd64.whl.metadata (8.6 kB)\n",
      "Collecting standard-aifc (from librosa)\n",
      "  Downloading standard_aifc-3.13.0-py3-none-any.whl.metadata (969 bytes)\n",
      "Collecting standard-sunau (from librosa)\n",
      "  Downloading standard_sunau-3.13.0-py3-none-any.whl.metadata (914 bytes)\n",
      "Collecting cffi>=1.0 (from soundfile)\n",
      "  Downloading cffi-1.17.1-cp313-cp313-win_amd64.whl.metadata (1.6 kB)\n",
      "Requirement already satisfied: python-dateutil>=2.8.2 in c:\\users\\asus\\appdata\\roaming\\python\\python313\\site-packages (from pandas) (2.9.0.post0)\n",
      "Requirement already satisfied: pytz>=2020.1 in c:\\users\\asus\\appdata\\local\\programs\\python\\python313\\lib\\site-packages (from pandas) (2024.2)\n",
      "Requirement already satisfied: tzdata>=2022.7 in c:\\users\\asus\\appdata\\local\\programs\\python\\python313\\lib\\site-packages (from pandas) (2024.2)\n",
      "Collecting pycparser (from cffi>=1.0->soundfile)\n",
      "  Downloading pycparser-2.22-py3-none-any.whl.metadata (943 bytes)\n",
      "Requirement already satisfied: packaging in c:\\users\\asus\\appdata\\local\\programs\\python\\python313\\lib\\site-packages (from lazy_loader>=0.1->librosa) (24.1)\n",
      "Collecting llvmlite<0.45,>=0.44.0dev0 (from numba>=0.51.0->librosa)\n",
      "  Downloading llvmlite-0.44.0-cp313-cp313-win_amd64.whl.metadata (5.0 kB)\n",
      "Requirement already satisfied: platformdirs>=2.5.0 in c:\\users\\asus\\appdata\\local\\programs\\python\\python313\\lib\\site-packages (from pooch>=1.1->librosa) (4.3.6)\n",
      "Requirement already satisfied: requests>=2.19.0 in c:\\users\\asus\\appdata\\local\\programs\\python\\python313\\lib\\site-packages (from pooch>=1.1->librosa) (2.32.3)\n",
      "Requirement already satisfied: six>=1.5 in c:\\users\\asus\\appdata\\roaming\\python\\python313\\site-packages (from python-dateutil>=2.8.2->pandas) (1.17.0)\n",
      "Requirement already satisfied: threadpoolctl>=3.1.0 in c:\\users\\asus\\appdata\\local\\programs\\python\\python313\\lib\\site-packages (from scikit-learn>=1.1.0->librosa) (3.5.0)\n",
      "Collecting standard-chunk (from standard-aifc->librosa)\n",
      "  Downloading standard_chunk-3.13.0-py3-none-any.whl.metadata (860 bytes)\n",
      "Collecting audioop-lts (from standard-aifc->librosa)\n",
      "  Downloading audioop_lts-0.2.1-cp313-abi3-win_amd64.whl.metadata (1.7 kB)\n",
      "Requirement already satisfied: charset-normalizer<4,>=2 in c:\\users\\asus\\appdata\\local\\programs\\python\\python313\\lib\\site-packages (from requests>=2.19.0->pooch>=1.1->librosa) (3.4.1)\n",
      "Requirement already satisfied: idna<4,>=2.5 in c:\\users\\asus\\appdata\\local\\programs\\python\\python313\\lib\\site-packages (from requests>=2.19.0->pooch>=1.1->librosa) (3.10)\n",
      "Requirement already satisfied: urllib3<3,>=1.21.1 in c:\\users\\asus\\appdata\\local\\programs\\python\\python313\\lib\\site-packages (from requests>=2.19.0->pooch>=1.1->librosa) (2.3.0)\n",
      "Requirement already satisfied: certifi>=2017.4.17 in c:\\users\\asus\\appdata\\local\\programs\\python\\python313\\lib\\site-packages (from requests>=2.19.0->pooch>=1.1->librosa) (2024.12.14)\n",
      "Downloading librosa-0.11.0-py3-none-any.whl (260 kB)\n",
      "Downloading soundfile-0.13.1-py2.py3-none-win_amd64.whl (1.0 MB)\n",
      "   ---------------------------------------- 0.0/1.0 MB ? eta -:--:--\n",
      "   ------------------------------ --------- 0.8/1.0 MB 4.0 MB/s eta 0:00:01\n",
      "   ---------------------------------------- 1.0/1.0 MB 3.6 MB/s eta 0:00:00\n",
      "Downloading audioread-3.0.1-py3-none-any.whl (23 kB)\n",
      "Downloading cffi-1.17.1-cp313-cp313-win_amd64.whl (182 kB)\n",
      "Downloading msgpack-1.1.0-cp313-cp313-win_amd64.whl (75 kB)\n",
      "Downloading numba-0.61.2-cp313-cp313-win_amd64.whl (2.8 MB)\n",
      "   ---------------------------------------- 0.0/2.8 MB ? eta -:--:--\n",
      "   ----------- ---------------------------- 0.8/2.8 MB 4.0 MB/s eta 0:00:01\n",
      "   -------------- ------------------------- 1.0/2.8 MB 4.0 MB/s eta 0:00:01\n",
      "   ----------------------------- ---------- 2.1/2.8 MB 3.6 MB/s eta 0:00:01\n",
      "   ---------------------------------------- 2.8/2.8 MB 3.5 MB/s eta 0:00:00\n",
      "Downloading pooch-1.8.2-py3-none-any.whl (64 kB)\n",
      "Downloading soxr-0.5.0.post1-cp312-abi3-win_amd64.whl (164 kB)\n",
      "Downloading standard_aifc-3.13.0-py3-none-any.whl (10 kB)\n",
      "Downloading standard_sunau-3.13.0-py3-none-any.whl (7.4 kB)\n",
      "Downloading llvmlite-0.44.0-cp313-cp313-win_amd64.whl (30.3 MB)\n",
      "   ---------------------------------------- 0.0/30.3 MB ? eta -:--:--\n",
      "    --------------------------------------- 0.5/30.3 MB 3.8 MB/s eta 0:00:08\n",
      "   - -------------------------------------- 1.3/30.3 MB 3.5 MB/s eta 0:00:09\n",
      "   -- ------------------------------------- 2.1/30.3 MB 3.6 MB/s eta 0:00:08\n",
      "   --- ------------------------------------ 2.9/30.3 MB 3.7 MB/s eta 0:00:08\n",
      "   ---- ----------------------------------- 3.7/30.3 MB 3.7 MB/s eta 0:00:08\n",
      "   ----- ---------------------------------- 4.5/30.3 MB 3.7 MB/s eta 0:00:07\n",
      "   ------ --------------------------------- 5.2/30.3 MB 3.7 MB/s eta 0:00:07\n",
      "   ------- -------------------------------- 6.0/30.3 MB 3.7 MB/s eta 0:00:07\n",
      "   -------- ------------------------------- 6.8/30.3 MB 3.8 MB/s eta 0:00:07\n",
      "   --------- ------------------------------ 7.3/30.3 MB 3.7 MB/s eta 0:00:07\n",
      "   ---------- ----------------------------- 8.1/30.3 MB 3.7 MB/s eta 0:00:07\n",
      "   ----------- ---------------------------- 8.9/30.3 MB 3.7 MB/s eta 0:00:06\n",
      "   ------------ --------------------------- 9.7/30.3 MB 3.7 MB/s eta 0:00:06\n",
      "   ------------- -------------------------- 10.5/30.3 MB 3.7 MB/s eta 0:00:06\n",
      "   -------------- ------------------------- 11.3/30.3 MB 3.7 MB/s eta 0:00:06\n",
      "   --------------- ------------------------ 11.8/30.3 MB 3.7 MB/s eta 0:00:06\n",
      "   ---------------- ----------------------- 12.6/30.3 MB 3.7 MB/s eta 0:00:05\n",
      "   ----------------- ---------------------- 13.4/30.3 MB 3.7 MB/s eta 0:00:05\n",
      "   ------------------ --------------------- 13.9/30.3 MB 3.6 MB/s eta 0:00:05\n",
      "   ------------------- -------------------- 14.4/30.3 MB 3.6 MB/s eta 0:00:05\n",
      "   -------------------- ------------------- 15.2/30.3 MB 3.6 MB/s eta 0:00:05\n",
      "   --------------------- ------------------ 16.0/30.3 MB 3.6 MB/s eta 0:00:05\n",
      "   --------------------- ------------------ 16.5/30.3 MB 3.6 MB/s eta 0:00:04\n",
      "   ---------------------- ----------------- 17.0/30.3 MB 3.5 MB/s eta 0:00:04\n",
      "   ----------------------- ---------------- 17.6/30.3 MB 3.5 MB/s eta 0:00:04\n",
      "   ----------------------- ---------------- 17.6/30.3 MB 3.5 MB/s eta 0:00:04\n",
      "   ----------------------- ---------------- 18.1/30.3 MB 3.4 MB/s eta 0:00:04\n",
      "   ------------------------ --------------- 18.6/30.3 MB 3.3 MB/s eta 0:00:04\n",
      "   ------------------------- -------------- 19.4/30.3 MB 3.3 MB/s eta 0:00:04\n",
      "   ------------------------- -------------- 19.7/30.3 MB 3.3 MB/s eta 0:00:04\n",
      "   -------------------------- ------------- 20.2/30.3 MB 3.2 MB/s eta 0:00:04\n",
      "   --------------------------- ------------ 20.7/30.3 MB 3.2 MB/s eta 0:00:03\n",
      "   ---------------------------- ----------- 21.2/30.3 MB 3.2 MB/s eta 0:00:03\n",
      "   ---------------------------- ----------- 21.5/30.3 MB 3.1 MB/s eta 0:00:03\n",
      "   ----------------------------- ---------- 22.0/30.3 MB 3.1 MB/s eta 0:00:03\n",
      "   ------------------------------ --------- 22.8/30.3 MB 3.1 MB/s eta 0:00:03\n",
      "   ------------------------------ --------- 23.3/30.3 MB 3.1 MB/s eta 0:00:03\n",
      "   ------------------------------- -------- 24.1/30.3 MB 3.1 MB/s eta 0:00:02\n",
      "   -------------------------------- ------- 24.6/30.3 MB 3.1 MB/s eta 0:00:02\n",
      "   --------------------------------- ------ 25.2/30.3 MB 3.1 MB/s eta 0:00:02\n",
      "   --------------------------------- ------ 25.4/30.3 MB 3.1 MB/s eta 0:00:02\n",
      "   ---------------------------------- ----- 26.0/30.3 MB 3.0 MB/s eta 0:00:02\n",
      "   ---------------------------------- ----- 26.2/30.3 MB 3.0 MB/s eta 0:00:02\n",
      "   ----------------------------------- ---- 26.7/30.3 MB 3.0 MB/s eta 0:00:02\n",
      "   ----------------------------------- ---- 27.0/30.3 MB 2.9 MB/s eta 0:00:02\n",
      "   ----------------------------------- ---- 27.3/30.3 MB 3.0 MB/s eta 0:00:02\n",
      "   ------------------------------------ --- 27.8/30.3 MB 2.9 MB/s eta 0:00:01\n",
      "   ------------------------------------- -- 28.3/30.3 MB 2.9 MB/s eta 0:00:01\n",
      "   -------------------------------------- - 28.8/30.3 MB 2.9 MB/s eta 0:00:01\n",
      "   -------------------------------------- - 29.1/30.3 MB 2.9 MB/s eta 0:00:01\n",
      "   ---------------------------------------  29.6/30.3 MB 2.9 MB/s eta 0:00:01\n",
      "   ---------------------------------------  30.1/30.3 MB 2.9 MB/s eta 0:00:01\n",
      "   ---------------------------------------- 30.3/30.3 MB 2.8 MB/s eta 0:00:00\n",
      "Downloading audioop_lts-0.2.1-cp313-abi3-win_amd64.whl (30 kB)\n",
      "Downloading pycparser-2.22-py3-none-any.whl (117 kB)\n",
      "Downloading standard_chunk-3.13.0-py3-none-any.whl (4.9 kB)\n",
      "Installing collected packages: standard-chunk, soxr, pycparser, msgpack, llvmlite, audioread, audioop-lts, standard-sunau, standard-aifc, pooch, numba, cffi, soundfile, librosa\n",
      "Successfully installed audioop-lts-0.2.1 audioread-3.0.1 cffi-1.17.1 librosa-0.11.0 llvmlite-0.44.0 msgpack-1.1.0 numba-0.61.2 pooch-1.8.2 pycparser-2.22 soundfile-0.13.1 soxr-0.5.0.post1 standard-aifc-3.13.0 standard-chunk-3.13.0 standard-sunau-3.13.0\n"
     ]
    },
    {
     "name": "stderr",
     "output_type": "stream",
     "text": [
      "\n",
      "[notice] A new release of pip is available: 24.3.1 -> 25.1.1\n",
      "[notice] To update, run: python.exe -m pip install --upgrade pip\n"
     ]
    }
   ],
   "source": [
    "pip install librosa soundfile numpy pandas\n"
   ]
  },
  {
   "cell_type": "code",
   "execution_count": 8,
   "metadata": {},
   "outputs": [],
   "source": [
    "# At the top of your notebook:\n",
    "import os, sys\n",
    "from pathlib import Path\n",
    "\n",
    "# 1) Figure out your project root (two levels up from notebooks/Audio)\n",
    "project_root = Path().resolve().parents[1]\n",
    "# 2) (Optional) add it to sys.path so `from src.audio_utils` works\n",
    "sys.path.insert(0, str(project_root))\n",
    "\n",
    "# 3) Now set BASE relative to the project root\n",
    "BASE = project_root / \"data\" / \"raw\" / \"audio_raw\"\n",
    "\n",
    "from src.audio_utils import extract_audio_stats\n"
   ]
  },
  {
   "cell_type": "code",
   "execution_count": 4,
   "metadata": {},
   "outputs": [],
   "source": [
    "import sys, os\n",
    "# go up two levels from notebooks/Audio → project root\n",
    "proj_root = os.path.abspath(os.path.join(os.getcwd(), \"..\", \"..\"))\n",
    "if proj_root not in sys.path:\n",
    "    sys.path.insert(0, proj_root)\n",
    "\n",
    "from src.audio_utils import extract_audio_stats\n"
   ]
  },
  {
   "cell_type": "code",
   "execution_count": 12,
   "metadata": {},
   "outputs": [],
   "source": [
    "import os, pandas as pd\n",
    "from src.audio_utils import extract_audio_stats\n",
    "\n",
    "BASE = \"../data/raw/audio_raw\"\n",
    "folders = {\"everyday\": 0, \"snore\": 1}\n"
   ]
  },
  {
   "cell_type": "code",
   "execution_count": 13,
   "metadata": {},
   "outputs": [
    {
     "ename": "FileNotFoundError",
     "evalue": "[WinError 3] The system cannot find the path specified: '../data/raw/audio_raw/everyday'",
     "output_type": "error",
     "traceback": [
      "\u001b[1;31m---------------------------------------------------------------------------\u001b[0m",
      "\u001b[1;31mFileNotFoundError\u001b[0m                         Traceback (most recent call last)",
      "Cell \u001b[1;32mIn[13], line 3\u001b[0m\n\u001b[0;32m      1\u001b[0m rows \u001b[38;5;241m=\u001b[39m []\n\u001b[0;32m      2\u001b[0m \u001b[38;5;28;01mfor\u001b[39;00m name, label \u001b[38;5;129;01min\u001b[39;00m folders\u001b[38;5;241m.\u001b[39mitems():\n\u001b[1;32m----> 3\u001b[0m     \u001b[38;5;28;01mfor\u001b[39;00m fn \u001b[38;5;129;01min\u001b[39;00m \u001b[43mos\u001b[49m\u001b[38;5;241;43m.\u001b[39;49m\u001b[43mlistdir\u001b[49m\u001b[43m(\u001b[49m\u001b[38;5;124;43mf\u001b[39;49m\u001b[38;5;124;43m\"\u001b[39;49m\u001b[38;5;132;43;01m{\u001b[39;49;00m\u001b[43mBASE\u001b[49m\u001b[38;5;132;43;01m}\u001b[39;49;00m\u001b[38;5;124;43m/\u001b[39;49m\u001b[38;5;132;43;01m{\u001b[39;49;00m\u001b[43mname\u001b[49m\u001b[38;5;132;43;01m}\u001b[39;49;00m\u001b[38;5;124;43m\"\u001b[39;49m\u001b[43m)\u001b[49m:\n\u001b[0;32m      4\u001b[0m         \u001b[38;5;28;01mif\u001b[39;00m \u001b[38;5;129;01mnot\u001b[39;00m fn\u001b[38;5;241m.\u001b[39mendswith(\u001b[38;5;124m\"\u001b[39m\u001b[38;5;124m.wav\u001b[39m\u001b[38;5;124m\"\u001b[39m): \u001b[38;5;28;01mcontinue\u001b[39;00m\n\u001b[0;32m      5\u001b[0m         stats \u001b[38;5;241m=\u001b[39m extract_audio_stats(\u001b[38;5;124mf\u001b[39m\u001b[38;5;124m\"\u001b[39m\u001b[38;5;132;01m{\u001b[39;00mBASE\u001b[38;5;132;01m}\u001b[39;00m\u001b[38;5;124m/\u001b[39m\u001b[38;5;132;01m{\u001b[39;00mname\u001b[38;5;132;01m}\u001b[39;00m\u001b[38;5;124m/\u001b[39m\u001b[38;5;132;01m{\u001b[39;00mfn\u001b[38;5;132;01m}\u001b[39;00m\u001b[38;5;124m\"\u001b[39m)\n",
      "\u001b[1;31mFileNotFoundError\u001b[0m: [WinError 3] The system cannot find the path specified: '../data/raw/audio_raw/everyday'"
     ]
    }
   ],
   "source": [
    "rows = []\n",
    "for name, label in folders.items():\n",
    "    for fn in os.listdir(f\"{BASE}/{name}\"):\n",
    "        if not fn.endswith(\".wav\"): continue\n",
    "        stats = extract_audio_stats(f\"{BASE}/{name}/{fn}\")\n",
    "        rows.append({\"label\": label, \"file\": fn, **stats})\n",
    "df = pd.DataFrame(rows)\n",
    "thresh = (df[df.label==0].rms_mean.mean() + df[df.label==1].rms_mean.mean())/2\n",
    "print(\"Threshold:\", thresh)\n",
    "df.to_csv(\"../data/processed/audio_features.csv\", index=False)\n"
   ]
  },
  {
   "cell_type": "code",
   "execution_count": 7,
   "metadata": {},
   "outputs": [],
   "source": [
    "import numpy as np\n",
    "import librosa\n",
    "\n",
    "def extract_audio_stats(path):\n",
    "    \"\"\"\n",
    "    Load `path`, compute:\n",
    "      - mean RMS energy\n",
    "      - RMS energy std (how “bursty” it is)\n",
    "    \"\"\"\n",
    "    y, sr = librosa.load(path, sr=None)\n",
    "    rms = librosa.feature.rms(y=y)[0]          # frame-wise RMS\n",
    "    return {\n",
    "        \"rms_mean\": np.mean(rms),\n",
    "        \"rms_std\":  np.std(rms),\n",
    "    }\n"
   ]
  },
  {
   "cell_type": "code",
   "execution_count": 14,
   "metadata": {},
   "outputs": [
    {
     "ename": "ModuleNotFoundError",
     "evalue": "No module named 'extract_audio_stats'",
     "output_type": "error",
     "traceback": [
      "\u001b[1;31m---------------------------------------------------------------------------\u001b[0m",
      "\u001b[1;31mModuleNotFoundError\u001b[0m                       Traceback (most recent call last)",
      "Cell \u001b[1;32mIn[14], line 4\u001b[0m\n\u001b[0;32m      2\u001b[0m \u001b[38;5;28;01mimport\u001b[39;00m \u001b[38;5;21;01mnumpy\u001b[39;00m \u001b[38;5;28;01mas\u001b[39;00m \u001b[38;5;21;01mnp\u001b[39;00m\n\u001b[0;32m      3\u001b[0m \u001b[38;5;28;01mimport\u001b[39;00m \u001b[38;5;21;01mpandas\u001b[39;00m \u001b[38;5;28;01mas\u001b[39;00m \u001b[38;5;21;01mpd\u001b[39;00m\n\u001b[1;32m----> 4\u001b[0m \u001b[38;5;28;01mfrom\u001b[39;00m \u001b[38;5;21;01mextract_audio_stats\u001b[39;00m \u001b[38;5;28;01mimport\u001b[39;00m extract_audio_stats  \u001b[38;5;66;03m# or wherever you put that fn\u001b[39;00m\n\u001b[0;32m      6\u001b[0m \u001b[38;5;66;03m# 1) Set this to wherever you unzipped the Snoring_Dataset\u001b[39;00m\n\u001b[0;32m      7\u001b[0m BASE_DIR \u001b[38;5;241m=\u001b[39m \u001b[38;5;124mr\u001b[39m\u001b[38;5;124m\"\u001b[39m\u001b[38;5;124mC:\u001b[39m\u001b[38;5;124m\\\u001b[39m\u001b[38;5;124mUsers\u001b[39m\u001b[38;5;124m\\\u001b[39m\u001b[38;5;124mMalak\u001b[39m\u001b[38;5;124m\\\u001b[39m\u001b[38;5;124mDownloads\u001b[39m\u001b[38;5;124m\\\u001b[39m\u001b[38;5;124marchive\u001b[39m\u001b[38;5;124m\\\u001b[39m\u001b[38;5;124mSnoring Dataset\u001b[39m\u001b[38;5;124m\"\u001b[39m\n",
      "\u001b[1;31mModuleNotFoundError\u001b[0m: No module named 'extract_audio_stats'"
     ]
    }
   ],
   "source": [
    "import os\n",
    "import numpy as np\n",
    "import pandas as pd\n",
    "from extract_audio_stats import extract_audio_stats  # or wherever you put that fn\n",
    "\n",
    "# 1) Set this to wherever you unzipped the Snoring_Dataset\n",
    "BASE_DIR = r\"C:\\Users\\Malak\\Downloads\\archive\\Snoring Dataset\"\n",
    "\n",
    "rows = []\n",
    "for label in [\"0\",\"1\"]:                   # \"0\" = everyday noise, \"1\" = snoring\n",
    "    folder = os.path.join(BASE_DIR, label)\n",
    "    for fn in os.listdir(folder):\n",
    "        if not fn.lower().endswith(\".wav\"):\n",
    "            continue\n",
    "        file_path = os.path.join(folder, fn)\n",
    "        stats = extract_audio_stats(file_path)\n",
    "        rows.append({\n",
    "            \"label\": int(label),\n",
    "            \"file_path\": file_path,\n",
    "            **stats\n",
    "        })\n",
    "\n",
    "df_audio = pd.DataFrame(rows)\n",
    "print(df_audio.head())\n",
    "print(df_audio.groupby(\"label\")[\"rms_mean\"].describe())\n"
   ]
  },
  {
   "cell_type": "code",
   "execution_count": 15,
   "metadata": {},
   "outputs": [
    {
     "name": "stdout",
     "output_type": "stream",
     "text": [
      "Threshold: 0.09155986498534913\n"
     ]
    }
   ],
   "source": [
    "import os, pandas as pd\n",
    "from src.audio_utils import extract_audio_stats\n",
    "\n",
    "# Use the project_root that was already set up\n",
    "project_root = Path().resolve().parents[1]\n",
    "BASE = project_root / \"data\" / \"raw\" / \"audio_raw\"\n",
    "processed_dir = project_root / \"data\" / \"processed\"\n",
    "\n",
    "# Ensure the processed directory exists\n",
    "os.makedirs(processed_dir, exist_ok=True)\n",
    "\n",
    "folders = {\"everyday\": 0, \"snore\": 1}\n",
    "\n",
    "rows = []\n",
    "for name, label in folders.items():\n",
    "    folder_path = BASE / name\n",
    "    if not folder_path.exists():\n",
    "        print(f\"Warning: Directory {folder_path} does not exist\")\n",
    "        continue\n",
    "        \n",
    "    for fn in os.listdir(folder_path):\n",
    "        if not fn.endswith(\".wav\"): \n",
    "            continue\n",
    "        file_path = folder_path / fn\n",
    "        stats = extract_audio_stats(str(file_path))\n",
    "        rows.append({\"label\": label, \"file\": fn, **stats})\n",
    "\n",
    "df = pd.DataFrame(rows)\n",
    "if not df.empty:\n",
    "    thresh = (df[df.label==0].rms_mean.mean() + df[df.label==1].rms_mean.mean())/2\n",
    "    print(\"Threshold:\", thresh)\n",
    "    \n",
    "    # Save using absolute path\n",
    "    output_path = processed_dir / \"audio_features.csv\"\n",
    "    df.to_csv(output_path, index=False)\n",
    "else:\n",
    "    print(\"No audio files were processed. Please check if the audio files exist in the correct directories.\")"
   ]
  },
  {
   "cell_type": "code",
   "execution_count": 16,
   "metadata": {},
   "outputs": [
    {
     "ename": "SyntaxError",
     "evalue": "leading zeros in decimal integer literals are not permitted; use an 0o prefix for octal integers (3560050746.py, line 1)",
     "output_type": "error",
     "traceback": [
      "\u001b[1;36m  Cell \u001b[1;32mIn[16], line 1\u001b[1;36m\u001b[0m\n\u001b[1;33m    Notebook 02: Merge Features\u001b[0m\n\u001b[1;37m             ^\u001b[0m\n\u001b[1;31mSyntaxError\u001b[0m\u001b[1;31m:\u001b[0m leading zeros in decimal integer literals are not permitted; use an 0o prefix for octal integers\n"
     ]
    }
   ],
   "source": [
    "\n"
   ]
  }
 ],
 "metadata": {
  "kernelspec": {
   "display_name": "Python 3",
   "language": "python",
   "name": "python3"
  },
  "language_info": {
   "codemirror_mode": {
    "name": "ipython",
    "version": 3
   },
   "file_extension": ".py",
   "mimetype": "text/x-python",
   "name": "python",
   "nbconvert_exporter": "python",
   "pygments_lexer": "ipython3",
   "version": "3.13.0"
  }
 },
 "nbformat": 4,
 "nbformat_minor": 2
}
