{
 "cells": [
  {
   "cell_type": "code",
   "execution_count": 1,
   "metadata": {},
   "outputs": [],
   "source": [
    "import pandas as pd\n",
    "from sklearn.preprocessing import OneHotEncoder"
   ]
  },
  {
   "cell_type": "code",
   "execution_count": 2,
   "metadata": {},
   "outputs": [],
   "source": [
    "first = pd.read_csv('first_clean.csv')\n",
    "second = pd.read_csv('second_clean.csv')\n",
    "third = pd.read_csv('third_clean.csv')\n",
    "sixth = pd.read_csv('sixth_clean.csv')"
   ]
  },
  {
   "cell_type": "code",
   "execution_count": 3,
   "metadata": {},
   "outputs": [
    {
     "name": "stdout",
     "output_type": "stream",
     "text": [
      "<class 'pandas.core.frame.DataFrame'>\n",
      "RangeIndex: 373 entries, 0 to 372\n",
      "Data columns (total 11 columns):\n",
      " #   Column                   Non-Null Count  Dtype  \n",
      "---  ------                   --------------  -----  \n",
      " 0   Gender                   373 non-null    int64  \n",
      " 1   Age                      373 non-null    int64  \n",
      " 2   Occupation               373 non-null    object \n",
      " 3   Sleep Duration           373 non-null    float64\n",
      " 4   Quality of Sleep         373 non-null    int64  \n",
      " 5   Physical Activity Level  373 non-null    int64  \n",
      " 6   Stress Level             373 non-null    int64  \n",
      " 7   BMI Category             373 non-null    int64  \n",
      " 8   Blood Pressure           373 non-null    float64\n",
      " 9   Heart Rate               373 non-null    int64  \n",
      " 10  Daily Steps              373 non-null    int64  \n",
      "dtypes: float64(2), int64(8), object(1)\n",
      "memory usage: 32.2+ KB\n"
     ]
    }
   ],
   "source": [
    "first.info()"
   ]
  },
  {
   "cell_type": "code",
   "execution_count": 4,
   "metadata": {},
   "outputs": [
    {
     "name": "stdout",
     "output_type": "stream",
     "text": [
      "<class 'pandas.core.frame.DataFrame'>\n",
      "RangeIndex: 186 entries, 0 to 185\n",
      "Data columns (total 11 columns):\n",
      " #   Column                   Non-Null Count  Dtype  \n",
      "---  ------                   --------------  -----  \n",
      " 0   Gender                   186 non-null    int64  \n",
      " 1   Age                      186 non-null    int64  \n",
      " 2   Occupation               186 non-null    object \n",
      " 3   Sleep Duration           186 non-null    float64\n",
      " 4   Quality of Sleep         186 non-null    int64  \n",
      " 5   Physical Activity Level  186 non-null    int64  \n",
      " 6   Stress Level             186 non-null    int64  \n",
      " 7   BMI Category             186 non-null    int64  \n",
      " 8   Blood Pressure           186 non-null    float64\n",
      " 9   Heart Rate               186 non-null    int64  \n",
      " 10  Daily Steps              186 non-null    int64  \n",
      "dtypes: float64(2), int64(8), object(1)\n",
      "memory usage: 16.1+ KB\n"
     ]
    }
   ],
   "source": [
    "second.info()  "
   ]
  },
  {
   "cell_type": "code",
   "execution_count": 5,
   "metadata": {},
   "outputs": [
    {
     "name": "stdout",
     "output_type": "stream",
     "text": [
      "<class 'pandas.core.frame.DataFrame'>\n",
      "RangeIndex: 400 entries, 0 to 399\n",
      "Data columns (total 11 columns):\n",
      " #   Column                   Non-Null Count  Dtype  \n",
      "---  ------                   --------------  -----  \n",
      " 0   Gender                   400 non-null    int64  \n",
      " 1   Age                      400 non-null    int64  \n",
      " 2   Occupation               400 non-null    object \n",
      " 3   Sleep Duration           400 non-null    float64\n",
      " 4   Quality of Sleep         400 non-null    float64\n",
      " 5   Physical Activity Level  400 non-null    int64  \n",
      " 6   Stress Level             400 non-null    int64  \n",
      " 7   BMI Category             400 non-null    int64  \n",
      " 8   Blood Pressure           400 non-null    float64\n",
      " 9   Heart Rate               400 non-null    int64  \n",
      " 10  Daily Steps              400 non-null    int64  \n",
      "dtypes: float64(3), int64(7), object(1)\n",
      "memory usage: 34.5+ KB\n"
     ]
    }
   ],
   "source": [
    "third.info()"
   ]
  },
  {
   "cell_type": "code",
   "execution_count": 6,
   "metadata": {},
   "outputs": [
    {
     "name": "stdout",
     "output_type": "stream",
     "text": [
      "<class 'pandas.core.frame.DataFrame'>\n",
      "RangeIndex: 1000 entries, 0 to 999\n",
      "Data columns (total 11 columns):\n",
      " #   Column                   Non-Null Count  Dtype  \n",
      "---  ------                   --------------  -----  \n",
      " 0   Sleep Duration           1000 non-null   int64  \n",
      " 1   Quality of Sleep         1000 non-null   float64\n",
      " 2   Age                      1000 non-null   int64  \n",
      " 3   Physical Activity Level  1000 non-null   int64  \n",
      " 4   Stress Level             1000 non-null   int64  \n",
      " 5   Heart Rate               1000 non-null   int64  \n",
      " 6   Daily Steps              1000 non-null   int64  \n",
      " 7   BMI Category             1000 non-null   int64  \n",
      " 8   Occupation               1000 non-null   object \n",
      " 9   Gender                   1000 non-null   int64  \n",
      " 10  Blood Pressure           1000 non-null   float64\n",
      "dtypes: float64(2), int64(8), object(1)\n",
      "memory usage: 86.1+ KB\n"
     ]
    }
   ],
   "source": [
    "sixth.info()"
   ]
  },
  {
   "cell_type": "code",
   "execution_count": 7,
   "metadata": {},
   "outputs": [],
   "source": [
    "Sleep_quality= pd.concat([first, second, third , sixth], ignore_index=True)"
   ]
  },
  {
   "cell_type": "code",
   "execution_count": 8,
   "metadata": {},
   "outputs": [
    {
     "data": {
      "text/html": [
       "<div>\n",
       "<style scoped>\n",
       "    .dataframe tbody tr th:only-of-type {\n",
       "        vertical-align: middle;\n",
       "    }\n",
       "\n",
       "    .dataframe tbody tr th {\n",
       "        vertical-align: top;\n",
       "    }\n",
       "\n",
       "    .dataframe thead th {\n",
       "        text-align: right;\n",
       "    }\n",
       "</style>\n",
       "<table border=\"1\" class=\"dataframe\">\n",
       "  <thead>\n",
       "    <tr style=\"text-align: right;\">\n",
       "      <th></th>\n",
       "      <th>Gender</th>\n",
       "      <th>Age</th>\n",
       "      <th>Occupation</th>\n",
       "      <th>Sleep Duration</th>\n",
       "      <th>Quality of Sleep</th>\n",
       "      <th>Physical Activity Level</th>\n",
       "      <th>Stress Level</th>\n",
       "      <th>BMI Category</th>\n",
       "      <th>Blood Pressure</th>\n",
       "      <th>Heart Rate</th>\n",
       "      <th>Daily Steps</th>\n",
       "    </tr>\n",
       "  </thead>\n",
       "  <tbody>\n",
       "    <tr>\n",
       "      <th>0</th>\n",
       "      <td>1</td>\n",
       "      <td>27</td>\n",
       "      <td>Software Engineer</td>\n",
       "      <td>6.1</td>\n",
       "      <td>6.0</td>\n",
       "      <td>42</td>\n",
       "      <td>6</td>\n",
       "      <td>2</td>\n",
       "      <td>1.518072</td>\n",
       "      <td>77</td>\n",
       "      <td>4200</td>\n",
       "    </tr>\n",
       "    <tr>\n",
       "      <th>1</th>\n",
       "      <td>1</td>\n",
       "      <td>28</td>\n",
       "      <td>Doctor</td>\n",
       "      <td>6.2</td>\n",
       "      <td>6.0</td>\n",
       "      <td>60</td>\n",
       "      <td>8</td>\n",
       "      <td>1</td>\n",
       "      <td>1.562500</td>\n",
       "      <td>75</td>\n",
       "      <td>10000</td>\n",
       "    </tr>\n",
       "    <tr>\n",
       "      <th>2</th>\n",
       "      <td>1</td>\n",
       "      <td>28</td>\n",
       "      <td>Doctor</td>\n",
       "      <td>6.2</td>\n",
       "      <td>6.0</td>\n",
       "      <td>60</td>\n",
       "      <td>8</td>\n",
       "      <td>1</td>\n",
       "      <td>1.562500</td>\n",
       "      <td>75</td>\n",
       "      <td>10000</td>\n",
       "    </tr>\n",
       "    <tr>\n",
       "      <th>3</th>\n",
       "      <td>1</td>\n",
       "      <td>28</td>\n",
       "      <td>Sales Representative</td>\n",
       "      <td>5.9</td>\n",
       "      <td>4.0</td>\n",
       "      <td>30</td>\n",
       "      <td>8</td>\n",
       "      <td>3</td>\n",
       "      <td>1.555556</td>\n",
       "      <td>85</td>\n",
       "      <td>3000</td>\n",
       "    </tr>\n",
       "    <tr>\n",
       "      <th>4</th>\n",
       "      <td>1</td>\n",
       "      <td>28</td>\n",
       "      <td>Sales Representative</td>\n",
       "      <td>5.9</td>\n",
       "      <td>4.0</td>\n",
       "      <td>30</td>\n",
       "      <td>8</td>\n",
       "      <td>3</td>\n",
       "      <td>1.555556</td>\n",
       "      <td>85</td>\n",
       "      <td>3000</td>\n",
       "    </tr>\n",
       "  </tbody>\n",
       "</table>\n",
       "</div>"
      ],
      "text/plain": [
       "   Gender  Age            Occupation  Sleep Duration  Quality of Sleep  \\\n",
       "0       1   27     Software Engineer             6.1               6.0   \n",
       "1       1   28                Doctor             6.2               6.0   \n",
       "2       1   28                Doctor             6.2               6.0   \n",
       "3       1   28  Sales Representative             5.9               4.0   \n",
       "4       1   28  Sales Representative             5.9               4.0   \n",
       "\n",
       "   Physical Activity Level  Stress Level  BMI Category  Blood Pressure  \\\n",
       "0                       42             6             2        1.518072   \n",
       "1                       60             8             1        1.562500   \n",
       "2                       60             8             1        1.562500   \n",
       "3                       30             8             3        1.555556   \n",
       "4                       30             8             3        1.555556   \n",
       "\n",
       "   Heart Rate  Daily Steps  \n",
       "0          77         4200  \n",
       "1          75        10000  \n",
       "2          75        10000  \n",
       "3          85         3000  \n",
       "4          85         3000  "
      ]
     },
     "execution_count": 8,
     "metadata": {},
     "output_type": "execute_result"
    }
   ],
   "source": [
    "Sleep_quality.head()"
   ]
  },
  {
   "cell_type": "code",
   "execution_count": 9,
   "metadata": {},
   "outputs": [
    {
     "name": "stdout",
     "output_type": "stream",
     "text": [
      "<class 'pandas.core.frame.DataFrame'>\n",
      "RangeIndex: 1959 entries, 0 to 1958\n",
      "Data columns (total 11 columns):\n",
      " #   Column                   Non-Null Count  Dtype  \n",
      "---  ------                   --------------  -----  \n",
      " 0   Gender                   1959 non-null   int64  \n",
      " 1   Age                      1959 non-null   int64  \n",
      " 2   Occupation               1959 non-null   object \n",
      " 3   Sleep Duration           1959 non-null   float64\n",
      " 4   Quality of Sleep         1959 non-null   float64\n",
      " 5   Physical Activity Level  1959 non-null   int64  \n",
      " 6   Stress Level             1959 non-null   int64  \n",
      " 7   BMI Category             1959 non-null   int64  \n",
      " 8   Blood Pressure           1959 non-null   float64\n",
      " 9   Heart Rate               1959 non-null   int64  \n",
      " 10  Daily Steps              1959 non-null   int64  \n",
      "dtypes: float64(3), int64(7), object(1)\n",
      "memory usage: 168.5+ KB\n"
     ]
    }
   ],
   "source": [
    "Sleep_quality.info()"
   ]
  },
  {
   "cell_type": "code",
   "execution_count": 10,
   "metadata": {},
   "outputs": [
    {
     "data": {
      "text/plain": [
       "np.int64(450)"
      ]
     },
     "execution_count": 10,
     "metadata": {},
     "output_type": "execute_result"
    }
   ],
   "source": [
    "Sleep_quality.duplicated().sum()"
   ]
  },
  {
   "cell_type": "code",
   "execution_count": 11,
   "metadata": {},
   "outputs": [
    {
     "data": {
      "text/plain": [
       "Gender                     0\n",
       "Age                        0\n",
       "Occupation                 0\n",
       "Sleep Duration             0\n",
       "Quality of Sleep           0\n",
       "Physical Activity Level    0\n",
       "Stress Level               0\n",
       "BMI Category               0\n",
       "Blood Pressure             0\n",
       "Heart Rate                 0\n",
       "Daily Steps                0\n",
       "dtype: int64"
      ]
     },
     "execution_count": 11,
     "metadata": {},
     "output_type": "execute_result"
    }
   ],
   "source": [
    "Sleep_quality.isnull().sum()"
   ]
  },
  {
   "cell_type": "code",
   "execution_count": 12,
   "metadata": {},
   "outputs": [
    {
     "data": {
      "text/plain": [
       "(1959, 11)"
      ]
     },
     "execution_count": 12,
     "metadata": {},
     "output_type": "execute_result"
    }
   ],
   "source": [
    "Sleep_quality.shape"
   ]
  },
  {
   "cell_type": "code",
   "execution_count": 13,
   "metadata": {},
   "outputs": [],
   "source": [
    "Sleep_quality = Sleep_quality.drop_duplicates()"
   ]
  },
  {
   "cell_type": "code",
   "execution_count": 14,
   "metadata": {},
   "outputs": [
    {
     "data": {
      "text/plain": [
       "(1509, 11)"
      ]
     },
     "execution_count": 14,
     "metadata": {},
     "output_type": "execute_result"
    }
   ],
   "source": [
    "Sleep_quality.shape"
   ]
  },
  {
   "cell_type": "code",
   "execution_count": null,
   "metadata": {},
   "outputs": [],
   "source": [
    "encoder = OneHotEncoder(sparse_output=False)\n",
    "occupation_encoded = encoder.fit_transform(Sleep_quality[[\"Occupation\"]])\n",
    "occupation_df = pd.DataFrame(occupation_encoded, columns=encoder.get_feature_names_out([\"Occupation\"]))\n",
    "\n",
    "Sleep_quality.drop(columns=[\"Occupation\"], inplace=True)\n",
    "Sleep_quality = pd.concat([Sleep_quality.reset_index(drop=True), occupation_df], axis=1)"
   ]
  },
  {
   "cell_type": "code",
   "execution_count": 16,
   "metadata": {},
   "outputs": [
    {
     "data": {
      "text/html": [
       "<div>\n",
       "<style scoped>\n",
       "    .dataframe tbody tr th:only-of-type {\n",
       "        vertical-align: middle;\n",
       "    }\n",
       "\n",
       "    .dataframe tbody tr th {\n",
       "        vertical-align: top;\n",
       "    }\n",
       "\n",
       "    .dataframe thead th {\n",
       "        text-align: right;\n",
       "    }\n",
       "</style>\n",
       "<table border=\"1\" class=\"dataframe\">\n",
       "  <thead>\n",
       "    <tr style=\"text-align: right;\">\n",
       "      <th></th>\n",
       "      <th>Gender</th>\n",
       "      <th>Age</th>\n",
       "      <th>Sleep Duration</th>\n",
       "      <th>Quality of Sleep</th>\n",
       "      <th>Physical Activity Level</th>\n",
       "      <th>Stress Level</th>\n",
       "      <th>BMI Category</th>\n",
       "      <th>Blood Pressure</th>\n",
       "      <th>Heart Rate</th>\n",
       "      <th>Daily Steps</th>\n",
       "      <th>...</th>\n",
       "      <th>Occupation_Manual Labor</th>\n",
       "      <th>Occupation_Nurse</th>\n",
       "      <th>Occupation_Office Worker</th>\n",
       "      <th>Occupation_Retired</th>\n",
       "      <th>Occupation_Sales Representative</th>\n",
       "      <th>Occupation_Salesperson</th>\n",
       "      <th>Occupation_Scientist</th>\n",
       "      <th>Occupation_Software Engineer</th>\n",
       "      <th>Occupation_Student</th>\n",
       "      <th>Occupation_Teacher</th>\n",
       "    </tr>\n",
       "  </thead>\n",
       "  <tbody>\n",
       "    <tr>\n",
       "      <th>0</th>\n",
       "      <td>1</td>\n",
       "      <td>27</td>\n",
       "      <td>6.1</td>\n",
       "      <td>6.0</td>\n",
       "      <td>42</td>\n",
       "      <td>6</td>\n",
       "      <td>2</td>\n",
       "      <td>1.518072</td>\n",
       "      <td>77</td>\n",
       "      <td>4200</td>\n",
       "      <td>...</td>\n",
       "      <td>0.0</td>\n",
       "      <td>0.0</td>\n",
       "      <td>0.0</td>\n",
       "      <td>0.0</td>\n",
       "      <td>0.0</td>\n",
       "      <td>0.0</td>\n",
       "      <td>0.0</td>\n",
       "      <td>1.0</td>\n",
       "      <td>0.0</td>\n",
       "      <td>0.0</td>\n",
       "    </tr>\n",
       "    <tr>\n",
       "      <th>1</th>\n",
       "      <td>1</td>\n",
       "      <td>28</td>\n",
       "      <td>6.2</td>\n",
       "      <td>6.0</td>\n",
       "      <td>60</td>\n",
       "      <td>8</td>\n",
       "      <td>1</td>\n",
       "      <td>1.562500</td>\n",
       "      <td>75</td>\n",
       "      <td>10000</td>\n",
       "      <td>...</td>\n",
       "      <td>0.0</td>\n",
       "      <td>0.0</td>\n",
       "      <td>0.0</td>\n",
       "      <td>0.0</td>\n",
       "      <td>0.0</td>\n",
       "      <td>0.0</td>\n",
       "      <td>0.0</td>\n",
       "      <td>0.0</td>\n",
       "      <td>0.0</td>\n",
       "      <td>0.0</td>\n",
       "    </tr>\n",
       "    <tr>\n",
       "      <th>2</th>\n",
       "      <td>1</td>\n",
       "      <td>28</td>\n",
       "      <td>5.9</td>\n",
       "      <td>4.0</td>\n",
       "      <td>30</td>\n",
       "      <td>8</td>\n",
       "      <td>3</td>\n",
       "      <td>1.555556</td>\n",
       "      <td>85</td>\n",
       "      <td>3000</td>\n",
       "      <td>...</td>\n",
       "      <td>0.0</td>\n",
       "      <td>0.0</td>\n",
       "      <td>0.0</td>\n",
       "      <td>0.0</td>\n",
       "      <td>1.0</td>\n",
       "      <td>0.0</td>\n",
       "      <td>0.0</td>\n",
       "      <td>0.0</td>\n",
       "      <td>0.0</td>\n",
       "      <td>0.0</td>\n",
       "    </tr>\n",
       "    <tr>\n",
       "      <th>3</th>\n",
       "      <td>1</td>\n",
       "      <td>28</td>\n",
       "      <td>5.9</td>\n",
       "      <td>4.0</td>\n",
       "      <td>30</td>\n",
       "      <td>8</td>\n",
       "      <td>3</td>\n",
       "      <td>1.555556</td>\n",
       "      <td>85</td>\n",
       "      <td>3000</td>\n",
       "      <td>...</td>\n",
       "      <td>0.0</td>\n",
       "      <td>0.0</td>\n",
       "      <td>0.0</td>\n",
       "      <td>0.0</td>\n",
       "      <td>0.0</td>\n",
       "      <td>0.0</td>\n",
       "      <td>0.0</td>\n",
       "      <td>1.0</td>\n",
       "      <td>0.0</td>\n",
       "      <td>0.0</td>\n",
       "    </tr>\n",
       "    <tr>\n",
       "      <th>4</th>\n",
       "      <td>1</td>\n",
       "      <td>29</td>\n",
       "      <td>6.3</td>\n",
       "      <td>6.0</td>\n",
       "      <td>40</td>\n",
       "      <td>7</td>\n",
       "      <td>3</td>\n",
       "      <td>1.555556</td>\n",
       "      <td>82</td>\n",
       "      <td>3500</td>\n",
       "      <td>...</td>\n",
       "      <td>0.0</td>\n",
       "      <td>0.0</td>\n",
       "      <td>0.0</td>\n",
       "      <td>0.0</td>\n",
       "      <td>0.0</td>\n",
       "      <td>0.0</td>\n",
       "      <td>0.0</td>\n",
       "      <td>0.0</td>\n",
       "      <td>0.0</td>\n",
       "      <td>1.0</td>\n",
       "    </tr>\n",
       "  </tbody>\n",
       "</table>\n",
       "<p>5 rows × 25 columns</p>\n",
       "</div>"
      ],
      "text/plain": [
       "   Gender  Age  Sleep Duration  Quality of Sleep  Physical Activity Level  \\\n",
       "0       1   27             6.1               6.0                       42   \n",
       "1       1   28             6.2               6.0                       60   \n",
       "2       1   28             5.9               4.0                       30   \n",
       "3       1   28             5.9               4.0                       30   \n",
       "4       1   29             6.3               6.0                       40   \n",
       "\n",
       "   Stress Level  BMI Category  Blood Pressure  Heart Rate  Daily Steps  ...  \\\n",
       "0             6             2        1.518072          77         4200  ...   \n",
       "1             8             1        1.562500          75        10000  ...   \n",
       "2             8             3        1.555556          85         3000  ...   \n",
       "3             8             3        1.555556          85         3000  ...   \n",
       "4             7             3        1.555556          82         3500  ...   \n",
       "\n",
       "   Occupation_Manual Labor  Occupation_Nurse  Occupation_Office Worker  \\\n",
       "0                      0.0               0.0                       0.0   \n",
       "1                      0.0               0.0                       0.0   \n",
       "2                      0.0               0.0                       0.0   \n",
       "3                      0.0               0.0                       0.0   \n",
       "4                      0.0               0.0                       0.0   \n",
       "\n",
       "   Occupation_Retired  Occupation_Sales Representative  \\\n",
       "0                 0.0                              0.0   \n",
       "1                 0.0                              0.0   \n",
       "2                 0.0                              1.0   \n",
       "3                 0.0                              0.0   \n",
       "4                 0.0                              0.0   \n",
       "\n",
       "   Occupation_Salesperson  Occupation_Scientist  Occupation_Software Engineer  \\\n",
       "0                     0.0                   0.0                           1.0   \n",
       "1                     0.0                   0.0                           0.0   \n",
       "2                     0.0                   0.0                           0.0   \n",
       "3                     0.0                   0.0                           1.0   \n",
       "4                     0.0                   0.0                           0.0   \n",
       "\n",
       "   Occupation_Student  Occupation_Teacher  \n",
       "0                 0.0                 0.0  \n",
       "1                 0.0                 0.0  \n",
       "2                 0.0                 0.0  \n",
       "3                 0.0                 0.0  \n",
       "4                 0.0                 1.0  \n",
       "\n",
       "[5 rows x 25 columns]"
      ]
     },
     "execution_count": 16,
     "metadata": {},
     "output_type": "execute_result"
    }
   ],
   "source": [
    "Sleep_quality.head()"
   ]
  },
  {
   "cell_type": "code",
   "execution_count": 17,
   "metadata": {},
   "outputs": [
    {
     "name": "stdout",
     "output_type": "stream",
     "text": [
      "<class 'pandas.core.frame.DataFrame'>\n",
      "RangeIndex: 1509 entries, 0 to 1508\n",
      "Data columns (total 25 columns):\n",
      " #   Column                           Non-Null Count  Dtype  \n",
      "---  ------                           --------------  -----  \n",
      " 0   Gender                           1509 non-null   int64  \n",
      " 1   Age                              1509 non-null   int64  \n",
      " 2   Sleep Duration                   1509 non-null   float64\n",
      " 3   Quality of Sleep                 1509 non-null   float64\n",
      " 4   Physical Activity Level          1509 non-null   int64  \n",
      " 5   Stress Level                     1509 non-null   int64  \n",
      " 6   BMI Category                     1509 non-null   int64  \n",
      " 7   Blood Pressure                   1509 non-null   float64\n",
      " 8   Heart Rate                       1509 non-null   int64  \n",
      " 9   Daily Steps                      1509 non-null   int64  \n",
      " 10  Occupation_Accountant            1509 non-null   float64\n",
      " 11  Occupation_Doctor                1509 non-null   float64\n",
      " 12  Occupation_Engineer              1509 non-null   float64\n",
      " 13  Occupation_Lawyer                1509 non-null   float64\n",
      " 14  Occupation_Manager               1509 non-null   float64\n",
      " 15  Occupation_Manual Labor          1509 non-null   float64\n",
      " 16  Occupation_Nurse                 1509 non-null   float64\n",
      " 17  Occupation_Office Worker         1509 non-null   float64\n",
      " 18  Occupation_Retired               1509 non-null   float64\n",
      " 19  Occupation_Sales Representative  1509 non-null   float64\n",
      " 20  Occupation_Salesperson           1509 non-null   float64\n",
      " 21  Occupation_Scientist             1509 non-null   float64\n",
      " 22  Occupation_Software Engineer     1509 non-null   float64\n",
      " 23  Occupation_Student               1509 non-null   float64\n",
      " 24  Occupation_Teacher               1509 non-null   float64\n",
      "dtypes: float64(18), int64(7)\n",
      "memory usage: 294.9 KB\n"
     ]
    }
   ],
   "source": [
    "Sleep_quality.info()"
   ]
  },
  {
   "cell_type": "code",
   "execution_count": 18,
   "metadata": {},
   "outputs": [],
   "source": [
    "Sleep_quality.to_csv('merge.csv', index=False)"
   ]
  },
  {
   "cell_type": "code",
   "execution_count": null,
   "metadata": {},
   "outputs": [],
   "source": []
  }
 ],
 "metadata": {
  "kernelspec": {
   "display_name": "Python 3",
   "language": "python",
   "name": "python3"
  },
  "language_info": {
   "codemirror_mode": {
    "name": "ipython",
    "version": 3
   },
   "file_extension": ".py",
   "mimetype": "text/x-python",
   "name": "python",
   "nbconvert_exporter": "python",
   "pygments_lexer": "ipython3",
   "version": "3.12.4"
  }
 },
 "nbformat": 4,
 "nbformat_minor": 2
}
