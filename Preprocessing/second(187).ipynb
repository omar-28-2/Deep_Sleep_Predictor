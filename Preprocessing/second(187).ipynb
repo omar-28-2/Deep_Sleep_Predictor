{
 "cells": [
  {
   "cell_type": "code",
   "execution_count": 1,
   "metadata": {},
   "outputs": [],
   "source": [
    "import pandas as pd\n",
    "from sklearn.preprocessing import LabelEncoder, OneHotEncoder"
   ]
  },
  {
   "cell_type": "code",
   "execution_count": 2,
   "metadata": {},
   "outputs": [],
   "source": [
    "df = pd.read_csv(\"second(187).csv\")"
   ]
  },
  {
   "cell_type": "code",
   "execution_count": 3,
   "metadata": {},
   "outputs": [
    {
     "data": {
      "text/html": [
       "<div>\n",
       "<style scoped>\n",
       "    .dataframe tbody tr th:only-of-type {\n",
       "        vertical-align: middle;\n",
       "    }\n",
       "\n",
       "    .dataframe tbody tr th {\n",
       "        vertical-align: top;\n",
       "    }\n",
       "\n",
       "    .dataframe thead th {\n",
       "        text-align: right;\n",
       "    }\n",
       "</style>\n",
       "<table border=\"1\" class=\"dataframe\">\n",
       "  <thead>\n",
       "    <tr style=\"text-align: right;\">\n",
       "      <th></th>\n",
       "      <th>Person ID</th>\n",
       "      <th>Gender</th>\n",
       "      <th>Age</th>\n",
       "      <th>Occupation</th>\n",
       "      <th>Sleep Duration</th>\n",
       "      <th>Quality of Sleep</th>\n",
       "      <th>Physical Activity Level</th>\n",
       "      <th>Stress Level</th>\n",
       "      <th>BMI Category</th>\n",
       "      <th>Blood Pressure</th>\n",
       "      <th>Heart Rate</th>\n",
       "      <th>Daily Steps</th>\n",
       "      <th>Sleep Disorder</th>\n",
       "    </tr>\n",
       "  </thead>\n",
       "  <tbody>\n",
       "    <tr>\n",
       "      <th>0</th>\n",
       "      <td>374</td>\n",
       "      <td>Female</td>\n",
       "      <td>59</td>\n",
       "      <td>Nurse</td>\n",
       "      <td>8.1</td>\n",
       "      <td>9</td>\n",
       "      <td>75</td>\n",
       "      <td>3</td>\n",
       "      <td>Overweight</td>\n",
       "      <td>140/95</td>\n",
       "      <td>68</td>\n",
       "      <td>7000</td>\n",
       "      <td>Sleep Apnea</td>\n",
       "    </tr>\n",
       "    <tr>\n",
       "      <th>1</th>\n",
       "      <td>375</td>\n",
       "      <td>Male</td>\n",
       "      <td>29</td>\n",
       "      <td>Doctor</td>\n",
       "      <td>7.8</td>\n",
       "      <td>7</td>\n",
       "      <td>75</td>\n",
       "      <td>6</td>\n",
       "      <td>Normal</td>\n",
       "      <td>120/80</td>\n",
       "      <td>70</td>\n",
       "      <td>8000</td>\n",
       "      <td>NaN</td>\n",
       "    </tr>\n",
       "    <tr>\n",
       "      <th>2</th>\n",
       "      <td>376</td>\n",
       "      <td>Male</td>\n",
       "      <td>29</td>\n",
       "      <td>Doctor</td>\n",
       "      <td>7.8</td>\n",
       "      <td>7</td>\n",
       "      <td>75</td>\n",
       "      <td>6</td>\n",
       "      <td>Normal</td>\n",
       "      <td>120/80</td>\n",
       "      <td>70</td>\n",
       "      <td>8000</td>\n",
       "      <td>NaN</td>\n",
       "    </tr>\n",
       "    <tr>\n",
       "      <th>3</th>\n",
       "      <td>377</td>\n",
       "      <td>Male</td>\n",
       "      <td>29</td>\n",
       "      <td>Doctor</td>\n",
       "      <td>6.1</td>\n",
       "      <td>6</td>\n",
       "      <td>30</td>\n",
       "      <td>8</td>\n",
       "      <td>Normal</td>\n",
       "      <td>120/80</td>\n",
       "      <td>70</td>\n",
       "      <td>8000</td>\n",
       "      <td>NaN</td>\n",
       "    </tr>\n",
       "    <tr>\n",
       "      <th>4</th>\n",
       "      <td>378</td>\n",
       "      <td>Male</td>\n",
       "      <td>29</td>\n",
       "      <td>Doctor</td>\n",
       "      <td>7.8</td>\n",
       "      <td>7</td>\n",
       "      <td>75</td>\n",
       "      <td>6</td>\n",
       "      <td>Normal</td>\n",
       "      <td>120/80</td>\n",
       "      <td>70</td>\n",
       "      <td>8000</td>\n",
       "      <td>NaN</td>\n",
       "    </tr>\n",
       "  </tbody>\n",
       "</table>\n",
       "</div>"
      ],
      "text/plain": [
       "   Person ID  Gender  Age Occupation  Sleep Duration  Quality of Sleep  \\\n",
       "0        374  Female   59      Nurse             8.1                 9   \n",
       "1        375    Male   29     Doctor             7.8                 7   \n",
       "2        376    Male   29     Doctor             7.8                 7   \n",
       "3        377    Male   29     Doctor             6.1                 6   \n",
       "4        378    Male   29     Doctor             7.8                 7   \n",
       "\n",
       "   Physical Activity Level  Stress Level BMI Category Blood Pressure  \\\n",
       "0                       75             3   Overweight         140/95   \n",
       "1                       75             6       Normal         120/80   \n",
       "2                       75             6       Normal         120/80   \n",
       "3                       30             8       Normal         120/80   \n",
       "4                       75             6       Normal         120/80   \n",
       "\n",
       "   Heart Rate  Daily Steps Sleep Disorder  \n",
       "0          68         7000    Sleep Apnea  \n",
       "1          70         8000            NaN  \n",
       "2          70         8000            NaN  \n",
       "3          70         8000            NaN  \n",
       "4          70         8000            NaN  "
      ]
     },
     "execution_count": 3,
     "metadata": {},
     "output_type": "execute_result"
    }
   ],
   "source": [
    "df.head()"
   ]
  },
  {
   "cell_type": "code",
   "execution_count": 4,
   "metadata": {},
   "outputs": [
    {
     "name": "stdout",
     "output_type": "stream",
     "text": [
      "<class 'pandas.core.frame.DataFrame'>\n",
      "RangeIndex: 186 entries, 0 to 185\n",
      "Data columns (total 13 columns):\n",
      " #   Column                   Non-Null Count  Dtype  \n",
      "---  ------                   --------------  -----  \n",
      " 0   Person ID                186 non-null    int64  \n",
      " 1   Gender                   186 non-null    object \n",
      " 2   Age                      186 non-null    int64  \n",
      " 3   Occupation               186 non-null    object \n",
      " 4   Sleep Duration           186 non-null    float64\n",
      " 5   Quality of Sleep         186 non-null    int64  \n",
      " 6   Physical Activity Level  186 non-null    int64  \n",
      " 7   Stress Level             186 non-null    int64  \n",
      " 8   BMI Category             186 non-null    object \n",
      " 9   Blood Pressure           186 non-null    object \n",
      " 10  Heart Rate               186 non-null    int64  \n",
      " 11  Daily Steps              186 non-null    int64  \n",
      " 12  Sleep Disorder           30 non-null     object \n",
      "dtypes: float64(1), int64(7), object(5)\n",
      "memory usage: 19.0+ KB\n"
     ]
    }
   ],
   "source": [
    "df.info()"
   ]
  },
  {
   "cell_type": "code",
   "execution_count": 5,
   "metadata": {},
   "outputs": [
    {
     "data": {
      "text/plain": [
       "Person ID                    0\n",
       "Gender                       0\n",
       "Age                          0\n",
       "Occupation                   0\n",
       "Sleep Duration               0\n",
       "Quality of Sleep             0\n",
       "Physical Activity Level      0\n",
       "Stress Level                 0\n",
       "BMI Category                 0\n",
       "Blood Pressure               0\n",
       "Heart Rate                   0\n",
       "Daily Steps                  0\n",
       "Sleep Disorder             156\n",
       "dtype: int64"
      ]
     },
     "execution_count": 5,
     "metadata": {},
     "output_type": "execute_result"
    }
   ],
   "source": [
    "df.isnull().sum()"
   ]
  },
  {
   "cell_type": "code",
   "execution_count": 6,
   "metadata": {},
   "outputs": [
    {
     "data": {
      "text/plain": [
       "np.int64(0)"
      ]
     },
     "execution_count": 6,
     "metadata": {},
     "output_type": "execute_result"
    }
   ],
   "source": [
    "df.duplicated().sum()"
   ]
  },
  {
   "cell_type": "code",
   "execution_count": 7,
   "metadata": {},
   "outputs": [],
   "source": [
    "# Person ID -> irrelevant column\n",
    "# Sleep Disorder -> alot of missing data\n",
    "\n",
    "df.drop(columns=[\"Person ID\", \"Sleep Disorder\"], inplace=True)"
   ]
  },
  {
   "cell_type": "code",
   "execution_count": 8,
   "metadata": {},
   "outputs": [],
   "source": [
    "label_encoder = LabelEncoder()\n",
    "df[\"Gender\"] = label_encoder.fit_transform(df[\"Gender\"])"
   ]
  },
  {
   "cell_type": "code",
   "execution_count": 9,
   "metadata": {},
   "outputs": [],
   "source": [
    "# i will apply it in the merge with all the files\n",
    "\n",
    "# encoder = OneHotEncoder(sparse_output=False)\n",
    "# occupation_encoded = encoder.fit_transform(df[[\"Occupation\"]])\n",
    "# occupation_df = pd.DataFrame(occupation_encoded, columns=encoder.get_feature_names_out([\"Occupation\"]))\n",
    "\n",
    "# df.drop(columns=[\"Occupation\"], inplace=True)\n",
    "# df = pd.concat([df.reset_index(drop=True), occupation_df], axis=1)"
   ]
  },
  {
   "cell_type": "code",
   "execution_count": 10,
   "metadata": {},
   "outputs": [
    {
     "data": {
      "text/plain": [
       "BMI Category\n",
       "Normal           144\n",
       "Overweight        23\n",
       "Normal Weight     17\n",
       "Obese              2\n",
       "Name: count, dtype: int64"
      ]
     },
     "execution_count": 10,
     "metadata": {},
     "output_type": "execute_result"
    }
   ],
   "source": [
    "df[\"BMI Category\"].value_counts()"
   ]
  },
  {
   "cell_type": "code",
   "execution_count": 11,
   "metadata": {},
   "outputs": [],
   "source": [
    "df[\"BMI Category\"] = df[\"BMI Category\"].replace(\"Normal Weight\", \"Normal\")"
   ]
  },
  {
   "cell_type": "code",
   "execution_count": 12,
   "metadata": {},
   "outputs": [
    {
     "data": {
      "text/plain": [
       "BMI Category\n",
       "Normal        161\n",
       "Overweight     23\n",
       "Obese           2\n",
       "Name: count, dtype: int64"
      ]
     },
     "execution_count": 12,
     "metadata": {},
     "output_type": "execute_result"
    }
   ],
   "source": [
    "df[\"BMI Category\"].value_counts()"
   ]
  },
  {
   "cell_type": "code",
   "execution_count": 13,
   "metadata": {},
   "outputs": [],
   "source": [
    "bmi_mapping = {\n",
    "    \"Underweight\": 0,\n",
    "    \"Normal\": 1,\n",
    "    \"Overweight\": 2,\n",
    "    \"Obese\": 3\n",
    "}\n",
    "\n",
    "df[\"BMI Category\"] = df[\"BMI Category\"].map(bmi_mapping)"
   ]
  },
  {
   "cell_type": "code",
   "execution_count": 14,
   "metadata": {},
   "outputs": [],
   "source": [
    "# Convert \"Blood Pressure Ratio\" from string (\"126/82\") to numeric (1.51)\n",
    "\n",
    "df['Blood Pressure'] = df['Blood Pressure'].apply(lambda df: eval(df) if isinstance(df, str) else df)"
   ]
  },
  {
   "cell_type": "code",
   "execution_count": 15,
   "metadata": {},
   "outputs": [
    {
     "data": {
      "text/html": [
       "<div>\n",
       "<style scoped>\n",
       "    .dataframe tbody tr th:only-of-type {\n",
       "        vertical-align: middle;\n",
       "    }\n",
       "\n",
       "    .dataframe tbody tr th {\n",
       "        vertical-align: top;\n",
       "    }\n",
       "\n",
       "    .dataframe thead th {\n",
       "        text-align: right;\n",
       "    }\n",
       "</style>\n",
       "<table border=\"1\" class=\"dataframe\">\n",
       "  <thead>\n",
       "    <tr style=\"text-align: right;\">\n",
       "      <th></th>\n",
       "      <th>Gender</th>\n",
       "      <th>Age</th>\n",
       "      <th>Occupation</th>\n",
       "      <th>Sleep Duration</th>\n",
       "      <th>Quality of Sleep</th>\n",
       "      <th>Physical Activity Level</th>\n",
       "      <th>Stress Level</th>\n",
       "      <th>BMI Category</th>\n",
       "      <th>Blood Pressure</th>\n",
       "      <th>Heart Rate</th>\n",
       "      <th>Daily Steps</th>\n",
       "    </tr>\n",
       "  </thead>\n",
       "  <tbody>\n",
       "    <tr>\n",
       "      <th>0</th>\n",
       "      <td>0</td>\n",
       "      <td>59</td>\n",
       "      <td>Nurse</td>\n",
       "      <td>8.1</td>\n",
       "      <td>9</td>\n",
       "      <td>75</td>\n",
       "      <td>3</td>\n",
       "      <td>2</td>\n",
       "      <td>1.473684</td>\n",
       "      <td>68</td>\n",
       "      <td>7000</td>\n",
       "    </tr>\n",
       "    <tr>\n",
       "      <th>1</th>\n",
       "      <td>1</td>\n",
       "      <td>29</td>\n",
       "      <td>Doctor</td>\n",
       "      <td>7.8</td>\n",
       "      <td>7</td>\n",
       "      <td>75</td>\n",
       "      <td>6</td>\n",
       "      <td>1</td>\n",
       "      <td>1.500000</td>\n",
       "      <td>70</td>\n",
       "      <td>8000</td>\n",
       "    </tr>\n",
       "    <tr>\n",
       "      <th>2</th>\n",
       "      <td>1</td>\n",
       "      <td>29</td>\n",
       "      <td>Doctor</td>\n",
       "      <td>7.8</td>\n",
       "      <td>7</td>\n",
       "      <td>75</td>\n",
       "      <td>6</td>\n",
       "      <td>1</td>\n",
       "      <td>1.500000</td>\n",
       "      <td>70</td>\n",
       "      <td>8000</td>\n",
       "    </tr>\n",
       "    <tr>\n",
       "      <th>3</th>\n",
       "      <td>1</td>\n",
       "      <td>29</td>\n",
       "      <td>Doctor</td>\n",
       "      <td>6.1</td>\n",
       "      <td>6</td>\n",
       "      <td>30</td>\n",
       "      <td>8</td>\n",
       "      <td>1</td>\n",
       "      <td>1.500000</td>\n",
       "      <td>70</td>\n",
       "      <td>8000</td>\n",
       "    </tr>\n",
       "    <tr>\n",
       "      <th>4</th>\n",
       "      <td>1</td>\n",
       "      <td>29</td>\n",
       "      <td>Doctor</td>\n",
       "      <td>7.8</td>\n",
       "      <td>7</td>\n",
       "      <td>75</td>\n",
       "      <td>6</td>\n",
       "      <td>1</td>\n",
       "      <td>1.500000</td>\n",
       "      <td>70</td>\n",
       "      <td>8000</td>\n",
       "    </tr>\n",
       "  </tbody>\n",
       "</table>\n",
       "</div>"
      ],
      "text/plain": [
       "   Gender  Age Occupation  Sleep Duration  Quality of Sleep  \\\n",
       "0       0   59      Nurse             8.1                 9   \n",
       "1       1   29     Doctor             7.8                 7   \n",
       "2       1   29     Doctor             7.8                 7   \n",
       "3       1   29     Doctor             6.1                 6   \n",
       "4       1   29     Doctor             7.8                 7   \n",
       "\n",
       "   Physical Activity Level  Stress Level  BMI Category  Blood Pressure  \\\n",
       "0                       75             3             2        1.473684   \n",
       "1                       75             6             1        1.500000   \n",
       "2                       75             6             1        1.500000   \n",
       "3                       30             8             1        1.500000   \n",
       "4                       75             6             1        1.500000   \n",
       "\n",
       "   Heart Rate  Daily Steps  \n",
       "0          68         7000  \n",
       "1          70         8000  \n",
       "2          70         8000  \n",
       "3          70         8000  \n",
       "4          70         8000  "
      ]
     },
     "execution_count": 15,
     "metadata": {},
     "output_type": "execute_result"
    }
   ],
   "source": [
    "df.head()"
   ]
  },
  {
   "cell_type": "code",
   "execution_count": 16,
   "metadata": {},
   "outputs": [
    {
     "data": {
      "text/plain": [
       "array([[<Axes: title={'center': 'Gender'}>,\n",
       "        <Axes: title={'center': 'Age'}>,\n",
       "        <Axes: title={'center': 'Sleep Duration'}>],\n",
       "       [<Axes: title={'center': 'Quality of Sleep'}>,\n",
       "        <Axes: title={'center': 'Physical Activity Level'}>,\n",
       "        <Axes: title={'center': 'Stress Level'}>],\n",
       "       [<Axes: title={'center': 'BMI Category'}>,\n",
       "        <Axes: title={'center': 'Blood Pressure'}>,\n",
       "        <Axes: title={'center': 'Heart Rate'}>],\n",
       "       [<Axes: title={'center': 'Daily Steps'}>, <Axes: >, <Axes: >]],\n",
       "      dtype=object)"
      ]
     },
     "execution_count": 16,
     "metadata": {},
     "output_type": "execute_result"
    },
    {
     "data": {
      "image/png": "[encoded data removed]",
      "text/plain": [
       "<Figure size 1000x800 with 12 Axes>"
      ]
     },
     "metadata": {},
     "output_type": "display_data"
    }
   ],
   "source": [
    "df.hist(figsize=(10, 8))"
   ]
  },
  {
   "cell_type": "code",
   "execution_count": 17,
   "metadata": {},
   "outputs": [
    {
     "name": "stdout",
     "output_type": "stream",
     "text": [
      "\n",
      "Outlier Analysis for: Gender\n",
      "Q1: 0.0, Q3: 1.0, IQR: 1.0\n",
      "Lower Bound: -1.5, Upper Bound: 2.5\n",
      "Number of Outliers: 0\n",
      "Outliers: []\n",
      "\n",
      "\n",
      "Outlier Analysis for: Age\n",
      "Q1: 32.0, Q3: 39.0, IQR: 7.0\n",
      "Lower Bound: 21.5, Upper Bound: 49.5\n",
      "Number of Outliers: 1\n",
      "Outliers: [59]\n",
      "\n",
      "\n",
      "Outlier Analysis for: Sleep Duration\n",
      "Q1: 6.6, Q3: 7.6, IQR: 1.0\n",
      "Lower Bound: 5.1, Upper Bound: 9.1\n",
      "Number of Outliers: 0\n",
      "Outliers: []\n",
      "\n",
      "\n",
      "Outlier Analysis for: Quality of Sleep\n",
      "Q1: 6.0, Q3: 8.0, IQR: 2.0\n",
      "Lower Bound: 3.0, Upper Bound: 11.0\n",
      "Number of Outliers: 0\n",
      "Outliers: []\n",
      "\n",
      "\n",
      "Outlier Analysis for: Physical Activity Level\n",
      "Q1: 45.0, Q3: 75.0, IQR: 30.0\n",
      "Lower Bound: 0.0, Upper Bound: 120.0\n",
      "Number of Outliers: 0\n",
      "Outliers: []\n",
      "\n",
      "\n",
      "Outlier Analysis for: Stress Level\n",
      "Q1: 4.0, Q3: 6.75, IQR: 2.75\n",
      "Lower Bound: -0.125, Upper Bound: 10.875\n",
      "Number of Outliers: 0\n",
      "Outliers: []\n",
      "\n",
      "\n",
      "Outlier Analysis for: BMI Category\n",
      "Q1: 1.0, Q3: 1.0, IQR: 0.0\n",
      "Lower Bound: 1.0, Upper Bound: 1.0\n",
      "Number of Outliers: 25\n",
      "Outliers: [2 2 2 2 2 2 2 3 2 2 2 3 2 2 2 2 2 2 2 2 2 2 2 2 2]\n",
      "\n",
      "\n",
      "Outlier Analysis for: Blood Pressure\n",
      "Q1: 1.5, Q3: 1.5333333333333334, IQR: 0.03333333333333344\n",
      "Lower Bound: 1.4499999999999997, Upper Bound: 1.5833333333333335\n",
      "Number of Outliers: 0\n",
      "Outliers: []\n",
      "\n",
      "\n",
      "Outlier Analysis for: Heart Rate\n",
      "Q1: 68.0, Q3: 72.0, IQR: 4.0\n",
      "Lower Bound: 62.0, Upper Bound: 78.0\n",
      "Number of Outliers: 7\n",
      "Outliers: [80 80 81 81 84 84 80]\n",
      "\n",
      "\n",
      "Outlier Analysis for: Daily Steps\n",
      "Q1: 5500.0, Q3: 8000.0, IQR: 2500.0\n",
      "Lower Bound: 1750.0, Upper Bound: 11750.0\n",
      "Number of Outliers: 0\n",
      "Outliers: []\n",
      "\n"
     ]
    }
   ],
   "source": [
    "# we do not have outliers\n",
    "# =======================\n",
    "\n",
    "numerical_columns = df.select_dtypes(include=['number']).columns\n",
    "\n",
    "# Function to detect outliers using IQR\n",
    "def detect_outliers_iqr(df, columns):\n",
    "    outlier_info = {}\n",
    "\n",
    "    for col in columns:\n",
    "        Q1 = df[col].quantile(0.25)\n",
    "        Q3 = df[col].quantile(0.75)\n",
    "        IQR = Q3 - Q1\n",
    "        lower_bound = Q1 - 1.5 * IQR\n",
    "        upper_bound = Q3 + 1.5 * IQR\n",
    "\n",
    "        # Count number of outliers\n",
    "        outliers = df[(df[col] < lower_bound) | (df[col] > upper_bound)][col]\n",
    "\n",
    "        outlier_info[col] = {\n",
    "            \"Q1\": Q1, \"Q3\": Q3, \"IQR\": IQR,\n",
    "            \"Lower Bound\": lower_bound, \"Upper Bound\": upper_bound,\n",
    "            \"Num Outliers\": len(outliers),\n",
    "            \"Outliers\": outliers.values  # Show outlier values\n",
    "        }\n",
    "\n",
    "    return outlier_info\n",
    "\n",
    "# Detect outliers in all numerical columns\n",
    "outliers = detect_outliers_iqr(df, numerical_columns)\n",
    "\n",
    "for col, info in outliers.items():\n",
    "    print(f\"\\nOutlier Analysis for: {col}\")\n",
    "    print(f\"Q1: {info['Q1']}, Q3: {info['Q3']}, IQR: {info['IQR']}\")\n",
    "    print(f\"Lower Bound: {info['Lower Bound']}, Upper Bound: {info['Upper Bound']}\")\n",
    "    print(f\"Number of Outliers: {info['Num Outliers']}\")\n",
    "    print(f\"Outliers: {info['Outliers']}\\n\")"
   ]
  },
  {
   "cell_type": "code",
   "execution_count": 18,
   "metadata": {},
   "outputs": [],
   "source": [
    "df.to_csv('second_clean.csv', index=False)"
   ]
  }
 ],
 "metadata": {
  "kernelspec": {
   "display_name": "Python 3",
   "language": "python",
   "name": "python3"
  },
  "language_info": {
   "codemirror_mode": {
    "name": "ipython",
    "version": 3
   },
   "file_extension": ".py",
   "mimetype": "text/x-python",
   "name": "python",
   "nbconvert_exporter": "python",
   "pygments_lexer": "ipython3",
   "version": "3.12.4"
  }
 },
 "nbformat": 4,
 "nbformat_minor": 2
}
