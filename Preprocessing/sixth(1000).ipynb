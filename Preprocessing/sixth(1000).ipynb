{
 "cells": [
  {
   "cell_type": "code",
   "execution_count": 1,
   "metadata": {},
   "outputs": [],
   "source": [
    "import pandas as pd\n",
    "from sklearn.preprocessing import LabelEncoder, OneHotEncoder"
   ]
  },
  {
   "cell_type": "code",
   "execution_count": 2,
   "metadata": {},
   "outputs": [],
   "source": [
    "df = pd.read_csv(\"sixth(1000).csv\")"
   ]
  },
  {
   "cell_type": "code",
   "execution_count": 3,
   "metadata": {},
   "outputs": [
    {
     "data": {
      "text/html": [
       "<div>\n",
       "<style scoped>\n",
       "    .dataframe tbody tr th:only-of-type {\n",
       "        vertical-align: middle;\n",
       "    }\n",
       "\n",
       "    .dataframe tbody tr th {\n",
       "        vertical-align: top;\n",
       "    }\n",
       "\n",
       "    .dataframe thead th {\n",
       "        text-align: right;\n",
       "    }\n",
       "</style>\n",
       "<table border=\"1\" class=\"dataframe\">\n",
       "  <thead>\n",
       "    <tr style=\"text-align: right;\">\n",
       "      <th></th>\n",
       "      <th>Person ID</th>\n",
       "      <th>Sleep Duration</th>\n",
       "      <th>Quality of Sleep</th>\n",
       "      <th>Age</th>\n",
       "      <th>Physical Activity Level</th>\n",
       "      <th>Stress Level</th>\n",
       "      <th>Blood Pressure 1</th>\n",
       "      <th>Blood Pressure 2</th>\n",
       "      <th>Heart Rate</th>\n",
       "      <th>Daily Steps</th>\n",
       "      <th>BMI Levels</th>\n",
       "      <th>Occupation</th>\n",
       "      <th>Gender</th>\n",
       "    </tr>\n",
       "  </thead>\n",
       "  <tbody>\n",
       "    <tr>\n",
       "      <th>0</th>\n",
       "      <td>1</td>\n",
       "      <td>10</td>\n",
       "      <td>8.0</td>\n",
       "      <td>41</td>\n",
       "      <td>1</td>\n",
       "      <td>8</td>\n",
       "      <td>126</td>\n",
       "      <td>82</td>\n",
       "      <td>95</td>\n",
       "      <td>7000</td>\n",
       "      <td>2</td>\n",
       "      <td>Software Engineer</td>\n",
       "      <td>Female</td>\n",
       "    </tr>\n",
       "    <tr>\n",
       "      <th>1</th>\n",
       "      <td>2</td>\n",
       "      <td>8</td>\n",
       "      <td>7.0</td>\n",
       "      <td>44</td>\n",
       "      <td>1</td>\n",
       "      <td>6</td>\n",
       "      <td>138</td>\n",
       "      <td>74</td>\n",
       "      <td>66</td>\n",
       "      <td>9000</td>\n",
       "      <td>2</td>\n",
       "      <td>Accountant</td>\n",
       "      <td>Female</td>\n",
       "    </tr>\n",
       "    <tr>\n",
       "      <th>2</th>\n",
       "      <td>3</td>\n",
       "      <td>8</td>\n",
       "      <td>7.0</td>\n",
       "      <td>31</td>\n",
       "      <td>3</td>\n",
       "      <td>5</td>\n",
       "      <td>123</td>\n",
       "      <td>68</td>\n",
       "      <td>76</td>\n",
       "      <td>4000</td>\n",
       "      <td>3</td>\n",
       "      <td>Salesperson</td>\n",
       "      <td>Female</td>\n",
       "    </tr>\n",
       "    <tr>\n",
       "      <th>3</th>\n",
       "      <td>4</td>\n",
       "      <td>10</td>\n",
       "      <td>8.0</td>\n",
       "      <td>36</td>\n",
       "      <td>2</td>\n",
       "      <td>6</td>\n",
       "      <td>131</td>\n",
       "      <td>76</td>\n",
       "      <td>74</td>\n",
       "      <td>6000</td>\n",
       "      <td>2</td>\n",
       "      <td>Sales Representative</td>\n",
       "      <td>Female</td>\n",
       "    </tr>\n",
       "    <tr>\n",
       "      <th>4</th>\n",
       "      <td>5</td>\n",
       "      <td>10</td>\n",
       "      <td>8.0</td>\n",
       "      <td>37</td>\n",
       "      <td>3</td>\n",
       "      <td>3</td>\n",
       "      <td>103</td>\n",
       "      <td>67</td>\n",
       "      <td>89</td>\n",
       "      <td>7000</td>\n",
       "      <td>2</td>\n",
       "      <td>Lawyer</td>\n",
       "      <td>Female</td>\n",
       "    </tr>\n",
       "  </tbody>\n",
       "</table>\n",
       "</div>"
      ],
      "text/plain": [
       "   Person ID  Sleep Duration  Quality of Sleep  Age  Physical Activity Level  \\\n",
       "0          1              10               8.0   41                        1   \n",
       "1          2               8               7.0   44                        1   \n",
       "2          3               8               7.0   31                        3   \n",
       "3          4              10               8.0   36                        2   \n",
       "4          5              10               8.0   37                        3   \n",
       "\n",
       "   Stress Level  Blood Pressure 1  Blood Pressure 2  Heart Rate  Daily Steps  \\\n",
       "0             8               126                82          95         7000   \n",
       "1             6               138                74          66         9000   \n",
       "2             5               123                68          76         4000   \n",
       "3             6               131                76          74         6000   \n",
       "4             3               103                67          89         7000   \n",
       "\n",
       "   BMI Levels            Occupation  Gender  \n",
       "0           2     Software Engineer  Female  \n",
       "1           2            Accountant  Female  \n",
       "2           3           Salesperson  Female  \n",
       "3           2  Sales Representative  Female  \n",
       "4           2                Lawyer  Female  "
      ]
     },
     "execution_count": 3,
     "metadata": {},
     "output_type": "execute_result"
    }
   ],
   "source": [
    "df.head()"
   ]
  },
  {
   "cell_type": "code",
   "execution_count": 4,
   "metadata": {},
   "outputs": [
    {
     "name": "stdout",
     "output_type": "stream",
     "text": [
      "<class 'pandas.core.frame.DataFrame'>\n",
      "RangeIndex: 1000 entries, 0 to 999\n",
      "Data columns (total 13 columns):\n",
      " #   Column                   Non-Null Count  Dtype  \n",
      "---  ------                   --------------  -----  \n",
      " 0   Person ID                1000 non-null   int64  \n",
      " 1   Sleep Duration           1000 non-null   int64  \n",
      " 2   Quality of Sleep         1000 non-null   float64\n",
      " 3   Age                      1000 non-null   int64  \n",
      " 4   Physical Activity Level  1000 non-null   int64  \n",
      " 5   Stress Level             1000 non-null   int64  \n",
      " 6   Blood Pressure 1         1000 non-null   int64  \n",
      " 7   Blood Pressure 2         1000 non-null   int64  \n",
      " 8   Heart Rate               1000 non-null   int64  \n",
      " 9   Daily Steps              1000 non-null   int64  \n",
      " 10  BMI Levels               1000 non-null   int64  \n",
      " 11  Occupation               1000 non-null   object \n",
      " 12  Gender                   1000 non-null   object \n",
      "dtypes: float64(1), int64(10), object(2)\n",
      "memory usage: 101.7+ KB\n"
     ]
    }
   ],
   "source": [
    "df.info()"
   ]
  },
  {
   "cell_type": "code",
   "execution_count": 5,
   "metadata": {},
   "outputs": [
    {
     "data": {
      "text/plain": [
       "Person ID                  0\n",
       "Sleep Duration             0\n",
       "Quality of Sleep           0\n",
       "Age                        0\n",
       "Physical Activity Level    0\n",
       "Stress Level               0\n",
       "Blood Pressure 1           0\n",
       "Blood Pressure 2           0\n",
       "Heart Rate                 0\n",
       "Daily Steps                0\n",
       "BMI Levels                 0\n",
       "Occupation                 0\n",
       "Gender                     0\n",
       "dtype: int64"
      ]
     },
     "execution_count": 5,
     "metadata": {},
     "output_type": "execute_result"
    }
   ],
   "source": [
    "df.isnull().sum()"
   ]
  },
  {
   "cell_type": "code",
   "execution_count": 6,
   "metadata": {},
   "outputs": [
    {
     "data": {
      "text/plain": [
       "np.int64(0)"
      ]
     },
     "execution_count": 6,
     "metadata": {},
     "output_type": "execute_result"
    }
   ],
   "source": [
    "df.duplicated().sum()"
   ]
  },
  {
   "cell_type": "code",
   "execution_count": 7,
   "metadata": {},
   "outputs": [],
   "source": [
    "df.rename(columns={'BMI Levels': 'BMI Category'}, inplace=True)"
   ]
  },
  {
   "cell_type": "code",
   "execution_count": 8,
   "metadata": {},
   "outputs": [],
   "source": [
    "# Person ID -> irrelevant column\n",
    "\n",
    "df.drop(columns=[\"Person ID\"], inplace=True)"
   ]
  },
  {
   "cell_type": "code",
   "execution_count": 9,
   "metadata": {},
   "outputs": [],
   "source": [
    "label_encoder = LabelEncoder()\n",
    "df[\"Gender\"] = label_encoder.fit_transform(df[\"Gender\"])"
   ]
  },
  {
   "cell_type": "code",
   "execution_count": 10,
   "metadata": {},
   "outputs": [],
   "source": [
    "# i will apply it in the merge with all the files\n",
    "\n",
    "# encoder = OneHotEncoder(sparse_output=False)\n",
    "# occupation_encoded = encoder.fit_transform(df[[\"Occupation\"]])\n",
    "# occupation_df = pd.DataFrame(occupation_encoded, columns=encoder.get_feature_names_out([\"Occupation\"]))\n",
    "\n",
    "# df.drop(columns=[\"Occupation\"], inplace=True)\n",
    "# df = pd.concat([df.reset_index(drop=True), occupation_df], axis=1)"
   ]
  },
  {
   "cell_type": "code",
   "execution_count": 11,
   "metadata": {},
   "outputs": [
    {
     "data": {
      "text/plain": [
       "BMI Category\n",
       "3    355\n",
       "1    336\n",
       "2    309\n",
       "Name: count, dtype: int64"
      ]
     },
     "execution_count": 11,
     "metadata": {},
     "output_type": "execute_result"
    }
   ],
   "source": [
    "df[\"BMI Category\"].value_counts()"
   ]
  },
  {
   "cell_type": "code",
   "execution_count": 12,
   "metadata": {},
   "outputs": [],
   "source": [
    "# Convert \"Blood Pressure 1\" (\"126\") and \"Blood Pressure 2\" (\"82\") to \"Blood Pressure\" (\"126/82\")\n",
    "\n",
    "df['Blood Pressure'] = df['Blood Pressure 1'].astype(str) + '/' + df['Blood Pressure 2'].astype(str)"
   ]
  },
  {
   "cell_type": "code",
   "execution_count": 13,
   "metadata": {},
   "outputs": [],
   "source": [
    "df = df.drop(columns=[\"Blood Pressure 1\", \"Blood Pressure 2\"])"
   ]
  },
  {
   "cell_type": "code",
   "execution_count": 14,
   "metadata": {},
   "outputs": [],
   "source": [
    "# Convert \"Blood Pressure Ratio\" from string (\"126/82\") to numeric (1.51)\n",
    "df['Blood Pressure'] = df['Blood Pressure'].apply(lambda df: eval(df) if isinstance(df, str) else df)"
   ]
  },
  {
   "cell_type": "code",
   "execution_count": 15,
   "metadata": {},
   "outputs": [
    {
     "data": {
      "text/html": [
       "<div>\n",
       "<style scoped>\n",
       "    .dataframe tbody tr th:only-of-type {\n",
       "        vertical-align: middle;\n",
       "    }\n",
       "\n",
       "    .dataframe tbody tr th {\n",
       "        vertical-align: top;\n",
       "    }\n",
       "\n",
       "    .dataframe thead th {\n",
       "        text-align: right;\n",
       "    }\n",
       "</style>\n",
       "<table border=\"1\" class=\"dataframe\">\n",
       "  <thead>\n",
       "    <tr style=\"text-align: right;\">\n",
       "      <th></th>\n",
       "      <th>Sleep Duration</th>\n",
       "      <th>Quality of Sleep</th>\n",
       "      <th>Age</th>\n",
       "      <th>Physical Activity Level</th>\n",
       "      <th>Stress Level</th>\n",
       "      <th>Heart Rate</th>\n",
       "      <th>Daily Steps</th>\n",
       "      <th>BMI Category</th>\n",
       "      <th>Occupation</th>\n",
       "      <th>Gender</th>\n",
       "      <th>Blood Pressure</th>\n",
       "    </tr>\n",
       "  </thead>\n",
       "  <tbody>\n",
       "    <tr>\n",
       "      <th>0</th>\n",
       "      <td>10</td>\n",
       "      <td>8.0</td>\n",
       "      <td>41</td>\n",
       "      <td>1</td>\n",
       "      <td>8</td>\n",
       "      <td>95</td>\n",
       "      <td>7000</td>\n",
       "      <td>2</td>\n",
       "      <td>Software Engineer</td>\n",
       "      <td>0</td>\n",
       "      <td>1.536585</td>\n",
       "    </tr>\n",
       "    <tr>\n",
       "      <th>1</th>\n",
       "      <td>8</td>\n",
       "      <td>7.0</td>\n",
       "      <td>44</td>\n",
       "      <td>1</td>\n",
       "      <td>6</td>\n",
       "      <td>66</td>\n",
       "      <td>9000</td>\n",
       "      <td>2</td>\n",
       "      <td>Accountant</td>\n",
       "      <td>0</td>\n",
       "      <td>1.864865</td>\n",
       "    </tr>\n",
       "    <tr>\n",
       "      <th>2</th>\n",
       "      <td>8</td>\n",
       "      <td>7.0</td>\n",
       "      <td>31</td>\n",
       "      <td>3</td>\n",
       "      <td>5</td>\n",
       "      <td>76</td>\n",
       "      <td>4000</td>\n",
       "      <td>3</td>\n",
       "      <td>Salesperson</td>\n",
       "      <td>0</td>\n",
       "      <td>1.808824</td>\n",
       "    </tr>\n",
       "    <tr>\n",
       "      <th>3</th>\n",
       "      <td>10</td>\n",
       "      <td>8.0</td>\n",
       "      <td>36</td>\n",
       "      <td>2</td>\n",
       "      <td>6</td>\n",
       "      <td>74</td>\n",
       "      <td>6000</td>\n",
       "      <td>2</td>\n",
       "      <td>Sales Representative</td>\n",
       "      <td>0</td>\n",
       "      <td>1.723684</td>\n",
       "    </tr>\n",
       "    <tr>\n",
       "      <th>4</th>\n",
       "      <td>10</td>\n",
       "      <td>8.0</td>\n",
       "      <td>37</td>\n",
       "      <td>3</td>\n",
       "      <td>3</td>\n",
       "      <td>89</td>\n",
       "      <td>7000</td>\n",
       "      <td>2</td>\n",
       "      <td>Lawyer</td>\n",
       "      <td>0</td>\n",
       "      <td>1.537313</td>\n",
       "    </tr>\n",
       "  </tbody>\n",
       "</table>\n",
       "</div>"
      ],
      "text/plain": [
       "   Sleep Duration  Quality of Sleep  Age  Physical Activity Level  \\\n",
       "0              10               8.0   41                        1   \n",
       "1               8               7.0   44                        1   \n",
       "2               8               7.0   31                        3   \n",
       "3              10               8.0   36                        2   \n",
       "4              10               8.0   37                        3   \n",
       "\n",
       "   Stress Level  Heart Rate  Daily Steps  BMI Category            Occupation  \\\n",
       "0             8          95         7000             2     Software Engineer   \n",
       "1             6          66         9000             2            Accountant   \n",
       "2             5          76         4000             3           Salesperson   \n",
       "3             6          74         6000             2  Sales Representative   \n",
       "4             3          89         7000             2                Lawyer   \n",
       "\n",
       "   Gender  Blood Pressure  \n",
       "0       0        1.536585  \n",
       "1       0        1.864865  \n",
       "2       0        1.808824  \n",
       "3       0        1.723684  \n",
       "4       0        1.537313  "
      ]
     },
     "execution_count": 15,
     "metadata": {},
     "output_type": "execute_result"
    }
   ],
   "source": [
    "df.head()"
   ]
  },
  {
   "cell_type": "code",
   "execution_count": 16,
   "metadata": {},
   "outputs": [
    {
     "data": {
      "text/plain": [
       "array([[<Axes: title={'center': 'Sleep Duration'}>,\n",
       "        <Axes: title={'center': 'Quality of Sleep'}>,\n",
       "        <Axes: title={'center': 'Age'}>],\n",
       "       [<Axes: title={'center': 'Physical Activity Level'}>,\n",
       "        <Axes: title={'center': 'Stress Level'}>,\n",
       "        <Axes: title={'center': 'Heart Rate'}>],\n",
       "       [<Axes: title={'center': 'Daily Steps'}>,\n",
       "        <Axes: title={'center': 'BMI Category'}>,\n",
       "        <Axes: title={'center': 'Gender'}>],\n",
       "       [<Axes: title={'center': 'Blood Pressure'}>, <Axes: >, <Axes: >]],\n",
       "      dtype=object)"
      ]
     },
     "execution_count": 16,
     "metadata": {},
     "output_type": "execute_result"
    },
    {
     "data": {
      "image/png": "[encoded data removed]",
      "text/plain": [
       "<Figure size 1000x800 with 12 Axes>"
      ]
     },
     "metadata": {},
     "output_type": "display_data"
    }
   ],
   "source": [
    "df.hist(figsize=(10, 8))"
   ]
  },
  {
   "cell_type": "code",
   "execution_count": 17,
   "metadata": {},
   "outputs": [
    {
     "name": "stdout",
     "output_type": "stream",
     "text": [
      "\n",
      "Outlier Analysis for: Sleep Duration\n",
      "Q1: 6.0, Q3: 8.0, IQR: 2.0\n",
      "Lower Bound: 3.0, Upper Bound: 11.0\n",
      "Number of Outliers: 1\n",
      "Outliers: [2]\n",
      "\n",
      "\n",
      "Outlier Analysis for: Quality of Sleep\n",
      "Q1: 6.0, Q3: 7.0, IQR: 1.0\n",
      "Lower Bound: 4.5, Upper Bound: 8.5\n",
      "Number of Outliers: 1\n",
      "Outliers: [4.]\n",
      "\n",
      "\n",
      "Outlier Analysis for: Age\n",
      "Q1: 28.0, Q3: 41.0, IQR: 13.0\n",
      "Lower Bound: 8.5, Upper Bound: 60.5\n",
      "Number of Outliers: 7\n",
      "Outliers: [67  7 61  7  5 62 61]\n",
      "\n",
      "\n",
      "Outlier Analysis for: Physical Activity Level\n",
      "Q1: 2.0, Q3: 4.0, IQR: 2.0\n",
      "Lower Bound: -1.0, Upper Bound: 7.0\n",
      "Number of Outliers: 0\n",
      "Outliers: []\n",
      "\n",
      "\n",
      "Outlier Analysis for: Stress Level\n",
      "Q1: 4.0, Q3: 6.0, IQR: 2.0\n",
      "Lower Bound: 1.0, Upper Bound: 9.0\n",
      "Number of Outliers: 23\n",
      "Outliers: [-1 10 12 13 10 11  0 11  0 12  0 -1 10  0 10 10 -2 10 10 -2 10 10  0]\n",
      "\n",
      "\n",
      "Outlier Analysis for: Heart Rate\n",
      "Q1: 68.0, Q3: 82.0, IQR: 14.0\n",
      "Lower Bound: 47.0, Upper Bound: 103.0\n",
      "Number of Outliers: 5\n",
      "Outliers: [ 46 104  44 105 105]\n",
      "\n",
      "\n",
      "Outlier Analysis for: Daily Steps\n",
      "Q1: 7000.0, Q3: 9000.0, IQR: 2000.0\n",
      "Lower Bound: 4000.0, Upper Bound: 12000.0\n",
      "Number of Outliers: 26\n",
      "Outliers: [ 3000  3000 13000 14000 15000  3000 13000 14000 14000 14000  2000  2000\n",
      "  3000 13000 13000 13000 14000 13000 13000 14000 13000  2000  3000  3000\n",
      "  3000  3000]\n",
      "\n",
      "\n",
      "Outlier Analysis for: BMI Category\n",
      "Q1: 1.0, Q3: 3.0, IQR: 2.0\n",
      "Lower Bound: -2.0, Upper Bound: 6.0\n",
      "Number of Outliers: 0\n",
      "Outliers: []\n",
      "\n",
      "\n",
      "Outlier Analysis for: Gender\n",
      "Q1: 0.0, Q3: 1.0, IQR: 1.0\n",
      "Lower Bound: -1.5, Upper Bound: 2.5\n",
      "Number of Outliers: 0\n",
      "Outliers: []\n",
      "\n",
      "\n",
      "Outlier Analysis for: Blood Pressure\n",
      "Q1: 1.3766233766233766, Q3: 1.6488241488241488, IQR: 0.2722007722007722\n",
      "Lower Bound: 0.9683222183222183, Upper Bound: 2.057125307125307\n",
      "Number of Outliers: 10\n",
      "Outliers: [2.05714286 2.125      2.06896552 2.25       2.11594203 2.05970149\n",
      " 2.06779661 2.12698413 2.07692308 2.13846154]\n",
      "\n"
     ]
    }
   ],
   "source": [
    "# we do not have outliers\n",
    "# =======================\n",
    "\n",
    "numerical_columns = df.select_dtypes(include=['number']).columns\n",
    "\n",
    "# Function to detect outliers using IQR\n",
    "def detect_outliers_iqr(df, columns):\n",
    "    outlier_info = {}\n",
    "\n",
    "    for col in columns:\n",
    "        Q1 = df[col].quantile(0.25)\n",
    "        Q3 = df[col].quantile(0.75)\n",
    "        IQR = Q3 - Q1\n",
    "        lower_bound = Q1 - 1.5 * IQR\n",
    "        upper_bound = Q3 + 1.5 * IQR\n",
    "\n",
    "        # Count number of outliers\n",
    "        outliers = df[(df[col] < lower_bound) | (df[col] > upper_bound)][col]\n",
    "\n",
    "        outlier_info[col] = {\n",
    "            \"Q1\": Q1, \"Q3\": Q3, \"IQR\": IQR,\n",
    "            \"Lower Bound\": lower_bound, \"Upper Bound\": upper_bound,\n",
    "            \"Num Outliers\": len(outliers),\n",
    "            \"Outliers\": outliers.values  # Show outlier values\n",
    "        }\n",
    "\n",
    "    return outlier_info\n",
    "\n",
    "# Detect outliers in all numerical columns\n",
    "outliers = detect_outliers_iqr(df, numerical_columns)\n",
    "\n",
    "for col, info in outliers.items():\n",
    "    print(f\"\\nOutlier Analysis for: {col}\")\n",
    "    print(f\"Q1: {info['Q1']}, Q3: {info['Q3']}, IQR: {info['IQR']}\")\n",
    "    print(f\"Lower Bound: {info['Lower Bound']}, Upper Bound: {info['Upper Bound']}\")\n",
    "    print(f\"Number of Outliers: {info['Num Outliers']}\")\n",
    "    print(f\"Outliers: {info['Outliers']}\\n\")"
   ]
  },
  {
   "cell_type": "code",
   "execution_count": 18,
   "metadata": {},
   "outputs": [],
   "source": [
    "df.to_csv('sixth_clean.csv', index=False)"
   ]
  }
 ],
 "metadata": {
  "kernelspec": {
   "display_name": "Python 3",
   "language": "python",
   "name": "python3"
  },
  "language_info": {
   "codemirror_mode": {
    "name": "ipython",
    "version": 3
   },
   "file_extension": ".py",
   "mimetype": "text/x-python",
   "name": "python",
   "nbconvert_exporter": "python",
   "pygments_lexer": "ipython3",
   "version": "3.12.4"
  }
 },
 "nbformat": 4,
 "nbformat_minor": 2
}
